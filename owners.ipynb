{
 "cells": [
  {
   "cell_type": "code",
   "execution_count": 8,
   "metadata": {},
   "outputs": [],
   "source": [
    "import os\n",
    "import sqlite3\n",
    "\n",
    "import matplotlib.pyplot as plt\n",
    "import numpy as np\n",
    "import nfts.dataset"
   ]
  },
  {
   "cell_type": "markdown",
   "metadata": {},
   "source": [
    "### Dataset Opening"
   ]
  },
  {
   "cell_type": "code",
   "execution_count": 9,
   "metadata": {},
   "outputs": [
    {
     "name": "stdout",
     "output_type": "stream",
     "text": [
      "\n",
      "The Moonstream NFTs dataset\n",
      "===========================\n",
      "\n",
      "To load the NFTs dataset from a SQLite file, run:\n",
      ">>> ds = nfts.dataset.FromSQLite(<path to sqlite database>)\n",
      "\n",
      "This dataset consists of the following dataframes:\n",
      "\n",
      "Dataframe: nfts\n",
      "Load using:\n",
      "\tnfts_df = ds.load_dataframe(<sqlite connection or path to sqlite db>, \"nfts\")\n",
      "\n",
      "Describes the NFT contracts represented in this dataset, with a name and symbol if they were available at time of crawl.\n",
      "\n",
      "Columns:\n",
      "1. address: The Ethereum address of the NFT contract.\n",
      "2. name: The name of the collection of NFTs that the contract represents.\n",
      "3. symbol: The symbol of the collection of NFTs that the contract represents.\n",
      "\n",
      "- - -\n",
      "\n",
      "Dataframe: mints\n",
      "Load using:\n",
      "\tmints_df = ds.load_dataframe(<sqlite connection or path to sqlite db>, \"mints\")\n",
      "\n",
      "All token mint events crawled in this dataset.\n",
      "\n",
      "Columns:\n",
      "1. event_id: A unique event ID associated with the event.\n",
      "2. transaction_hash: The hash of the transaction which triggered the event.\n",
      "3. block_number: The transaction block in which the transaction was mined.\n",
      "4. nft_address: The address of the NFT collection containing the minted token.\n",
      "5. token_id: The ID of the token that was minted.\n",
      "6. from_address: The \"from\" address for the transfer event. For a mint, this should be the 0 address: 0x0000000000000000000000000000000000000000.\n",
      "7. to_address: The \"to\" address for the transfer event. This represents the owner of the freshly minted token.\n",
      "8. transaction_value: The amount of WEI that were sent with the transaction in which the token was minted.\n",
      "9. timestamp: The time at which the mint operation was mined into the blockchain (this is the timestamp for the mined block).\n",
      "\n",
      "- - -\n",
      "\n",
      "Dataframe: transfers\n",
      "Load using:\n",
      "\ttransfers_df = ds.load_dataframe(<sqlite connection or path to sqlite db>, \"transfers\")\n",
      "\n",
      "All token transfer events crawled in this dataset.\n",
      "\n",
      "Columns:\n",
      "1. event_id: A unique event ID associated with the event.\n",
      "2. transaction_hash: The hash of the transaction which triggered the event.\n",
      "3. block_number: The transaction block in which the transaction was mined.\n",
      "4. nft_address: The address of the NFT collection containing the transferred token.\n",
      "5. token_id: The ID of the token that was transferred.\n",
      "6. from_address: The \"from\" address for the transfer event. This is the address that owned the token at the *start* of the transfer.\n",
      "7. to_address: The \"to\" address for the transfer event. This is the address that owned the token at the *end* of the transfer.\n",
      "8. transaction_value: The amount of WEI that were sent with the transaction in which the token was transferred.\n",
      "9. timestamp: The time at which the transfer operation was mined into the blockchain (this is the timestamp for the mined block).\n",
      "\n",
      "- - -\n",
      "\n",
      "Dataframe: current_owners\n",
      "Load using:\n",
      "\tcurrent_owners_df = ds.load_dataframe(<sqlite connection or path to sqlite db>, \"current_owners\")\n",
      "\n",
      "This table is derived from the nfts, mints, and transfers tables. It represents the current owner of each token in the dataset.\n",
      "\n",
      "Columns:\n",
      "1. nft_address: The address of the NFT collection containing the token whose ownership we are denoting.\n",
      "2. token_id: The ID of the token (inside the collection) whose ownership we are denoting.\n",
      "3. owner: The address that owned the token at the time of construction of this dataset.\n",
      "\n",
      "- - -\n",
      "\n",
      "Dataframe: current_market_values\n",
      "Load using:\n",
      "\tcurrent_market_values_df = ds.load_dataframe(<sqlite connection or path to sqlite db>, \"current_market_values\")\n",
      "\n",
      "This table is derived from the nfts, mints, and transfers tables. It represents the current market value (in WEI) of each token in the dataset.\n",
      "\n",
      "Columns:\n",
      "1. nft_address: The address of the NFT collection containing the token whose market value we are denoting.\n",
      "2. token_id: The ID of the token (inside the collection) whose market value we are denoting.\n",
      "3. market_value: The estimated market value of the token at the time of construction of this dataset.\n",
      "\n",
      "For this dataset, we estimate the market value as the last non-zero transaction value for a transfer involving this token.\n",
      "This estimate may be inaccurate for some transfers (e.g. multiple token transfers made by an escrow contract in a single transaction)\n",
      "but ought to be reasonably accurate for a large majority of tokens.\n",
      "\n",
      "- - -\n",
      "\n",
      "Dataframe: transfer_statistics_by_address\n",
      "Load using:\n",
      "\ttransfer_statistics_by_address_df = ds.load_dataframe(<sqlite connection or path to sqlite db>, \"transfer_statistics_by_address\")\n",
      "\n",
      "This table is derived from the nfts, mints, and transfers tables. For each address that participated in\n",
      "at least one NFT transfer between April 1, 2021 and September 25, 2021, this table shows exactly how many NFTs that address transferred to\n",
      "other addresses and how many NFT transfers that address was the recipient of.\n",
      "\n",
      "Columns:\n",
      "1. address: An Ethereum address that participated in at least one NFT transfer between April 1, 2021 and September 25, 2021.\n",
      "2. transfers_out: The number of NFTs that the given address transferred to any other address between April 1, 2021 and September 25, 2021.\n",
      "3. transfers_in: The number of NFTs that any other address transferred to given address between April 1, 2021 and September 25, 2021.\n",
      "\n",
      "- - -\n"
     ]
    }
   ],
   "source": [
    "dirname = os.path.dirname(os.path.abspath(\"__file__\"))\n",
    "DATASET_PATH = os.path.join(dirname, 'nfts.sqlite')\n",
    "ds = nfts.dataset.FromSQLite(DATASET_PATH)\n",
    "\n",
    "# dataset description\n",
    "# nfts.dataset.explain()\n",
    "\n",
    "# load current owners dataframe\n",
    "current_owners_df = ds.load_dataframe(\"current_owners\")"
   ]
  },
  {
   "cell_type": "markdown",
   "metadata": {},
   "source": [
    "### Who owns NFTs?"
   ]
  },
  {
   "cell_type": "code",
   "execution_count": 10,
   "metadata": {},
   "outputs": [
    {
     "data": {
      "text/html": [
       "<div>\n",
       "<style scoped>\n",
       "    .dataframe tbody tr th:only-of-type {\n",
       "        vertical-align: middle;\n",
       "    }\n",
       "\n",
       "    .dataframe tbody tr th {\n",
       "        vertical-align: top;\n",
       "    }\n",
       "\n",
       "    .dataframe thead th {\n",
       "        text-align: right;\n",
       "    }\n",
       "</style>\n",
       "<table border=\"1\" class=\"dataframe\">\n",
       "  <thead>\n",
       "    <tr style=\"text-align: right;\">\n",
       "      <th></th>\n",
       "      <th>nft_address</th>\n",
       "      <th>token_id</th>\n",
       "      <th>owner</th>\n",
       "    </tr>\n",
       "  </thead>\n",
       "  <tbody>\n",
       "    <tr>\n",
       "      <th>0</th>\n",
       "      <td>0x00000000000b7F8E8E8Ad148f9d53303Bfe20796</td>\n",
       "      <td>0</td>\n",
       "      <td>0xb776cAb26B9e6Be821842DC0cc0e8217489a4581</td>\n",
       "    </tr>\n",
       "    <tr>\n",
       "      <th>1</th>\n",
       "      <td>0x00000000000b7F8E8E8Ad148f9d53303Bfe20796</td>\n",
       "      <td>1</td>\n",
       "      <td>0x8A73024B39A4477a5Dc43fD6360e446851AD1D28</td>\n",
       "    </tr>\n",
       "    <tr>\n",
       "      <th>2</th>\n",
       "      <td>0x00000000000b7F8E8E8Ad148f9d53303Bfe20796</td>\n",
       "      <td>10</td>\n",
       "      <td>0x5e5C817E9264B46cBBB980198684Ad9d14f3e0B4</td>\n",
       "    </tr>\n",
       "    <tr>\n",
       "      <th>3</th>\n",
       "      <td>0x00000000000b7F8E8E8Ad148f9d53303Bfe20796</td>\n",
       "      <td>11</td>\n",
       "      <td>0x8376f63c13b99D3eedfA51ddd77Ff375279B3Ba0</td>\n",
       "    </tr>\n",
       "    <tr>\n",
       "      <th>4</th>\n",
       "      <td>0x00000000000b7F8E8E8Ad148f9d53303Bfe20796</td>\n",
       "      <td>12</td>\n",
       "      <td>0xb5e34552F32BA9226C987769BF6555a538510BA8</td>\n",
       "    </tr>\n",
       "  </tbody>\n",
       "</table>\n",
       "</div>"
      ],
      "text/plain": [
       "                                  nft_address token_id  \\\n",
       "0  0x00000000000b7F8E8E8Ad148f9d53303Bfe20796        0   \n",
       "1  0x00000000000b7F8E8E8Ad148f9d53303Bfe20796        1   \n",
       "2  0x00000000000b7F8E8E8Ad148f9d53303Bfe20796       10   \n",
       "3  0x00000000000b7F8E8E8Ad148f9d53303Bfe20796       11   \n",
       "4  0x00000000000b7F8E8E8Ad148f9d53303Bfe20796       12   \n",
       "\n",
       "                                        owner  \n",
       "0  0xb776cAb26B9e6Be821842DC0cc0e8217489a4581  \n",
       "1  0x8A73024B39A4477a5Dc43fD6360e446851AD1D28  \n",
       "2  0x5e5C817E9264B46cBBB980198684Ad9d14f3e0B4  \n",
       "3  0x8376f63c13b99D3eedfA51ddd77Ff375279B3Ba0  \n",
       "4  0xb5e34552F32BA9226C987769BF6555a538510BA8  "
      ]
     },
     "execution_count": 10,
     "metadata": {},
     "output_type": "execute_result"
    }
   ],
   "source": [
    "current_owners_df.head()"
   ]
  },
  {
   "cell_type": "code",
   "execution_count": 11,
   "metadata": {},
   "outputs": [
    {
     "name": "stdout",
     "output_type": "stream",
     "text": [
      "                                             owner  num_tokens\n",
      "7272    0x02E4103b8A3c55AcDDF298311a9928f9Fe27822C      100045\n",
      "0       0x0000000000000000000000000000000000000000       83548\n",
      "470227  0xE052113bd7D7700d623414a0a4585BCaE754E9d5       51028\n",
      "562045  0xcDA72070E455bb31C7690a170224Ce43623d0B6f       50131\n",
      "369228  0x96bEE49d3386d674bF4E956D9B3ce61b9540409D       36751\n",
      "439086  0xC69b4c6fFDBaF843A0d0588c99E3C67f27069BEa       32905\n",
      "427270  0xBa0d01220a7CeA942596123102535F800f558763       32691\n",
      "7       0x000000000000000000000000000000000000dEaD       19758\n",
      "277     0x0008d343091EF8BD3EFA730F6aAE5A26a285C7a2       12137\n",
      "454705  0xD387A6E4e84a6C86bd90C158C6028A58CC8Ac459       11497\n",
      "574169  0xd5a9C4a92dDE274e126f82b215Fccb511147Cd8e       11274\n",
      "93652   0x262492D7278c07444972f5AB4fBdDE10D4ca8BeA       10042\n",
      "455404  0xD41a6AdeD13841121A15E503fE0b7a146bDcbE9f       10004\n",
      "172177  0x4641C11787474940EB4b0EA578886c066fA28D40        7447\n",
      "529401  0xb104371D5a2680fB0d47eA9A3aA2348392454186        7425\n",
      "279223  0x721931508DF2764fD4F70C53Da646Cb8aEd16acE        7264\n",
      "611258  0xf459B83f676467e55Ed557a45B1E64569450F051        6877\n",
      "289592  0x76568e1147c72F770c485c46286F0DcEFdf14f05        6714\n",
      "25817   0x0AbB75F676D0c131C04324DD98150a39213edd41        6445\n",
      "529886  0xb1690C08E213a35Ed9bAb7B318DE14420FB57d8C        5879\n"
     ]
    }
   ],
   "source": [
    "top_owners_df = current_owners_df.groupby(['owner'], as_index=False).size().rename(columns={\"size\":\"num_tokens\"})\n",
    "top_owners_df.sort_values(\"num_tokens\", inplace=True, ascending=False)\n",
    "\n",
    "print(top_owners_df.head(20))"
   ]
  },
  {
   "cell_type": "markdown",
   "metadata": {},
   "source": [
    "### NFT ownership"
   ]
  },
  {
   "cell_type": "code",
   "execution_count": 12,
   "metadata": {},
   "outputs": [
    {
     "data": {
      "image/png": "[encoded data removed]",
      "text/plain": [
       "<Figure size 432x288 with 1 Axes>"
      ]
     },
     "metadata": {
      "needs_background": "light"
     },
     "output_type": "display_data"
    }
   ],
   "source": [
    "plt.xlabel('Numbers of tokens owned - n')\n",
    "plt.ylabel('Numbers of addresses owning n tokens (log scale)')\n",
    "_, _, _ = plt.hist(top_owners_df['num_tokens'], bins=100, log=True)"
   ]
  },
  {
   "cell_type": "markdown",
   "metadata": {},
   "source": [
    "### Low Scale Owners"
   ]
  },
  {
   "cell_type": "code",
   "execution_count": 13,
   "metadata": {},
   "outputs": [
    {
     "data": {
      "text/plain": [
       "(array([6.02801e+05, 1.28570e+04, 4.08900e+03, 1.92700e+03, 1.06600e+03,\n",
       "        6.53000e+02, 4.05000e+02, 2.90000e+02, 2.15000e+02, 1.71000e+02,\n",
       "        1.34000e+02, 9.30000e+01, 9.80000e+01, 7.20000e+01, 3.90000e+01,\n",
       "        4.50000e+01, 6.40000e+01, 4.20000e+01, 2.20000e+01, 2.20000e+01,\n",
       "        2.10000e+01, 1.50000e+01, 1.90000e+01, 7.00000e+00, 1.40000e+01,\n",
       "        1.50000e+01, 1.00000e+01, 9.00000e+00, 6.00000e+00, 5.00000e+00]),\n",
       " array([1.00000000e+00, 5.06666667e+01, 1.00333333e+02, 1.50000000e+02,\n",
       "        1.99666667e+02, 2.49333333e+02, 2.99000000e+02, 3.48666667e+02,\n",
       "        3.98333333e+02, 4.48000000e+02, 4.97666667e+02, 5.47333333e+02,\n",
       "        5.97000000e+02, 6.46666667e+02, 6.96333333e+02, 7.46000000e+02,\n",
       "        7.95666667e+02, 8.45333333e+02, 8.95000000e+02, 9.44666667e+02,\n",
       "        9.94333333e+02, 1.04400000e+03, 1.09366667e+03, 1.14333333e+03,\n",
       "        1.19300000e+03, 1.24266667e+03, 1.29233333e+03, 1.34200000e+03,\n",
       "        1.39166667e+03, 1.44133333e+03, 1.49100000e+03]),\n",
       " <BarContainer object of 30 artists>)"
      ]
     },
     "execution_count": 13,
     "metadata": {},
     "output_type": "execute_result"
    },
    {
     "data": {
      "image/png": "[encoded data removed]",
      "text/plain": [
       "<Figure size 432x288 with 1 Axes>"
      ]
     },
     "metadata": {
      "needs_background": "light"
     },
     "output_type": "display_data"
    }
   ],
   "source": [
    "scale_cutoff = 1500\n",
    "low_scale_owners = [num_tokens for num_tokens in top_owners_df['num_tokens'] \n",
    "                    if num_tokens<=scale_cutoff]\n",
    "\n",
    "plt.xlabel(f'Numbers of tokens owned - n < {scale_cutoff}')\n",
    "plt.ylabel('Numbers of addresses owning n tokens')\n",
    "plt.hist(low_scale_owners, bins=int(scale_cutoff/50), log=False)"
   ]
  },
  {
   "cell_type": "code",
   "execution_count": 14,
   "metadata": {},
   "outputs": [
    {
     "data": {
      "text/plain": [
       "(array([6.02801e+05, 1.28570e+04, 4.08900e+03, 1.92700e+03, 1.06600e+03,\n",
       "        6.53000e+02, 4.05000e+02, 2.90000e+02, 2.15000e+02, 1.71000e+02,\n",
       "        1.34000e+02, 9.30000e+01, 9.80000e+01, 7.20000e+01, 3.90000e+01,\n",
       "        4.50000e+01, 6.40000e+01, 4.20000e+01, 2.20000e+01, 2.20000e+01,\n",
       "        2.10000e+01, 1.50000e+01, 1.90000e+01, 7.00000e+00, 1.40000e+01,\n",
       "        1.50000e+01, 1.00000e+01, 9.00000e+00, 6.00000e+00, 5.00000e+00]),\n",
       " array([1.00000000e+00, 5.06666667e+01, 1.00333333e+02, 1.50000000e+02,\n",
       "        1.99666667e+02, 2.49333333e+02, 2.99000000e+02, 3.48666667e+02,\n",
       "        3.98333333e+02, 4.48000000e+02, 4.97666667e+02, 5.47333333e+02,\n",
       "        5.97000000e+02, 6.46666667e+02, 6.96333333e+02, 7.46000000e+02,\n",
       "        7.95666667e+02, 8.45333333e+02, 8.95000000e+02, 9.44666667e+02,\n",
       "        9.94333333e+02, 1.04400000e+03, 1.09366667e+03, 1.14333333e+03,\n",
       "        1.19300000e+03, 1.24266667e+03, 1.29233333e+03, 1.34200000e+03,\n",
       "        1.39166667e+03, 1.44133333e+03, 1.49100000e+03]),\n",
       " <BarContainer object of 30 artists>)"
      ]
     },
     "execution_count": 14,
     "metadata": {},
     "output_type": "execute_result"
    },
    {
     "data": {
      "image/png": "[encoded data removed]",
      "text/plain": [
       "<Figure size 432x288 with 1 Axes>"
      ]
     },
     "metadata": {
      "needs_background": "light"
     },
     "output_type": "display_data"
    }
   ],
   "source": [
    "plt.xlabel(f'Numbers of tokens owned - n < {scale_cutoff}')\n",
    "plt.ylabel('Numbers of addresses owning n tokens (log scale)')\n",
    "plt.hist(low_scale_owners, bins=int(scale_cutoff/50), log=True)"
   ]
  },
  {
   "cell_type": "markdown",
   "metadata": {},
   "source": [
    "### Conclusions"
   ]
  },
  {
   "cell_type": "markdown",
   "metadata": {},
   "source": []
  }
 ],
 "metadata": {
  "interpreter": {
   "hash": "262e18fdf0b1640c739f66dc97f184ccd4a584f281018b2a395f3129eb71fae7"
  },
  "kernelspec": {
   "display_name": "Python 3.9.7 ('web3')",
   "language": "python",
   "name": "python3"
  },
  "language_info": {
   "codemirror_mode": {
    "name": "ipython",
    "version": 3
   },
   "file_extension": ".py",
   "mimetype": "text/x-python",
   "name": "python",
   "nbconvert_exporter": "python",
   "pygments_lexer": "ipython3",
   "version": "3.9.7"
  },
  "orig_nbformat": 4
 },
 "nbformat": 4,
 "nbformat_minor": 2
}
