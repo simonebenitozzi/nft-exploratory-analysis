{
 "cells": [
  {
   "cell_type": "code",
   "execution_count": 1,
   "metadata": {},
   "outputs": [],
   "source": [
    "import os\n",
    "import sqlite3\n",
    "\n",
    "import matplotlib.pyplot as plt\n",
    "import numpy as np\n",
    "import nfts.dataset\n",
    "\n",
    "import pandas as pd\n",
    "\n",
    "from nft_analysis_functions import range_analysis"
   ]
  },
  {
   "cell_type": "code",
   "execution_count": 2,
   "metadata": {},
   "outputs": [],
   "source": [
    "dirname = os.path.dirname(os.path.abspath(\"__file__\"))\n",
    "DATASET_PATH = os.path.join(dirname, 'nfts.sqlite')\n",
    "ds = nfts.dataset.FromSQLite(DATASET_PATH)\n",
    "\n",
    "# load current owners dataframe\n",
    "current_owners_df = ds.load_dataframe(\"current_owners\")"
   ]
  },
  {
   "cell_type": "markdown",
   "metadata": {},
   "source": [
    "# Ownership Distribution\n",
    "This Section will cover how NFTs are distributed among different owners, analyzing in particular addresses that owns multiple tokens"
   ]
  },
  {
   "cell_type": "code",
   "execution_count": 3,
   "metadata": {},
   "outputs": [
    {
     "data": {
      "text/html": [
       "<div>\n",
       "<style scoped>\n",
       "    .dataframe tbody tr th:only-of-type {\n",
       "        vertical-align: middle;\n",
       "    }\n",
       "\n",
       "    .dataframe tbody tr th {\n",
       "        vertical-align: top;\n",
       "    }\n",
       "\n",
       "    .dataframe thead th {\n",
       "        text-align: right;\n",
       "    }\n",
       "</style>\n",
       "<table border=\"1\" class=\"dataframe\">\n",
       "  <thead>\n",
       "    <tr style=\"text-align: right;\">\n",
       "      <th></th>\n",
       "      <th>nft_address</th>\n",
       "      <th>token_id</th>\n",
       "      <th>owner</th>\n",
       "    </tr>\n",
       "  </thead>\n",
       "  <tbody>\n",
       "    <tr>\n",
       "      <th>0</th>\n",
       "      <td>0x00000000000b7F8E8E8Ad148f9d53303Bfe20796</td>\n",
       "      <td>0</td>\n",
       "      <td>0xb776cAb26B9e6Be821842DC0cc0e8217489a4581</td>\n",
       "    </tr>\n",
       "    <tr>\n",
       "      <th>1</th>\n",
       "      <td>0x00000000000b7F8E8E8Ad148f9d53303Bfe20796</td>\n",
       "      <td>1</td>\n",
       "      <td>0x8A73024B39A4477a5Dc43fD6360e446851AD1D28</td>\n",
       "    </tr>\n",
       "    <tr>\n",
       "      <th>2</th>\n",
       "      <td>0x00000000000b7F8E8E8Ad148f9d53303Bfe20796</td>\n",
       "      <td>10</td>\n",
       "      <td>0x5e5C817E9264B46cBBB980198684Ad9d14f3e0B4</td>\n",
       "    </tr>\n",
       "    <tr>\n",
       "      <th>3</th>\n",
       "      <td>0x00000000000b7F8E8E8Ad148f9d53303Bfe20796</td>\n",
       "      <td>11</td>\n",
       "      <td>0x8376f63c13b99D3eedfA51ddd77Ff375279B3Ba0</td>\n",
       "    </tr>\n",
       "    <tr>\n",
       "      <th>4</th>\n",
       "      <td>0x00000000000b7F8E8E8Ad148f9d53303Bfe20796</td>\n",
       "      <td>12</td>\n",
       "      <td>0xb5e34552F32BA9226C987769BF6555a538510BA8</td>\n",
       "    </tr>\n",
       "  </tbody>\n",
       "</table>\n",
       "</div>"
      ],
      "text/plain": [
       "                                  nft_address token_id  \\\n",
       "0  0x00000000000b7F8E8E8Ad148f9d53303Bfe20796        0   \n",
       "1  0x00000000000b7F8E8E8Ad148f9d53303Bfe20796        1   \n",
       "2  0x00000000000b7F8E8E8Ad148f9d53303Bfe20796       10   \n",
       "3  0x00000000000b7F8E8E8Ad148f9d53303Bfe20796       11   \n",
       "4  0x00000000000b7F8E8E8Ad148f9d53303Bfe20796       12   \n",
       "\n",
       "                                        owner  \n",
       "0  0xb776cAb26B9e6Be821842DC0cc0e8217489a4581  \n",
       "1  0x8A73024B39A4477a5Dc43fD6360e446851AD1D28  \n",
       "2  0x5e5C817E9264B46cBBB980198684Ad9d14f3e0B4  \n",
       "3  0x8376f63c13b99D3eedfA51ddd77Ff375279B3Ba0  \n",
       "4  0xb5e34552F32BA9226C987769BF6555a538510BA8  "
      ]
     },
     "execution_count": 3,
     "metadata": {},
     "output_type": "execute_result"
    }
   ],
   "source": [
    "current_owners_df.head()"
   ]
  },
  {
   "cell_type": "code",
   "execution_count": 4,
   "metadata": {},
   "outputs": [
    {
     "data": {
      "text/html": [
       "<div>\n",
       "<style scoped>\n",
       "    .dataframe tbody tr th:only-of-type {\n",
       "        vertical-align: middle;\n",
       "    }\n",
       "\n",
       "    .dataframe tbody tr th {\n",
       "        vertical-align: top;\n",
       "    }\n",
       "\n",
       "    .dataframe thead th {\n",
       "        text-align: right;\n",
       "    }\n",
       "</style>\n",
       "<table border=\"1\" class=\"dataframe\">\n",
       "  <thead>\n",
       "    <tr style=\"text-align: right;\">\n",
       "      <th></th>\n",
       "      <th>owner</th>\n",
       "      <th>num_tokens</th>\n",
       "    </tr>\n",
       "  </thead>\n",
       "  <tbody>\n",
       "    <tr>\n",
       "      <th>0</th>\n",
       "      <td>0x0000000000000000000000000000000000000000</td>\n",
       "      <td>83548</td>\n",
       "    </tr>\n",
       "    <tr>\n",
       "      <th>1</th>\n",
       "      <td>0x0000000000000000000000000000000000000001</td>\n",
       "      <td>5531</td>\n",
       "    </tr>\n",
       "    <tr>\n",
       "      <th>2</th>\n",
       "      <td>0x0000000000000000000000000000000000000069</td>\n",
       "      <td>1</td>\n",
       "    </tr>\n",
       "    <tr>\n",
       "      <th>3</th>\n",
       "      <td>0x00000000000000000000000000000000000000ec</td>\n",
       "      <td>1</td>\n",
       "    </tr>\n",
       "    <tr>\n",
       "      <th>4</th>\n",
       "      <td>0x00000000000000000000000000000000000000ff</td>\n",
       "      <td>1</td>\n",
       "    </tr>\n",
       "  </tbody>\n",
       "</table>\n",
       "</div>"
      ],
      "text/plain": [
       "                                        owner  num_tokens\n",
       "0  0x0000000000000000000000000000000000000000       83548\n",
       "1  0x0000000000000000000000000000000000000001        5531\n",
       "2  0x0000000000000000000000000000000000000069           1\n",
       "3  0x00000000000000000000000000000000000000ec           1\n",
       "4  0x00000000000000000000000000000000000000ff           1"
      ]
     },
     "execution_count": 4,
     "metadata": {},
     "output_type": "execute_result"
    }
   ],
   "source": [
    "tokens_per_owner_df = current_owners_df.groupby('owner', as_index=False)['nft_address'].size().rename(columns={'size':'num_tokens'})\n",
    "tokens_per_owner_df.head()"
   ]
  },
  {
   "cell_type": "code",
   "execution_count": 5,
   "metadata": {},
   "outputs": [
    {
     "data": {
      "text/html": [
       "<div>\n",
       "<style scoped>\n",
       "    .dataframe tbody tr th:only-of-type {\n",
       "        vertical-align: middle;\n",
       "    }\n",
       "\n",
       "    .dataframe tbody tr th {\n",
       "        vertical-align: top;\n",
       "    }\n",
       "\n",
       "    .dataframe thead th {\n",
       "        text-align: right;\n",
       "    }\n",
       "</style>\n",
       "<table border=\"1\" class=\"dataframe\">\n",
       "  <thead>\n",
       "    <tr style=\"text-align: right;\">\n",
       "      <th></th>\n",
       "      <th>NFTs owned</th>\n",
       "      <th>number of owners</th>\n",
       "      <th>% of owners</th>\n",
       "      <th>tokens owned</th>\n",
       "      <th>% of tokens owned</th>\n",
       "    </tr>\n",
       "  </thead>\n",
       "  <tbody>\n",
       "    <tr>\n",
       "      <th>0</th>\n",
       "      <td>1 &lt;= n</td>\n",
       "      <td>625354</td>\n",
       "      <td>100.0%</td>\n",
       "      <td>7020950</td>\n",
       "      <td>100.0%</td>\n",
       "    </tr>\n",
       "    <tr>\n",
       "      <th>1</th>\n",
       "      <td>n = 1</td>\n",
       "      <td>259806</td>\n",
       "      <td>41.55%</td>\n",
       "      <td>259806</td>\n",
       "      <td>3.7%</td>\n",
       "    </tr>\n",
       "    <tr>\n",
       "      <th>2</th>\n",
       "      <td>1 &lt;= n &lt;= 2</td>\n",
       "      <td>348948</td>\n",
       "      <td>55.8%</td>\n",
       "      <td>438090</td>\n",
       "      <td>6.24%</td>\n",
       "    </tr>\n",
       "    <tr>\n",
       "      <th>3</th>\n",
       "      <td>1 &lt;= n &lt;= 5</td>\n",
       "      <td>456399</td>\n",
       "      <td>72.98%</td>\n",
       "      <td>842892</td>\n",
       "      <td>12.01%</td>\n",
       "    </tr>\n",
       "    <tr>\n",
       "      <th>4</th>\n",
       "      <td>1 &lt;= n &lt;= 10</td>\n",
       "      <td>520834</td>\n",
       "      <td>83.29%</td>\n",
       "      <td>1335177</td>\n",
       "      <td>19.02%</td>\n",
       "    </tr>\n",
       "    <tr>\n",
       "      <th>5</th>\n",
       "      <td>1 &lt;= n &lt;= 100</td>\n",
       "      <td>615658</td>\n",
       "      <td>98.45%</td>\n",
       "      <td>4036089</td>\n",
       "      <td>57.49%</td>\n",
       "    </tr>\n",
       "    <tr>\n",
       "      <th>6</th>\n",
       "      <td>1 &lt;= n &lt;= 1000</td>\n",
       "      <td>625107</td>\n",
       "      <td>99.96%</td>\n",
       "      <td>6112780</td>\n",
       "      <td>87.06%</td>\n",
       "    </tr>\n",
       "    <tr>\n",
       "      <th>7</th>\n",
       "      <td>2 &lt;= n</td>\n",
       "      <td>365548</td>\n",
       "      <td>58.45%</td>\n",
       "      <td>6761144</td>\n",
       "      <td>96.3%</td>\n",
       "    </tr>\n",
       "  </tbody>\n",
       "</table>\n",
       "</div>"
      ],
      "text/plain": [
       "       NFTs owned  number of owners % of owners  tokens owned  \\\n",
       "0          1 <= n            625354      100.0%       7020950   \n",
       "1           n = 1            259806      41.55%        259806   \n",
       "2     1 <= n <= 2            348948       55.8%        438090   \n",
       "3     1 <= n <= 5            456399      72.98%        842892   \n",
       "4    1 <= n <= 10            520834      83.29%       1335177   \n",
       "5   1 <= n <= 100            615658      98.45%       4036089   \n",
       "6  1 <= n <= 1000            625107      99.96%       6112780   \n",
       "7          2 <= n            365548      58.45%       6761144   \n",
       "\n",
       "  % of tokens owned  \n",
       "0            100.0%  \n",
       "1              3.7%  \n",
       "2             6.24%  \n",
       "3            12.01%  \n",
       "4            19.02%  \n",
       "5            57.49%  \n",
       "6            87.06%  \n",
       "7             96.3%  "
      ]
     },
     "execution_count": 5,
     "metadata": {},
     "output_type": "execute_result"
    }
   ],
   "source": [
    "ownership_distribution_list = []\n",
    "\n",
    "# all owners\n",
    "ownership_distribution_list.append(range_analysis(tokens_per_owner_df, 1))\n",
    "\n",
    "for i in [1, 2, 5, 10, 100, 1000]:\n",
    "    ownership_distribution_list.append(range_analysis(tokens_per_owner_df, 1, i))\n",
    "\n",
    "# owners with more than 1 token\n",
    "ownership_distribution_list.append(range_analysis(tokens_per_owner_df, 2))\n",
    "\n",
    "ownership_distribution_df = pd.DataFrame(ownership_distribution_list, columns=['NFTs owned', 'number of owners', '% of owners', 'tokens owned', '% of tokens owned'])\n",
    "ownership_distribution_df"
   ]
  },
  {
   "cell_type": "markdown",
   "metadata": {},
   "source": [
    "## Top Owners"
   ]
  },
  {
   "cell_type": "code",
   "execution_count": 6,
   "metadata": {},
   "outputs": [
    {
     "data": {
      "text/html": [
       "<div>\n",
       "<style scoped>\n",
       "    .dataframe tbody tr th:only-of-type {\n",
       "        vertical-align: middle;\n",
       "    }\n",
       "\n",
       "    .dataframe tbody tr th {\n",
       "        vertical-align: top;\n",
       "    }\n",
       "\n",
       "    .dataframe thead th {\n",
       "        text-align: right;\n",
       "    }\n",
       "</style>\n",
       "<table border=\"1\" class=\"dataframe\">\n",
       "  <thead>\n",
       "    <tr style=\"text-align: right;\">\n",
       "      <th></th>\n",
       "      <th>owner</th>\n",
       "      <th>num_tokens</th>\n",
       "    </tr>\n",
       "  </thead>\n",
       "  <tbody>\n",
       "    <tr>\n",
       "      <th>7272</th>\n",
       "      <td>0x02E4103b8A3c55AcDDF298311a9928f9Fe27822C</td>\n",
       "      <td>100045</td>\n",
       "    </tr>\n",
       "    <tr>\n",
       "      <th>0</th>\n",
       "      <td>0x0000000000000000000000000000000000000000</td>\n",
       "      <td>83548</td>\n",
       "    </tr>\n",
       "    <tr>\n",
       "      <th>470227</th>\n",
       "      <td>0xE052113bd7D7700d623414a0a4585BCaE754E9d5</td>\n",
       "      <td>51028</td>\n",
       "    </tr>\n",
       "    <tr>\n",
       "      <th>562045</th>\n",
       "      <td>0xcDA72070E455bb31C7690a170224Ce43623d0B6f</td>\n",
       "      <td>50131</td>\n",
       "    </tr>\n",
       "    <tr>\n",
       "      <th>369228</th>\n",
       "      <td>0x96bEE49d3386d674bF4E956D9B3ce61b9540409D</td>\n",
       "      <td>36751</td>\n",
       "    </tr>\n",
       "    <tr>\n",
       "      <th>439086</th>\n",
       "      <td>0xC69b4c6fFDBaF843A0d0588c99E3C67f27069BEa</td>\n",
       "      <td>32905</td>\n",
       "    </tr>\n",
       "    <tr>\n",
       "      <th>427270</th>\n",
       "      <td>0xBa0d01220a7CeA942596123102535F800f558763</td>\n",
       "      <td>32691</td>\n",
       "    </tr>\n",
       "    <tr>\n",
       "      <th>7</th>\n",
       "      <td>0x000000000000000000000000000000000000dEaD</td>\n",
       "      <td>19758</td>\n",
       "    </tr>\n",
       "    <tr>\n",
       "      <th>277</th>\n",
       "      <td>0x0008d343091EF8BD3EFA730F6aAE5A26a285C7a2</td>\n",
       "      <td>12137</td>\n",
       "    </tr>\n",
       "    <tr>\n",
       "      <th>454705</th>\n",
       "      <td>0xD387A6E4e84a6C86bd90C158C6028A58CC8Ac459</td>\n",
       "      <td>11497</td>\n",
       "    </tr>\n",
       "    <tr>\n",
       "      <th>574169</th>\n",
       "      <td>0xd5a9C4a92dDE274e126f82b215Fccb511147Cd8e</td>\n",
       "      <td>11274</td>\n",
       "    </tr>\n",
       "    <tr>\n",
       "      <th>93652</th>\n",
       "      <td>0x262492D7278c07444972f5AB4fBdDE10D4ca8BeA</td>\n",
       "      <td>10042</td>\n",
       "    </tr>\n",
       "    <tr>\n",
       "      <th>455404</th>\n",
       "      <td>0xD41a6AdeD13841121A15E503fE0b7a146bDcbE9f</td>\n",
       "      <td>10004</td>\n",
       "    </tr>\n",
       "    <tr>\n",
       "      <th>172177</th>\n",
       "      <td>0x4641C11787474940EB4b0EA578886c066fA28D40</td>\n",
       "      <td>7447</td>\n",
       "    </tr>\n",
       "    <tr>\n",
       "      <th>529401</th>\n",
       "      <td>0xb104371D5a2680fB0d47eA9A3aA2348392454186</td>\n",
       "      <td>7425</td>\n",
       "    </tr>\n",
       "    <tr>\n",
       "      <th>279223</th>\n",
       "      <td>0x721931508DF2764fD4F70C53Da646Cb8aEd16acE</td>\n",
       "      <td>7264</td>\n",
       "    </tr>\n",
       "    <tr>\n",
       "      <th>611258</th>\n",
       "      <td>0xf459B83f676467e55Ed557a45B1E64569450F051</td>\n",
       "      <td>6877</td>\n",
       "    </tr>\n",
       "    <tr>\n",
       "      <th>289592</th>\n",
       "      <td>0x76568e1147c72F770c485c46286F0DcEFdf14f05</td>\n",
       "      <td>6714</td>\n",
       "    </tr>\n",
       "    <tr>\n",
       "      <th>25817</th>\n",
       "      <td>0x0AbB75F676D0c131C04324DD98150a39213edd41</td>\n",
       "      <td>6445</td>\n",
       "    </tr>\n",
       "    <tr>\n",
       "      <th>529886</th>\n",
       "      <td>0xb1690C08E213a35Ed9bAb7B318DE14420FB57d8C</td>\n",
       "      <td>5879</td>\n",
       "    </tr>\n",
       "  </tbody>\n",
       "</table>\n",
       "</div>"
      ],
      "text/plain": [
       "                                             owner  num_tokens\n",
       "7272    0x02E4103b8A3c55AcDDF298311a9928f9Fe27822C      100045\n",
       "0       0x0000000000000000000000000000000000000000       83548\n",
       "470227  0xE052113bd7D7700d623414a0a4585BCaE754E9d5       51028\n",
       "562045  0xcDA72070E455bb31C7690a170224Ce43623d0B6f       50131\n",
       "369228  0x96bEE49d3386d674bF4E956D9B3ce61b9540409D       36751\n",
       "439086  0xC69b4c6fFDBaF843A0d0588c99E3C67f27069BEa       32905\n",
       "427270  0xBa0d01220a7CeA942596123102535F800f558763       32691\n",
       "7       0x000000000000000000000000000000000000dEaD       19758\n",
       "277     0x0008d343091EF8BD3EFA730F6aAE5A26a285C7a2       12137\n",
       "454705  0xD387A6E4e84a6C86bd90C158C6028A58CC8Ac459       11497\n",
       "574169  0xd5a9C4a92dDE274e126f82b215Fccb511147Cd8e       11274\n",
       "93652   0x262492D7278c07444972f5AB4fBdDE10D4ca8BeA       10042\n",
       "455404  0xD41a6AdeD13841121A15E503fE0b7a146bDcbE9f       10004\n",
       "172177  0x4641C11787474940EB4b0EA578886c066fA28D40        7447\n",
       "529401  0xb104371D5a2680fB0d47eA9A3aA2348392454186        7425\n",
       "279223  0x721931508DF2764fD4F70C53Da646Cb8aEd16acE        7264\n",
       "611258  0xf459B83f676467e55Ed557a45B1E64569450F051        6877\n",
       "289592  0x76568e1147c72F770c485c46286F0DcEFdf14f05        6714\n",
       "25817   0x0AbB75F676D0c131C04324DD98150a39213edd41        6445\n",
       "529886  0xb1690C08E213a35Ed9bAb7B318DE14420FB57d8C        5879"
      ]
     },
     "execution_count": 6,
     "metadata": {},
     "output_type": "execute_result"
    }
   ],
   "source": [
    "top_owners_df = tokens_per_owner_df\n",
    "top_owners_df.sort_values(\"num_tokens\", inplace=True, ascending=False)\n",
    "\n",
    "top_owners_df.head(20)"
   ]
  },
  {
   "cell_type": "code",
   "execution_count": 7,
   "metadata": {},
   "outputs": [
    {
     "data": {
      "image/png": "[encoded data removed]",
      "text/plain": [
       "<Figure size 432x288 with 1 Axes>"
      ]
     },
     "metadata": {
      "needs_background": "light"
     },
     "output_type": "display_data"
    }
   ],
   "source": [
    "plt.xlabel('Numbers of tokens owned - n')\n",
    "plt.ylabel('Numbers of addresses owning n tokens (log scale)')\n",
    "_, _, _ = plt.hist(top_owners_df['num_tokens'], bins=100, log=True)"
   ]
  },
  {
   "cell_type": "code",
   "execution_count": 8,
   "metadata": {},
   "outputs": [],
   "source": [
    "def top_owners_percentage (percentage, df):\n",
    "    total_tokens = df['num_tokens'].sum()\n",
    "    total_owners = len(df)\n",
    "\n",
    "    num_top_owners = round(total_owners * percentage / 100) \n",
    "    top_df = df.head(num_top_owners)\n",
    "\n",
    "    percentage_format = \"{}%\".format(percentage)\n",
    "    num_tokens_owned = top_df['num_tokens'].sum()\n",
    "    # percentage_tokens_owned = \"{}%\".format(round((num_tokens_owned / total_tokens) * 100, 2))\n",
    "    percentage_tokens_owned = round((num_tokens_owned / total_tokens) * 100, 2)\n",
    "\n",
    "    return [percentage, num_tokens_owned, percentage_tokens_owned]"
   ]
  },
  {
   "cell_type": "code",
   "execution_count": 9,
   "metadata": {},
   "outputs": [
    {
     "data": {
      "text/html": [
       "<div>\n",
       "<style scoped>\n",
       "    .dataframe tbody tr th:only-of-type {\n",
       "        vertical-align: middle;\n",
       "    }\n",
       "\n",
       "    .dataframe tbody tr th {\n",
       "        vertical-align: top;\n",
       "    }\n",
       "\n",
       "    .dataframe thead th {\n",
       "        text-align: right;\n",
       "    }\n",
       "</style>\n",
       "<table border=\"1\" class=\"dataframe\">\n",
       "  <thead>\n",
       "    <tr style=\"text-align: right;\">\n",
       "      <th></th>\n",
       "      <th>% of top owners</th>\n",
       "      <th>tokens owned</th>\n",
       "      <th>% of tokens owned</th>\n",
       "    </tr>\n",
       "  </thead>\n",
       "  <tbody>\n",
       "    <tr>\n",
       "      <th>0</th>\n",
       "      <td>1.0</td>\n",
       "      <td>2581231</td>\n",
       "      <td>36.76</td>\n",
       "    </tr>\n",
       "    <tr>\n",
       "      <th>1</th>\n",
       "      <td>2.5</td>\n",
       "      <td>3475669</td>\n",
       "      <td>49.50</td>\n",
       "    </tr>\n",
       "    <tr>\n",
       "      <th>2</th>\n",
       "      <td>5.0</td>\n",
       "      <td>4261660</td>\n",
       "      <td>60.70</td>\n",
       "    </tr>\n",
       "    <tr>\n",
       "      <th>3</th>\n",
       "      <td>10.0</td>\n",
       "      <td>5091691</td>\n",
       "      <td>72.52</td>\n",
       "    </tr>\n",
       "    <tr>\n",
       "      <th>4</th>\n",
       "      <td>16.0</td>\n",
       "      <td>5636680</td>\n",
       "      <td>80.28</td>\n",
       "    </tr>\n",
       "    <tr>\n",
       "      <th>5</th>\n",
       "      <td>50.0</td>\n",
       "      <td>6655402</td>\n",
       "      <td>94.79</td>\n",
       "    </tr>\n",
       "  </tbody>\n",
       "</table>\n",
       "</div>"
      ],
      "text/plain": [
       "   % of top owners  tokens owned  % of tokens owned\n",
       "0              1.0       2581231              36.76\n",
       "1              2.5       3475669              49.50\n",
       "2              5.0       4261660              60.70\n",
       "3             10.0       5091691              72.52\n",
       "4             16.0       5636680              80.28\n",
       "5             50.0       6655402              94.79"
      ]
     },
     "execution_count": 9,
     "metadata": {},
     "output_type": "execute_result"
    }
   ],
   "source": [
    "top_owners_percentage_list = []\n",
    "percentages = [1, 2.5, 5, 10, 16, 50]\n",
    "for p in percentages:\n",
    "    top_owners_percentage_list.append(top_owners_percentage(p, top_owners_df))\n",
    "\n",
    "top_owners_percentage_df = pd.DataFrame(top_owners_percentage_list, columns=['% of top owners', 'tokens owned', '% of tokens owned'])\n",
    "top_owners_percentage_df\n"
   ]
  },
  {
   "cell_type": "code",
   "execution_count": 10,
   "metadata": {},
   "outputs": [
    {
     "data": {
      "image/png": "[encoded data removed]",
      "text/plain": [
       "<Figure size 432x288 with 1 Axes>"
      ]
     },
     "metadata": {
      "needs_background": "light"
     },
     "output_type": "display_data"
    }
   ],
   "source": [
    "tokens_percentage_list = top_owners_percentage_df['% of tokens owned'].to_list()\n",
    "percentages_format = [\"{}%\".format(i) for i in percentages]\n",
    "tokens_percentage_difference = [100 - x for x in tokens_percentage_list]\n",
    "\n",
    "# plot\n",
    "barWidth = 0.85\n",
    "# green Bars (representing % of tokens owned)\n",
    "plt.bar(range(len(percentages)), tokens_percentage_list, color='#b5ffb9', edgecolor='white', width=barWidth)\n",
    "# blue Bars (representing the remaining % of tokens)\n",
    "plt.bar(range(len(percentages)), tokens_percentage_difference, bottom=tokens_percentage_list, color='#a3acff', edgecolor='white', width=barWidth)\n",
    " \n",
    "for i in range(len(percentages)):\n",
    "    plt.text(i, tokens_percentage_list[i]+1, \"\"+str(tokens_percentage_list[i])+\"%\", ha=\"center\", color='blue', fontweight='bold')\n",
    "\n",
    "plt.xticks(range(len(percentages)), percentages_format)\n",
    "plt.xlabel(\"top % owners\")\n",
    "plt.ylabel(\"% of tokens owned\")\n",
    "\n",
    "# Show graphic\n",
    "plt.show()"
   ]
  },
  {
   "cell_type": "markdown",
   "metadata": {},
   "source": [
    "## Low Scale Owners"
   ]
  },
  {
   "cell_type": "code",
   "execution_count": 11,
   "metadata": {},
   "outputs": [
    {
     "data": {
      "image/png": "[encoded data removed]",
      "text/plain": [
       "<Figure size 432x288 with 1 Axes>"
      ]
     },
     "metadata": {
      "needs_background": "light"
     },
     "output_type": "display_data"
    }
   ],
   "source": [
    "scale_cutoff = 1500\n",
    "low_scale_owners = [num_tokens for num_tokens in top_owners_df['num_tokens'] \n",
    "                    if num_tokens<=scale_cutoff]\n",
    "\n",
    "plt.xlabel(f'Numbers of tokens owned - n < {scale_cutoff}')\n",
    "plt.ylabel('Numbers of addresses owning n tokens')\n",
    "plt.hist(low_scale_owners, bins=int(scale_cutoff/50), log=False)\n",
    "plt.show()"
   ]
  },
  {
   "cell_type": "code",
   "execution_count": 12,
   "metadata": {},
   "outputs": [
    {
     "data": {
      "image/png": "[encoded data removed]",
      "text/plain": [
       "<Figure size 432x288 with 1 Axes>"
      ]
     },
     "metadata": {
      "needs_background": "light"
     },
     "output_type": "display_data"
    }
   ],
   "source": [
    "plt.xlabel(f'Numbers of tokens owned - n < {scale_cutoff}')\n",
    "plt.ylabel('Numbers of addresses owning n tokens (log scale)')\n",
    "plt.hist(low_scale_owners, bins=int(scale_cutoff/50), log=True)\n",
    "plt.show()"
   ]
  },
  {
   "cell_type": "markdown",
   "metadata": {},
   "source": [
    "# Conclusions\n",
    "\n",
    "*write conclusions here . . .*"
   ]
  }
 ],
 "metadata": {
  "interpreter": {
   "hash": "262e18fdf0b1640c739f66dc97f184ccd4a584f281018b2a395f3129eb71fae7"
  },
  "kernelspec": {
   "display_name": "Python 3.9.7 ('web3')",
   "language": "python",
   "name": "python3"
  },
  "language_info": {
   "codemirror_mode": {
    "name": "ipython",
    "version": 3
   },
   "file_extension": ".py",
   "mimetype": "text/x-python",
   "name": "python",
   "nbconvert_exporter": "python",
   "pygments_lexer": "ipython3",
   "version": "3.9.7"
  },
  "orig_nbformat": 4
 },
 "nbformat": 4,
 "nbformat_minor": 2
}
