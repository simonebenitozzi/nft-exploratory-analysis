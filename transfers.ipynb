{
 "cells": [
  {
   "cell_type": "markdown",
   "metadata": {},
   "source": [
    "# Intro\n",
    "\n",
    "Similar to mints, but actually more interesting, since it involves actual transfers and transactions with eth"
   ]
  },
  {
   "cell_type": "code",
   "execution_count": 1,
   "metadata": {},
   "outputs": [],
   "source": [
    "import os\n",
    "import sqlite3\n",
    "\n",
    "import matplotlib.pyplot as plt\n",
    "import numpy as np\n",
    "import pandas as pd\n",
    "\n",
    "import nfts.dataset\n",
    "\n",
    "from range_analysis import range_analysis"
   ]
  },
  {
   "cell_type": "code",
   "execution_count": 3,
   "metadata": {},
   "outputs": [
    {
     "data": {
      "text/html": [
       "<div>\n",
       "<style scoped>\n",
       "    .dataframe tbody tr th:only-of-type {\n",
       "        vertical-align: middle;\n",
       "    }\n",
       "\n",
       "    .dataframe tbody tr th {\n",
       "        vertical-align: top;\n",
       "    }\n",
       "\n",
       "    .dataframe thead th {\n",
       "        text-align: right;\n",
       "    }\n",
       "</style>\n",
       "<table border=\"1\" class=\"dataframe\">\n",
       "  <thead>\n",
       "    <tr style=\"text-align: right;\">\n",
       "      <th></th>\n",
       "      <th>event_id</th>\n",
       "      <th>transaction_hash</th>\n",
       "      <th>block_number</th>\n",
       "      <th>from_address</th>\n",
       "      <th>to_address</th>\n",
       "      <th>transaction_value</th>\n",
       "      <th>timestamp</th>\n",
       "      <th>nft_id</th>\n",
       "    </tr>\n",
       "  </thead>\n",
       "  <tbody>\n",
       "    <tr>\n",
       "      <th>0</th>\n",
       "      <td>cd816651-56b2-4ed9-887c-c83de732428d</td>\n",
       "      <td>0x0c73daad5e6946e6b2f1374846d6ba3025d6e6a2569f...</td>\n",
       "      <td>12936373</td>\n",
       "      <td>0x25f1d709b329C7349b8209851E90eFa3a7f60178</td>\n",
       "      <td>0xC69b4c6fFDBaF843A0d0588c99E3C67f27069BEa</td>\n",
       "      <td>0.0</td>\n",
       "      <td>1627776481</td>\n",
       "      <td>0x629A673A8242c2AC4B7B8C5D8735fbeac21A6205_668...</td>\n",
       "    </tr>\n",
       "    <tr>\n",
       "      <th>1</th>\n",
       "      <td>82cc5228-eb80-4e0d-9f6f-e644dec3ab06</td>\n",
       "      <td>0x0c73daad5e6946e6b2f1374846d6ba3025d6e6a2569f...</td>\n",
       "      <td>12936373</td>\n",
       "      <td>0x0737E7162C88E9FBB963334e4Bfe6e97447fF811</td>\n",
       "      <td>0xC69b4c6fFDBaF843A0d0588c99E3C67f27069BEa</td>\n",
       "      <td>0.0</td>\n",
       "      <td>1627776481</td>\n",
       "      <td>0x629A673A8242c2AC4B7B8C5D8735fbeac21A6205_119...</td>\n",
       "    </tr>\n",
       "    <tr>\n",
       "      <th>2</th>\n",
       "      <td>6e1f9cc4-d1df-4a6b-972d-a20765beb326</td>\n",
       "      <td>0x0c73daad5e6946e6b2f1374846d6ba3025d6e6a2569f...</td>\n",
       "      <td>12936373</td>\n",
       "      <td>0xA0fEc186c4b3FAd39ca373dFdd52E79C2495F2c3</td>\n",
       "      <td>0xC69b4c6fFDBaF843A0d0588c99E3C67f27069BEa</td>\n",
       "      <td>0.0</td>\n",
       "      <td>1627776481</td>\n",
       "      <td>0x629A673A8242c2AC4B7B8C5D8735fbeac21A6205_154...</td>\n",
       "    </tr>\n",
       "    <tr>\n",
       "      <th>3</th>\n",
       "      <td>43dc27a7-a72d-4894-809c-e868de05f7ee</td>\n",
       "      <td>0x0c73daad5e6946e6b2f1374846d6ba3025d6e6a2569f...</td>\n",
       "      <td>12936373</td>\n",
       "      <td>0x90bE22069560A9bAd99543B4A922d1FE34Ae84E9</td>\n",
       "      <td>0xC69b4c6fFDBaF843A0d0588c99E3C67f27069BEa</td>\n",
       "      <td>0.0</td>\n",
       "      <td>1627776481</td>\n",
       "      <td>0x629A673A8242c2AC4B7B8C5D8735fbeac21A6205_799...</td>\n",
       "    </tr>\n",
       "    <tr>\n",
       "      <th>4</th>\n",
       "      <td>47b7839b-9b87-442d-b2c1-9ebedcad8e06</td>\n",
       "      <td>0x0c73daad5e6946e6b2f1374846d6ba3025d6e6a2569f...</td>\n",
       "      <td>12936373</td>\n",
       "      <td>0xA8E9C42Ebb915EeEC5080B7Bcc5D844475595091</td>\n",
       "      <td>0xC69b4c6fFDBaF843A0d0588c99E3C67f27069BEa</td>\n",
       "      <td>0.0</td>\n",
       "      <td>1627776481</td>\n",
       "      <td>0x629A673A8242c2AC4B7B8C5D8735fbeac21A6205_112...</td>\n",
       "    </tr>\n",
       "  </tbody>\n",
       "</table>\n",
       "</div>"
      ],
      "text/plain": [
       "                               event_id  \\\n",
       "0  cd816651-56b2-4ed9-887c-c83de732428d   \n",
       "1  82cc5228-eb80-4e0d-9f6f-e644dec3ab06   \n",
       "2  6e1f9cc4-d1df-4a6b-972d-a20765beb326   \n",
       "3  43dc27a7-a72d-4894-809c-e868de05f7ee   \n",
       "4  47b7839b-9b87-442d-b2c1-9ebedcad8e06   \n",
       "\n",
       "                                    transaction_hash  block_number  \\\n",
       "0  0x0c73daad5e6946e6b2f1374846d6ba3025d6e6a2569f...      12936373   \n",
       "1  0x0c73daad5e6946e6b2f1374846d6ba3025d6e6a2569f...      12936373   \n",
       "2  0x0c73daad5e6946e6b2f1374846d6ba3025d6e6a2569f...      12936373   \n",
       "3  0x0c73daad5e6946e6b2f1374846d6ba3025d6e6a2569f...      12936373   \n",
       "4  0x0c73daad5e6946e6b2f1374846d6ba3025d6e6a2569f...      12936373   \n",
       "\n",
       "                                 from_address  \\\n",
       "0  0x25f1d709b329C7349b8209851E90eFa3a7f60178   \n",
       "1  0x0737E7162C88E9FBB963334e4Bfe6e97447fF811   \n",
       "2  0xA0fEc186c4b3FAd39ca373dFdd52E79C2495F2c3   \n",
       "3  0x90bE22069560A9bAd99543B4A922d1FE34Ae84E9   \n",
       "4  0xA8E9C42Ebb915EeEC5080B7Bcc5D844475595091   \n",
       "\n",
       "                                   to_address  transaction_value   timestamp  \\\n",
       "0  0xC69b4c6fFDBaF843A0d0588c99E3C67f27069BEa                0.0  1627776481   \n",
       "1  0xC69b4c6fFDBaF843A0d0588c99E3C67f27069BEa                0.0  1627776481   \n",
       "2  0xC69b4c6fFDBaF843A0d0588c99E3C67f27069BEa                0.0  1627776481   \n",
       "3  0xC69b4c6fFDBaF843A0d0588c99E3C67f27069BEa                0.0  1627776481   \n",
       "4  0xC69b4c6fFDBaF843A0d0588c99E3C67f27069BEa                0.0  1627776481   \n",
       "\n",
       "                                              nft_id  \n",
       "0  0x629A673A8242c2AC4B7B8C5D8735fbeac21A6205_668...  \n",
       "1  0x629A673A8242c2AC4B7B8C5D8735fbeac21A6205_119...  \n",
       "2  0x629A673A8242c2AC4B7B8C5D8735fbeac21A6205_154...  \n",
       "3  0x629A673A8242c2AC4B7B8C5D8735fbeac21A6205_799...  \n",
       "4  0x629A673A8242c2AC4B7B8C5D8735fbeac21A6205_112...  "
      ]
     },
     "execution_count": 3,
     "metadata": {},
     "output_type": "execute_result"
    }
   ],
   "source": [
    "dirname = os.path.dirname(os.path.abspath(\"__file__\"))\n",
    "DATASET_PATH = os.path.join(dirname, \"nfts.sqlite\")\n",
    "ds = nfts.dataset.FromSQLite(DATASET_PATH)\n",
    "\n",
    "transfers_df = ds.load_dataframe(\"transfers\")\n",
    "transfers_df['nft_id'] = transfers_df['nft_address'] + \"_\" + transfers_df['token_id']\n",
    "transfers_df.drop(['nft_address', 'token_id'], axis=1, inplace=True)\n",
    "\n",
    "transfers_df.head()"
   ]
  },
  {
   "cell_type": "markdown",
   "metadata": {},
   "source": [
    "# Top Transfer Addresses"
   ]
  },
  {
   "cell_type": "code",
   "execution_count": 4,
   "metadata": {},
   "outputs": [
    {
     "data": {
      "text/html": [
       "<div>\n",
       "<style scoped>\n",
       "    .dataframe tbody tr th:only-of-type {\n",
       "        vertical-align: middle;\n",
       "    }\n",
       "\n",
       "    .dataframe tbody tr th {\n",
       "        vertical-align: top;\n",
       "    }\n",
       "\n",
       "    .dataframe thead th {\n",
       "        text-align: right;\n",
       "    }\n",
       "</style>\n",
       "<table border=\"1\" class=\"dataframe\">\n",
       "  <thead>\n",
       "    <tr style=\"text-align: right;\">\n",
       "      <th></th>\n",
       "      <th>address</th>\n",
       "      <th>transfers_out</th>\n",
       "      <th>transfers_in</th>\n",
       "    </tr>\n",
       "  </thead>\n",
       "  <tbody>\n",
       "    <tr>\n",
       "      <th>80340</th>\n",
       "      <td>0x283Af0B28c62C092C9727F1Ee09c02CA627EB7F5</td>\n",
       "      <td>139631</td>\n",
       "      <td>2</td>\n",
       "    </tr>\n",
       "    <tr>\n",
       "      <th>100670</th>\n",
       "      <td>0x327305A797d92a39cEe1a225D7E2A1cC42B1a8fA</td>\n",
       "      <td>103374</td>\n",
       "      <td>0</td>\n",
       "    </tr>\n",
       "    <tr>\n",
       "      <th>457654</th>\n",
       "      <td>0xcDA72070E455bb31C7690a170224Ce43623d0B6f</td>\n",
       "      <td>36105</td>\n",
       "      <td>76631</td>\n",
       "    </tr>\n",
       "    <tr>\n",
       "      <th>382817</th>\n",
       "      <td>0xE052113bd7D7700d623414a0a4585BCaE754E9d5</td>\n",
       "      <td>31725</td>\n",
       "      <td>9490</td>\n",
       "    </tr>\n",
       "    <tr>\n",
       "      <th>431383</th>\n",
       "      <td>0xb1690C08E213a35Ed9bAb7B318DE14420FB57d8C</td>\n",
       "      <td>22580</td>\n",
       "      <td>13892</td>\n",
       "    </tr>\n",
       "  </tbody>\n",
       "</table>\n",
       "</div>"
      ],
      "text/plain": [
       "                                           address  transfers_out  \\\n",
       "80340   0x283Af0B28c62C092C9727F1Ee09c02CA627EB7F5         139631   \n",
       "100670  0x327305A797d92a39cEe1a225D7E2A1cC42B1a8fA         103374   \n",
       "457654  0xcDA72070E455bb31C7690a170224Ce43623d0B6f          36105   \n",
       "382817  0xE052113bd7D7700d623414a0a4585BCaE754E9d5          31725   \n",
       "431383  0xb1690C08E213a35Ed9bAb7B318DE14420FB57d8C          22580   \n",
       "\n",
       "        transfers_in  \n",
       "80340              2  \n",
       "100670             0  \n",
       "457654         76631  \n",
       "382817          9490  \n",
       "431383         13892  "
      ]
     },
     "execution_count": 4,
     "metadata": {},
     "output_type": "execute_result"
    }
   ],
   "source": [
    "transfers_stats_df = ds.load_dataframe(\"transfer_statistics_by_address\")\n",
    "transfers_stats_df.sort_values('transfers_out', inplace=True, ascending=False)\n",
    "transfers_stats_df.head()"
   ]
  },
  {
   "cell_type": "code",
   "execution_count": 5,
   "metadata": {},
   "outputs": [
    {
     "data": {
      "text/html": [
       "<div>\n",
       "<style scoped>\n",
       "    .dataframe tbody tr th:only-of-type {\n",
       "        vertical-align: middle;\n",
       "    }\n",
       "\n",
       "    .dataframe tbody tr th {\n",
       "        vertical-align: top;\n",
       "    }\n",
       "\n",
       "    .dataframe thead th {\n",
       "        text-align: right;\n",
       "    }\n",
       "</style>\n",
       "<table border=\"1\" class=\"dataframe\">\n",
       "  <thead>\n",
       "    <tr style=\"text-align: right;\">\n",
       "      <th></th>\n",
       "      <th>address</th>\n",
       "      <th>transfers_out</th>\n",
       "      <th>transfers_in</th>\n",
       "    </tr>\n",
       "  </thead>\n",
       "  <tbody>\n",
       "    <tr>\n",
       "      <th>0</th>\n",
       "      <td>0x0000000000000000000000000000000000000000</td>\n",
       "      <td>0</td>\n",
       "      <td>118931</td>\n",
       "    </tr>\n",
       "    <tr>\n",
       "      <th>457654</th>\n",
       "      <td>0xcDA72070E455bb31C7690a170224Ce43623d0B6f</td>\n",
       "      <td>36105</td>\n",
       "      <td>76631</td>\n",
       "    </tr>\n",
       "    <tr>\n",
       "      <th>357213</th>\n",
       "      <td>0xC69b4c6fFDBaF843A0d0588c99E3C67f27069BEa</td>\n",
       "      <td>1</td>\n",
       "      <td>74608</td>\n",
       "    </tr>\n",
       "    <tr>\n",
       "      <th>6</th>\n",
       "      <td>0x000000000000000000000000000000000000dEaD</td>\n",
       "      <td>4</td>\n",
       "      <td>20826</td>\n",
       "    </tr>\n",
       "    <tr>\n",
       "      <th>431383</th>\n",
       "      <td>0xb1690C08E213a35Ed9bAb7B318DE14420FB57d8C</td>\n",
       "      <td>22580</td>\n",
       "      <td>13892</td>\n",
       "    </tr>\n",
       "  </tbody>\n",
       "</table>\n",
       "</div>"
      ],
      "text/plain": [
       "                                           address  transfers_out  \\\n",
       "0       0x0000000000000000000000000000000000000000              0   \n",
       "457654  0xcDA72070E455bb31C7690a170224Ce43623d0B6f          36105   \n",
       "357213  0xC69b4c6fFDBaF843A0d0588c99E3C67f27069BEa              1   \n",
       "6       0x000000000000000000000000000000000000dEaD              4   \n",
       "431383  0xb1690C08E213a35Ed9bAb7B318DE14420FB57d8C          22580   \n",
       "\n",
       "        transfers_in  \n",
       "0             118931  \n",
       "457654         76631  \n",
       "357213         74608  \n",
       "6              20826  \n",
       "431383         13892  "
      ]
     },
     "execution_count": 5,
     "metadata": {},
     "output_type": "execute_result"
    }
   ],
   "source": [
    "transfers_stats_df.sort_values('transfers_in', inplace=True, ascending=False)\n",
    "transfers_stats_df.head()"
   ]
  },
  {
   "cell_type": "markdown",
   "metadata": {},
   "source": [
    "# NFTs with Multiple Transfers"
   ]
  },
  {
   "cell_type": "code",
   "execution_count": 6,
   "metadata": {},
   "outputs": [
    {
     "data": {
      "text/html": [
       "<div>\n",
       "<style scoped>\n",
       "    .dataframe tbody tr th:only-of-type {\n",
       "        vertical-align: middle;\n",
       "    }\n",
       "\n",
       "    .dataframe tbody tr th {\n",
       "        vertical-align: top;\n",
       "    }\n",
       "\n",
       "    .dataframe thead th {\n",
       "        text-align: right;\n",
       "    }\n",
       "</style>\n",
       "<table border=\"1\" class=\"dataframe\">\n",
       "  <thead>\n",
       "    <tr style=\"text-align: right;\">\n",
       "      <th></th>\n",
       "      <th>nft_id</th>\n",
       "      <th>num_transfers</th>\n",
       "    </tr>\n",
       "  </thead>\n",
       "  <tbody>\n",
       "    <tr>\n",
       "      <th>1959343</th>\n",
       "      <td>0xACd3CF818EFe8ddce84C585ddCB147c4C844D3b3_0</td>\n",
       "      <td>272</td>\n",
       "    </tr>\n",
       "    <tr>\n",
       "      <th>1135873</th>\n",
       "      <td>0x60F80121C31A0d46B5279700f9DF786054aa5eE5_120...</td>\n",
       "      <td>72</td>\n",
       "    </tr>\n",
       "    <tr>\n",
       "      <th>2470289</th>\n",
       "      <td>0xb7F7F6C52F2e2fdb1963Eab30438024864c313F6_639</td>\n",
       "      <td>72</td>\n",
       "    </tr>\n",
       "    <tr>\n",
       "      <th>2470073</th>\n",
       "      <td>0xb7F7F6C52F2e2fdb1963Eab30438024864c313F6_3920</td>\n",
       "      <td>67</td>\n",
       "    </tr>\n",
       "    <tr>\n",
       "      <th>2470503</th>\n",
       "      <td>0xb7F7F6C52F2e2fdb1963Eab30438024864c313F6_8476</td>\n",
       "      <td>65</td>\n",
       "    </tr>\n",
       "  </tbody>\n",
       "</table>\n",
       "</div>"
      ],
      "text/plain": [
       "                                                    nft_id  num_transfers\n",
       "1959343       0xACd3CF818EFe8ddce84C585ddCB147c4C844D3b3_0            272\n",
       "1135873  0x60F80121C31A0d46B5279700f9DF786054aa5eE5_120...             72\n",
       "2470289     0xb7F7F6C52F2e2fdb1963Eab30438024864c313F6_639             72\n",
       "2470073    0xb7F7F6C52F2e2fdb1963Eab30438024864c313F6_3920             67\n",
       "2470503    0xb7F7F6C52F2e2fdb1963Eab30438024864c313F6_8476             65"
      ]
     },
     "execution_count": 6,
     "metadata": {},
     "output_type": "execute_result"
    }
   ],
   "source": [
    "transfers_count_df = transfers_df.groupby(['nft_id'], as_index=False).size().rename(columns={'size':'num_transfers'})\n",
    "transfers_count_df.sort_values(['num_transfers'], inplace=True, ascending=False)\n",
    "\n",
    "transfers_count_df.head()"
   ]
  },
  {
   "cell_type": "code",
   "execution_count": 7,
   "metadata": {},
   "outputs": [
    {
     "data": {
      "image/png": "[encoded data removed]",
      "text/plain": [
       "<Figure size 432x288 with 1 Axes>"
      ]
     },
     "metadata": {
      "needs_background": "light"
     },
     "output_type": "display_data"
    }
   ],
   "source": [
    "plt.xlabel('Numbers of transfers - n')\n",
    "plt.ylabel('Tokens that were transferred n times (log scale)')\n",
    "_,_,_ = plt.hist(transfers_count_df['num_transfers'], bins=100, log=True)"
   ]
  },
  {
   "cell_type": "code",
   "execution_count": 8,
   "metadata": {},
   "outputs": [
    {
     "data": {
      "text/html": [
       "<div>\n",
       "<style scoped>\n",
       "    .dataframe tbody tr th:only-of-type {\n",
       "        vertical-align: middle;\n",
       "    }\n",
       "\n",
       "    .dataframe tbody tr th {\n",
       "        vertical-align: top;\n",
       "    }\n",
       "\n",
       "    .dataframe thead th {\n",
       "        text-align: right;\n",
       "    }\n",
       "</style>\n",
       "<table border=\"1\" class=\"dataframe\">\n",
       "  <thead>\n",
       "    <tr style=\"text-align: right;\">\n",
       "      <th></th>\n",
       "      <th>transfers</th>\n",
       "      <th>tokens transferred</th>\n",
       "      <th>% of tokens transferred</th>\n",
       "      <th>number of transfers</th>\n",
       "      <th>% of transfers</th>\n",
       "    </tr>\n",
       "  </thead>\n",
       "  <tbody>\n",
       "    <tr>\n",
       "      <th>0</th>\n",
       "      <td>1 &lt;= n</td>\n",
       "      <td>2860215</td>\n",
       "      <td>100.0%</td>\n",
       "      <td>4514729</td>\n",
       "      <td>100.0%</td>\n",
       "    </tr>\n",
       "    <tr>\n",
       "      <th>1</th>\n",
       "      <td>2 &lt;= n</td>\n",
       "      <td>1021237</td>\n",
       "      <td>35.7%</td>\n",
       "      <td>2675751</td>\n",
       "      <td>59.27%</td>\n",
       "    </tr>\n",
       "    <tr>\n",
       "      <th>2</th>\n",
       "      <td>n = 1</td>\n",
       "      <td>1838978</td>\n",
       "      <td>64.3%</td>\n",
       "      <td>1838978</td>\n",
       "      <td>40.73%</td>\n",
       "    </tr>\n",
       "    <tr>\n",
       "      <th>3</th>\n",
       "      <td>1 &lt;= n &lt;= 2</td>\n",
       "      <td>2490623</td>\n",
       "      <td>87.08%</td>\n",
       "      <td>3142268</td>\n",
       "      <td>69.6%</td>\n",
       "    </tr>\n",
       "    <tr>\n",
       "      <th>4</th>\n",
       "      <td>1 &lt;= n &lt;= 5</td>\n",
       "      <td>2833661</td>\n",
       "      <td>99.07%</td>\n",
       "      <td>4315158</td>\n",
       "      <td>95.58%</td>\n",
       "    </tr>\n",
       "    <tr>\n",
       "      <th>5</th>\n",
       "      <td>1 &lt;= n &lt;= 9</td>\n",
       "      <td>2857353</td>\n",
       "      <td>99.9%</td>\n",
       "      <td>4473941</td>\n",
       "      <td>99.1%</td>\n",
       "    </tr>\n",
       "    <tr>\n",
       "      <th>6</th>\n",
       "      <td>10 &lt;= n</td>\n",
       "      <td>2862</td>\n",
       "      <td>0.1%</td>\n",
       "      <td>40788</td>\n",
       "      <td>0.9%</td>\n",
       "    </tr>\n",
       "  </tbody>\n",
       "</table>\n",
       "</div>"
      ],
      "text/plain": [
       "     transfers  tokens transferred % of tokens transferred  \\\n",
       "0       1 <= n             2860215                  100.0%   \n",
       "1       2 <= n             1021237                   35.7%   \n",
       "2        n = 1             1838978                   64.3%   \n",
       "3  1 <= n <= 2             2490623                  87.08%   \n",
       "4  1 <= n <= 5             2833661                  99.07%   \n",
       "5  1 <= n <= 9             2857353                   99.9%   \n",
       "6      10 <= n                2862                    0.1%   \n",
       "\n",
       "   number of transfers % of transfers  \n",
       "0              4514729         100.0%  \n",
       "1              2675751         59.27%  \n",
       "2              1838978         40.73%  \n",
       "3              3142268          69.6%  \n",
       "4              4315158         95.58%  \n",
       "5              4473941          99.1%  \n",
       "6                40788           0.9%  "
      ]
     },
     "execution_count": 8,
     "metadata": {},
     "output_type": "execute_result"
    }
   ],
   "source": [
    "transfers_distribution_list = []\n",
    "\n",
    "# all tokens transferred\n",
    "transfers_distribution_list.append(range_analysis(transfers_count_df, 1))\n",
    "# tokens transferred more than 1 time\n",
    "transfers_distribution_list.append(range_analysis(transfers_count_df, 2))\n",
    "\n",
    "for i in [1, 2, 5, 9]:\n",
    "    transfers_distribution_list.append(range_analysis(transfers_count_df, 1, i))\n",
    "\n",
    "# tokens transferred more than 10 times\n",
    "transfers_distribution_list.append(range_analysis(transfers_count_df, 10))\n",
    "\n",
    "ownership_distribution_df = pd.DataFrame(transfers_distribution_list, columns=['transfers', 'tokens transferred', '% of tokens transferred', 'number of transfers', '% of transfers'])\n",
    "ownership_distribution_df"
   ]
  },
  {
   "cell_type": "markdown",
   "metadata": {},
   "source": [
    "## Value change over Time"
   ]
  },
  {
   "cell_type": "code",
   "execution_count": 9,
   "metadata": {},
   "outputs": [
    {
     "data": {
      "text/html": [
       "<div>\n",
       "<style scoped>\n",
       "    .dataframe tbody tr th:only-of-type {\n",
       "        vertical-align: middle;\n",
       "    }\n",
       "\n",
       "    .dataframe tbody tr th {\n",
       "        vertical-align: top;\n",
       "    }\n",
       "\n",
       "    .dataframe thead th {\n",
       "        text-align: right;\n",
       "    }\n",
       "</style>\n",
       "<table border=\"1\" class=\"dataframe\">\n",
       "  <thead>\n",
       "    <tr style=\"text-align: right;\">\n",
       "      <th></th>\n",
       "      <th>nft_id</th>\n",
       "      <th>num_transfers</th>\n",
       "      <th>mean_cost_eth</th>\n",
       "      <th>min_cost_eth</th>\n",
       "      <th>max_cost_eth</th>\n",
       "    </tr>\n",
       "  </thead>\n",
       "  <tbody>\n",
       "    <tr>\n",
       "      <th>1959343</th>\n",
       "      <td>0xACd3CF818EFe8ddce84C585ddCB147c4C844D3b3_0</td>\n",
       "      <td>272</td>\n",
       "      <td>0.000000</td>\n",
       "      <td>0.0</td>\n",
       "      <td>0.000000</td>\n",
       "    </tr>\n",
       "    <tr>\n",
       "      <th>1135873</th>\n",
       "      <td>0x60F80121C31A0d46B5279700f9DF786054aa5eE5_120...</td>\n",
       "      <td>72</td>\n",
       "      <td>0.000071</td>\n",
       "      <td>0.0</td>\n",
       "      <td>0.005125</td>\n",
       "    </tr>\n",
       "    <tr>\n",
       "      <th>2470289</th>\n",
       "      <td>0xb7F7F6C52F2e2fdb1963Eab30438024864c313F6_639</td>\n",
       "      <td>72</td>\n",
       "      <td>0.994722</td>\n",
       "      <td>0.0</td>\n",
       "      <td>21.012500</td>\n",
       "    </tr>\n",
       "    <tr>\n",
       "      <th>2470073</th>\n",
       "      <td>0xb7F7F6C52F2e2fdb1963Eab30438024864c313F6_3920</td>\n",
       "      <td>67</td>\n",
       "      <td>0.005373</td>\n",
       "      <td>0.0</td>\n",
       "      <td>0.100000</td>\n",
       "    </tr>\n",
       "    <tr>\n",
       "      <th>2470503</th>\n",
       "      <td>0xb7F7F6C52F2e2fdb1963Eab30438024864c313F6_8476</td>\n",
       "      <td>65</td>\n",
       "      <td>0.031077</td>\n",
       "      <td>0.0</td>\n",
       "      <td>0.300000</td>\n",
       "    </tr>\n",
       "  </tbody>\n",
       "</table>\n",
       "</div>"
      ],
      "text/plain": [
       "                                                    nft_id  num_transfers  \\\n",
       "1959343       0xACd3CF818EFe8ddce84C585ddCB147c4C844D3b3_0            272   \n",
       "1135873  0x60F80121C31A0d46B5279700f9DF786054aa5eE5_120...             72   \n",
       "2470289     0xb7F7F6C52F2e2fdb1963Eab30438024864c313F6_639             72   \n",
       "2470073    0xb7F7F6C52F2e2fdb1963Eab30438024864c313F6_3920             67   \n",
       "2470503    0xb7F7F6C52F2e2fdb1963Eab30438024864c313F6_8476             65   \n",
       "\n",
       "         mean_cost_eth  min_cost_eth  max_cost_eth  \n",
       "1959343       0.000000           0.0      0.000000  \n",
       "1135873       0.000071           0.0      0.005125  \n",
       "2470289       0.994722           0.0     21.012500  \n",
       "2470073       0.005373           0.0      0.100000  \n",
       "2470503       0.031077           0.0      0.300000  "
      ]
     },
     "execution_count": 9,
     "metadata": {},
     "output_type": "execute_result"
    }
   ],
   "source": [
    "transfers_costs_df = transfers_df.groupby(['nft_id'], as_index=False).agg(mean_cost=pd.NamedAgg(column='transaction_value', aggfunc=\"mean\"), min_cost=pd.NamedAgg(column='transaction_value', aggfunc=\"min\"), max_cost=pd.NamedAgg(column='transaction_value', aggfunc=\"max\"))\n",
    "\n",
    "transfers_costs_df = transfers_costs_df.merge(transfers_count_df, on='nft_id')\n",
    "\n",
    "transfers_costs_df['mean_cost_eth'] = transfers_costs_df['mean_cost'] / (10**18)\n",
    "transfers_costs_df['min_cost_eth'] = transfers_costs_df['min_cost'] / (10**18)\n",
    "transfers_costs_df['max_cost_eth'] = transfers_costs_df['max_cost'] / (10**18)\n",
    "transfers_costs_df.drop(['mean_cost', 'min_cost', 'max_cost'], axis=1, inplace=True)\n",
    "\n",
    "transfers_costs_df.sort_values('num_transfers', inplace=True, ascending=False)\n",
    "\n",
    "transfers_costs_df.head()\n"
   ]
  },
  {
   "cell_type": "markdown",
   "metadata": {},
   "source": [
    "Analysis of relevant tokens (good number of transfers) to analyze change of value over time"
   ]
  },
  {
   "cell_type": "code",
   "execution_count": 18,
   "metadata": {},
   "outputs": [
    {
     "data": {
      "image/png": "[encoded data removed]",
      "text/plain": [
       "<Figure size 432x288 with 1 Axes>"
      ]
     },
     "metadata": {
      "needs_background": "light"
     },
     "output_type": "display_data"
    },
    {
     "data": {
      "image/png": "[encoded data removed]",
      "text/plain": [
       "<Figure size 432x288 with 1 Axes>"
      ]
     },
     "metadata": {
      "needs_background": "light"
     },
     "output_type": "display_data"
    },
    {
     "data": {
      "image/png": "[encoded data removed]",
      "text/plain": [
       "<Figure size 432x288 with 1 Axes>"
      ]
     },
     "metadata": {
      "needs_background": "light"
     },
     "output_type": "display_data"
    },
    {
     "data": {
      "image/png": "[encoded data removed]",
      "text/plain": [
       "<Figure size 432x288 with 1 Axes>"
      ]
     },
     "metadata": {
      "needs_background": "light"
     },
     "output_type": "display_data"
    },
    {
     "data": {
      "image/png": "[encoded data removed]",
      "text/plain": [
       "<Figure size 432x288 with 1 Axes>"
      ]
     },
     "metadata": {
      "needs_background": "light"
     },
     "output_type": "display_data"
    },
    {
     "data": {
      "image/png": "[encoded data removed]",
      "text/plain": [
       "<Figure size 432x288 with 1 Axes>"
      ]
     },
     "metadata": {
      "needs_background": "light"
     },
     "output_type": "display_data"
    },
    {
     "data": {
      "image/png": "[encoded data removed]",
      "text/plain": [
       "<Figure size 432x288 with 1 Axes>"
      ]
     },
     "metadata": {
      "needs_background": "light"
     },
     "output_type": "display_data"
    },
    {
     "data": {
      "image/png": "[encoded data removed]",
      "text/plain": [
       "<Figure size 432x288 with 1 Axes>"
      ]
     },
     "metadata": {
      "needs_background": "light"
     },
     "output_type": "display_data"
    },
    {
     "data": {
      "image/png": "[encoded data removed]",
      "text/plain": [
       "<Figure size 432x288 with 1 Axes>"
      ]
     },
     "metadata": {
      "needs_background": "light"
     },
     "output_type": "display_data"
    }
   ],
   "source": [
    "# relevant_transfers_costs_df = transfers_costs_df['num_transfers' > 1]\n",
    "\n",
    "# for each nft_id with num_transfers > x && mean_cost_eth > 0\n",
    "    # create df with all his transfers, oredered by timestamp and with trabsaction_value_eth column\n",
    "\n",
    "min_timestamp = transfers_df['timestamp'].min()\n",
    "day_length = 60*60*24\n",
    "\n",
    "for i in range(10) :\n",
    "    # mints from i-th top address\n",
    "    current_nft_df = transfers_df[transfers_df.nft_id == (transfers_costs_df.iloc[i].nft_id)]\n",
    "    \n",
    "    # skip if mints are not charged\n",
    "    if current_nft_df['transaction_value'].mean() == 0:\n",
    "        continue\n",
    "\n",
    "    # groupby parameters\n",
    "    min_timestamp_rel = current_nft_df['timestamp'].min()\n",
    "    max_timestamp_rel = current_nft_df['timestamp'].max()\n",
    "\n",
    "    starting_day = int((min_timestamp_rel - min_timestamp) / day_length)\n",
    "\n",
    "    # grouping by a range of timestamp (every group corresponds to 1 day of minting)\n",
    "    top_cost_fluctuations_df = current_nft_df.groupby(pd.cut(current_nft_df['timestamp'], np.arange(min_timestamp_rel, max_timestamp_rel+day_length, day_length))).agg(mean_cost=pd.NamedAgg(column='transaction_value', aggfunc=\"mean\"))\n",
    "    top_cost_fluctuations_df.sort_values('timestamp', inplace=True)\n",
    "    top_cost_fluctuations_df.insert(0, 'day', range(starting_day, starting_day + len(top_cost_fluctuations_df)))\n",
    "   \n",
    "    # cost conversion to eth\n",
    "    top_cost_fluctuations_df['mean_cost_eth'] = top_cost_fluctuations_df['mean_cost'] / (10**18)\n",
    "    top_cost_fluctuations_df.drop(['mean_cost'], axis=1, inplace=True)\n",
    "\n",
    "    top_cost_fluctuations_df.plot('day', 'mean_cost_eth')\n",
    "    plt.title(\"Top \" + str(i+1) + \" nft transferred\")\n",
    "    plt.show()"
   ]
  },
  {
   "cell_type": "markdown",
   "metadata": {},
   "source": [
    "# Conclusions"
   ]
  }
 ],
 "metadata": {
  "kernelspec": {
   "display_name": "Python 3.9.7 ('web3')",
   "language": "python",
   "name": "python3"
  },
  "language_info": {
   "codemirror_mode": {
    "name": "ipython",
    "version": 3
   },
   "file_extension": ".py",
   "mimetype": "text/x-python",
   "name": "python",
   "nbconvert_exporter": "python",
   "pygments_lexer": "ipython3",
   "version": "3.9.7"
  },
  "orig_nbformat": 4,
  "vscode": {
   "interpreter": {
    "hash": "c735468dad271d162d6216e9fed37b5150144cdf26f80e2e209980cba0ddc717"
   }
  }
 },
 "nbformat": 4,
 "nbformat_minor": 2
}
