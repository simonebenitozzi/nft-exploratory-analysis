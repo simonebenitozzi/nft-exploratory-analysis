{
 "cells": [
  {
   "cell_type": "code",
   "execution_count": 32,
   "metadata": {},
   "outputs": [],
   "source": [
    "\n",
    "# TODO: Top minters\n",
    "# TODO: How does minting value change over time?\n",
    "# TODO: generalize minting_range() and owning_range() functions\n",
    "    ## instead of columns names, use indexes"
   ]
  },
  {
   "cell_type": "code",
   "execution_count": 33,
   "metadata": {},
   "outputs": [],
   "source": [
    "import os\n",
    "import sqlite3\n",
    "\n",
    "import matplotlib.pyplot as plt\n",
    "import numpy as np\n",
    "import pandas as pd\n",
    "\n",
    "import nfts.dataset\n",
    "\n",
    "from nft_analysis_functions import range_analysis"
   ]
  },
  {
   "cell_type": "code",
   "execution_count": 34,
   "metadata": {},
   "outputs": [
    {
     "data": {
      "text/html": [
       "<div>\n",
       "<style scoped>\n",
       "    .dataframe tbody tr th:only-of-type {\n",
       "        vertical-align: middle;\n",
       "    }\n",
       "\n",
       "    .dataframe tbody tr th {\n",
       "        vertical-align: top;\n",
       "    }\n",
       "\n",
       "    .dataframe thead th {\n",
       "        text-align: right;\n",
       "    }\n",
       "</style>\n",
       "<table border=\"1\" class=\"dataframe\">\n",
       "  <thead>\n",
       "    <tr style=\"text-align: right;\">\n",
       "      <th></th>\n",
       "      <th>event_id</th>\n",
       "      <th>transaction_hash</th>\n",
       "      <th>block_number</th>\n",
       "      <th>nft_address</th>\n",
       "      <th>token_id</th>\n",
       "      <th>from_address</th>\n",
       "      <th>to_address</th>\n",
       "      <th>transaction_value</th>\n",
       "      <th>timestamp</th>\n",
       "    </tr>\n",
       "  </thead>\n",
       "  <tbody>\n",
       "    <tr>\n",
       "      <th>0</th>\n",
       "      <td>6c6d226e-2096-4b50-ac3f-f7078ca3a0c2</td>\n",
       "      <td>0xe47ac62111db3a6de2957394944501feb7d55cbef00a...</td>\n",
       "      <td>12936415</td>\n",
       "      <td>0x02AA731631c6D7F8241d74F906f5b51724Ab98F8</td>\n",
       "      <td>3223</td>\n",
       "      <td>0x0000000000000000000000000000000000000000</td>\n",
       "      <td>0x8D745Fb3311cC86ED52C177dA0d039C1862F3e13</td>\n",
       "      <td>0.000000e+00</td>\n",
       "      <td>1627776933</td>\n",
       "    </tr>\n",
       "    <tr>\n",
       "      <th>1</th>\n",
       "      <td>263c923f-4db9-4d81-a547-27e1fe5ec405</td>\n",
       "      <td>0xe47ac62111db3a6de2957394944501feb7d55cbef00a...</td>\n",
       "      <td>12936415</td>\n",
       "      <td>0x02AA731631c6D7F8241d74F906f5b51724Ab98F8</td>\n",
       "      <td>5077</td>\n",
       "      <td>0x0000000000000000000000000000000000000000</td>\n",
       "      <td>0x8D745Fb3311cC86ED52C177dA0d039C1862F3e13</td>\n",
       "      <td>0.000000e+00</td>\n",
       "      <td>1627776933</td>\n",
       "    </tr>\n",
       "    <tr>\n",
       "      <th>2</th>\n",
       "      <td>8baa8502-42f9-453e-824a-ad504045c9c5</td>\n",
       "      <td>0xe47ac62111db3a6de2957394944501feb7d55cbef00a...</td>\n",
       "      <td>12936415</td>\n",
       "      <td>0x02AA731631c6D7F8241d74F906f5b51724Ab98F8</td>\n",
       "      <td>5070</td>\n",
       "      <td>0x0000000000000000000000000000000000000000</td>\n",
       "      <td>0x8D745Fb3311cC86ED52C177dA0d039C1862F3e13</td>\n",
       "      <td>0.000000e+00</td>\n",
       "      <td>1627776933</td>\n",
       "    </tr>\n",
       "    <tr>\n",
       "      <th>3</th>\n",
       "      <td>364ee658-ff31-4d0a-a7a7-60d3d7822772</td>\n",
       "      <td>0xe47ac62111db3a6de2957394944501feb7d55cbef00a...</td>\n",
       "      <td>12936415</td>\n",
       "      <td>0x02AA731631c6D7F8241d74F906f5b51724Ab98F8</td>\n",
       "      <td>3757</td>\n",
       "      <td>0x0000000000000000000000000000000000000000</td>\n",
       "      <td>0x8D745Fb3311cC86ED52C177dA0d039C1862F3e13</td>\n",
       "      <td>0.000000e+00</td>\n",
       "      <td>1627776933</td>\n",
       "    </tr>\n",
       "    <tr>\n",
       "      <th>4</th>\n",
       "      <td>58d3adc3-03d2-4e7b-b02c-47957c1f5752</td>\n",
       "      <td>0xd44be17c0298717ce001843069b0a2ca08b577fa2b33...</td>\n",
       "      <td>12936414</td>\n",
       "      <td>0x57f1887a8BF19b14fC0dF6Fd9B2acc9Af147eA85</td>\n",
       "      <td>3252202771441387673917605047769619801375983664...</td>\n",
       "      <td>0x0000000000000000000000000000000000000000</td>\n",
       "      <td>0x283Af0B28c62C092C9727F1Ee09c02CA627EB7F5</td>\n",
       "      <td>2.251726e+15</td>\n",
       "      <td>1627776925</td>\n",
       "    </tr>\n",
       "  </tbody>\n",
       "</table>\n",
       "</div>"
      ],
      "text/plain": [
       "                               event_id  \\\n",
       "0  6c6d226e-2096-4b50-ac3f-f7078ca3a0c2   \n",
       "1  263c923f-4db9-4d81-a547-27e1fe5ec405   \n",
       "2  8baa8502-42f9-453e-824a-ad504045c9c5   \n",
       "3  364ee658-ff31-4d0a-a7a7-60d3d7822772   \n",
       "4  58d3adc3-03d2-4e7b-b02c-47957c1f5752   \n",
       "\n",
       "                                    transaction_hash  block_number  \\\n",
       "0  0xe47ac62111db3a6de2957394944501feb7d55cbef00a...      12936415   \n",
       "1  0xe47ac62111db3a6de2957394944501feb7d55cbef00a...      12936415   \n",
       "2  0xe47ac62111db3a6de2957394944501feb7d55cbef00a...      12936415   \n",
       "3  0xe47ac62111db3a6de2957394944501feb7d55cbef00a...      12936415   \n",
       "4  0xd44be17c0298717ce001843069b0a2ca08b577fa2b33...      12936414   \n",
       "\n",
       "                                  nft_address  \\\n",
       "0  0x02AA731631c6D7F8241d74F906f5b51724Ab98F8   \n",
       "1  0x02AA731631c6D7F8241d74F906f5b51724Ab98F8   \n",
       "2  0x02AA731631c6D7F8241d74F906f5b51724Ab98F8   \n",
       "3  0x02AA731631c6D7F8241d74F906f5b51724Ab98F8   \n",
       "4  0x57f1887a8BF19b14fC0dF6Fd9B2acc9Af147eA85   \n",
       "\n",
       "                                            token_id  \\\n",
       "0                                               3223   \n",
       "1                                               5077   \n",
       "2                                               5070   \n",
       "3                                               3757   \n",
       "4  3252202771441387673917605047769619801375983664...   \n",
       "\n",
       "                                 from_address  \\\n",
       "0  0x0000000000000000000000000000000000000000   \n",
       "1  0x0000000000000000000000000000000000000000   \n",
       "2  0x0000000000000000000000000000000000000000   \n",
       "3  0x0000000000000000000000000000000000000000   \n",
       "4  0x0000000000000000000000000000000000000000   \n",
       "\n",
       "                                   to_address  transaction_value   timestamp  \n",
       "0  0x8D745Fb3311cC86ED52C177dA0d039C1862F3e13       0.000000e+00  1627776933  \n",
       "1  0x8D745Fb3311cC86ED52C177dA0d039C1862F3e13       0.000000e+00  1627776933  \n",
       "2  0x8D745Fb3311cC86ED52C177dA0d039C1862F3e13       0.000000e+00  1627776933  \n",
       "3  0x8D745Fb3311cC86ED52C177dA0d039C1862F3e13       0.000000e+00  1627776933  \n",
       "4  0x283Af0B28c62C092C9727F1Ee09c02CA627EB7F5       2.251726e+15  1627776925  "
      ]
     },
     "execution_count": 34,
     "metadata": {},
     "output_type": "execute_result"
    }
   ],
   "source": [
    "dirname = os.path.dirname(os.path.abspath(\"__file__\"))\n",
    "DATASET_PATH = os.path.join(dirname, \"nfts.sqlite\")\n",
    "ds = nfts.dataset.FromSQLite(DATASET_PATH)\n",
    "\n",
    "mints_df = ds.load_dataframe(\"mints\")\n",
    "mints_df.head()"
   ]
  },
  {
   "cell_type": "markdown",
   "metadata": {},
   "source": [
    "# Mints per Contract"
   ]
  },
  {
   "cell_type": "code",
   "execution_count": 35,
   "metadata": {},
   "outputs": [
    {
     "data": {
      "text/plain": [
       "array([[<AxesSubplot:title={'center':'num_nfts'}>]], dtype=object)"
      ]
     },
     "execution_count": 35,
     "metadata": {},
     "output_type": "execute_result"
    },
    {
     "data": {
      "image/png": "[encoded data removed]",
      "text/plain": [
       "<Figure size 432x288 with 1 Axes>"
      ]
     },
     "metadata": {
      "needs_background": "light"
     },
     "output_type": "display_data"
    }
   ],
   "source": [
    "# nfts minted per contract (address)\n",
    "\n",
    "mints_per_contract_df = mints_df.groupby('nft_address', as_index=False).size().rename(columns={'size':'num_nfts'})\n",
    "mints_per_contract_df.hist('num_nfts', bins=200, log=True)"
   ]
  },
  {
   "cell_type": "code",
   "execution_count": 36,
   "metadata": {},
   "outputs": [
    {
     "data": {
      "text/html": [
       "<div>\n",
       "<style scoped>\n",
       "    .dataframe tbody tr th:only-of-type {\n",
       "        vertical-align: middle;\n",
       "    }\n",
       "\n",
       "    .dataframe tbody tr th {\n",
       "        vertical-align: top;\n",
       "    }\n",
       "\n",
       "    .dataframe thead th {\n",
       "        text-align: right;\n",
       "    }\n",
       "</style>\n",
       "<table border=\"1\" class=\"dataframe\">\n",
       "  <thead>\n",
       "    <tr style=\"text-align: right;\">\n",
       "      <th></th>\n",
       "      <th>nft_address</th>\n",
       "      <th>num_nfts</th>\n",
       "    </tr>\n",
       "  </thead>\n",
       "  <tbody>\n",
       "    <tr>\n",
       "      <th>0</th>\n",
       "      <td>0x00000000000b7F8E8E8Ad148f9d53303Bfe20796</td>\n",
       "      <td>29</td>\n",
       "    </tr>\n",
       "    <tr>\n",
       "      <th>1</th>\n",
       "      <td>0x000000000437b3CCE2530936156388Bff5578FC3</td>\n",
       "      <td>129</td>\n",
       "    </tr>\n",
       "    <tr>\n",
       "      <th>2</th>\n",
       "      <td>0x00000000fFfD97acDc8C5585C818F6b0f946C0eD</td>\n",
       "      <td>23</td>\n",
       "    </tr>\n",
       "    <tr>\n",
       "      <th>3</th>\n",
       "      <td>0x000000873EE8C0bE5B00D4b16723519e728A7420</td>\n",
       "      <td>3</td>\n",
       "    </tr>\n",
       "    <tr>\n",
       "      <th>4</th>\n",
       "      <td>0x0000009FC3Fea00F2e750632d49E2AfD96878F2a</td>\n",
       "      <td>1</td>\n",
       "    </tr>\n",
       "  </tbody>\n",
       "</table>\n",
       "</div>"
      ],
      "text/plain": [
       "                                  nft_address  num_nfts\n",
       "0  0x00000000000b7F8E8E8Ad148f9d53303Bfe20796        29\n",
       "1  0x000000000437b3CCE2530936156388Bff5578FC3       129\n",
       "2  0x00000000fFfD97acDc8C5585C818F6b0f946C0eD        23\n",
       "3  0x000000873EE8C0bE5B00D4b16723519e728A7420         3\n",
       "4  0x0000009FC3Fea00F2e750632d49E2AfD96878F2a         1"
      ]
     },
     "execution_count": 36,
     "metadata": {},
     "output_type": "execute_result"
    }
   ],
   "source": [
    "mints_per_contract_df.head()"
   ]
  },
  {
   "cell_type": "code",
   "execution_count": 37,
   "metadata": {},
   "outputs": [
    {
     "data": {
      "text/html": [
       "<div>\n",
       "<style scoped>\n",
       "    .dataframe tbody tr th:only-of-type {\n",
       "        vertical-align: middle;\n",
       "    }\n",
       "\n",
       "    .dataframe tbody tr th {\n",
       "        vertical-align: top;\n",
       "    }\n",
       "\n",
       "    .dataframe thead th {\n",
       "        text-align: right;\n",
       "    }\n",
       "</style>\n",
       "<table border=\"1\" class=\"dataframe\">\n",
       "  <thead>\n",
       "    <tr style=\"text-align: right;\">\n",
       "      <th></th>\n",
       "      <th>num_nfts</th>\n",
       "    </tr>\n",
       "  </thead>\n",
       "  <tbody>\n",
       "    <tr>\n",
       "      <th>0.1</th>\n",
       "      <td>1.0</td>\n",
       "    </tr>\n",
       "    <tr>\n",
       "      <th>0.2</th>\n",
       "      <td>2.0</td>\n",
       "    </tr>\n",
       "    <tr>\n",
       "      <th>0.3</th>\n",
       "      <td>3.0</td>\n",
       "    </tr>\n",
       "    <tr>\n",
       "      <th>0.4</th>\n",
       "      <td>7.0</td>\n",
       "    </tr>\n",
       "    <tr>\n",
       "      <th>0.5</th>\n",
       "      <td>15.0</td>\n",
       "    </tr>\n",
       "    <tr>\n",
       "      <th>0.6</th>\n",
       "      <td>36.0</td>\n",
       "    </tr>\n",
       "    <tr>\n",
       "      <th>0.7</th>\n",
       "      <td>100.0</td>\n",
       "    </tr>\n",
       "    <tr>\n",
       "      <th>0.8</th>\n",
       "      <td>315.8</td>\n",
       "    </tr>\n",
       "    <tr>\n",
       "      <th>0.9</th>\n",
       "      <td>1718.6</td>\n",
       "    </tr>\n",
       "    <tr>\n",
       "      <th>1.0</th>\n",
       "      <td>139894.0</td>\n",
       "    </tr>\n",
       "  </tbody>\n",
       "</table>\n",
       "</div>"
      ],
      "text/plain": [
       "     num_nfts\n",
       "0.1       1.0\n",
       "0.2       2.0\n",
       "0.3       3.0\n",
       "0.4       7.0\n",
       "0.5      15.0\n",
       "0.6      36.0\n",
       "0.7     100.0\n",
       "0.8     315.8\n",
       "0.9    1718.6\n",
       "1.0  139894.0"
      ]
     },
     "execution_count": 37,
     "metadata": {},
     "output_type": "execute_result"
    }
   ],
   "source": [
    "mints_per_contract_df.quantile(q = np.arange(0.1, 1.1, 0.1))"
   ]
  },
  {
   "cell_type": "code",
   "execution_count": 38,
   "metadata": {},
   "outputs": [
    {
     "data": {
      "text/html": [
       "<div>\n",
       "<style scoped>\n",
       "    .dataframe tbody tr th:only-of-type {\n",
       "        vertical-align: middle;\n",
       "    }\n",
       "\n",
       "    .dataframe tbody tr th {\n",
       "        vertical-align: top;\n",
       "    }\n",
       "\n",
       "    .dataframe thead th {\n",
       "        text-align: right;\n",
       "    }\n",
       "</style>\n",
       "<table border=\"1\" class=\"dataframe\">\n",
       "  <thead>\n",
       "    <tr style=\"text-align: right;\">\n",
       "      <th></th>\n",
       "      <th>nft_address</th>\n",
       "      <th>num_nfts</th>\n",
       "    </tr>\n",
       "  </thead>\n",
       "  <tbody>\n",
       "    <tr>\n",
       "      <th>1</th>\n",
       "      <td>0x000000000437b3CCE2530936156388Bff5578FC3</td>\n",
       "      <td>129</td>\n",
       "    </tr>\n",
       "    <tr>\n",
       "      <th>6</th>\n",
       "      <td>0x00000633Df1228868270bAdB2B812E12e13fdB91</td>\n",
       "      <td>1088</td>\n",
       "    </tr>\n",
       "    <tr>\n",
       "      <th>8</th>\n",
       "      <td>0x000E49C87d2874431567d38FF9548890aB39BAac</td>\n",
       "      <td>6650</td>\n",
       "    </tr>\n",
       "    <tr>\n",
       "      <th>9</th>\n",
       "      <td>0x001B4b85192aa034bff1524f181e3a7060e0dC30</td>\n",
       "      <td>112</td>\n",
       "    </tr>\n",
       "    <tr>\n",
       "      <th>17</th>\n",
       "      <td>0x004f5683e183908D0f6b688239e3e2D5bbb066CA</td>\n",
       "      <td>10000</td>\n",
       "    </tr>\n",
       "  </tbody>\n",
       "</table>\n",
       "</div>"
      ],
      "text/plain": [
       "                                   nft_address  num_nfts\n",
       "1   0x000000000437b3CCE2530936156388Bff5578FC3       129\n",
       "6   0x00000633Df1228868270bAdB2B812E12e13fdB91      1088\n",
       "8   0x000E49C87d2874431567d38FF9548890aB39BAac      6650\n",
       "9   0x001B4b85192aa034bff1524f181e3a7060e0dC30       112\n",
       "17  0x004f5683e183908D0f6b688239e3e2D5bbb066CA     10000"
      ]
     },
     "execution_count": 38,
     "metadata": {},
     "output_type": "execute_result"
    }
   ],
   "source": [
    "# addresses with more than 100 nfts \n",
    "top_minting_addresses_df = mints_per_contract_df[mints_per_contract_df['num_nfts']>=100]\n",
    "top_minting_addresses_df.head()"
   ]
  },
  {
   "cell_type": "code",
   "execution_count": 39,
   "metadata": {},
   "outputs": [
    {
     "data": {
      "text/plain": [
       "nft_address    2357\n",
       "num_nfts       2357\n",
       "dtype: int64"
      ]
     },
     "execution_count": 39,
     "metadata": {},
     "output_type": "execute_result"
    }
   ],
   "source": [
    "top_minting_addresses_df.count()"
   ]
  },
  {
   "cell_type": "markdown",
   "metadata": {},
   "source": [
    "# NFTs minted per address"
   ]
  },
  {
   "cell_type": "code",
   "execution_count": 40,
   "metadata": {},
   "outputs": [
    {
     "data": {
      "text/html": [
       "<div>\n",
       "<style scoped>\n",
       "    .dataframe tbody tr th:only-of-type {\n",
       "        vertical-align: middle;\n",
       "    }\n",
       "\n",
       "    .dataframe tbody tr th {\n",
       "        vertical-align: top;\n",
       "    }\n",
       "\n",
       "    .dataframe thead th {\n",
       "        text-align: right;\n",
       "    }\n",
       "</style>\n",
       "<table border=\"1\" class=\"dataframe\">\n",
       "  <thead>\n",
       "    <tr style=\"text-align: right;\">\n",
       "      <th></th>\n",
       "      <th>event_id</th>\n",
       "      <th>transaction_hash</th>\n",
       "      <th>block_number</th>\n",
       "      <th>nft_address</th>\n",
       "      <th>token_id</th>\n",
       "      <th>from_address</th>\n",
       "      <th>to_address</th>\n",
       "      <th>transaction_value</th>\n",
       "      <th>timestamp</th>\n",
       "    </tr>\n",
       "  </thead>\n",
       "  <tbody>\n",
       "    <tr>\n",
       "      <th>0</th>\n",
       "      <td>6c6d226e-2096-4b50-ac3f-f7078ca3a0c2</td>\n",
       "      <td>0xe47ac62111db3a6de2957394944501feb7d55cbef00a...</td>\n",
       "      <td>12936415</td>\n",
       "      <td>0x02AA731631c6D7F8241d74F906f5b51724Ab98F8</td>\n",
       "      <td>3223</td>\n",
       "      <td>0x0000000000000000000000000000000000000000</td>\n",
       "      <td>0x8D745Fb3311cC86ED52C177dA0d039C1862F3e13</td>\n",
       "      <td>0.000000e+00</td>\n",
       "      <td>1627776933</td>\n",
       "    </tr>\n",
       "    <tr>\n",
       "      <th>1</th>\n",
       "      <td>263c923f-4db9-4d81-a547-27e1fe5ec405</td>\n",
       "      <td>0xe47ac62111db3a6de2957394944501feb7d55cbef00a...</td>\n",
       "      <td>12936415</td>\n",
       "      <td>0x02AA731631c6D7F8241d74F906f5b51724Ab98F8</td>\n",
       "      <td>5077</td>\n",
       "      <td>0x0000000000000000000000000000000000000000</td>\n",
       "      <td>0x8D745Fb3311cC86ED52C177dA0d039C1862F3e13</td>\n",
       "      <td>0.000000e+00</td>\n",
       "      <td>1627776933</td>\n",
       "    </tr>\n",
       "    <tr>\n",
       "      <th>2</th>\n",
       "      <td>8baa8502-42f9-453e-824a-ad504045c9c5</td>\n",
       "      <td>0xe47ac62111db3a6de2957394944501feb7d55cbef00a...</td>\n",
       "      <td>12936415</td>\n",
       "      <td>0x02AA731631c6D7F8241d74F906f5b51724Ab98F8</td>\n",
       "      <td>5070</td>\n",
       "      <td>0x0000000000000000000000000000000000000000</td>\n",
       "      <td>0x8D745Fb3311cC86ED52C177dA0d039C1862F3e13</td>\n",
       "      <td>0.000000e+00</td>\n",
       "      <td>1627776933</td>\n",
       "    </tr>\n",
       "    <tr>\n",
       "      <th>3</th>\n",
       "      <td>364ee658-ff31-4d0a-a7a7-60d3d7822772</td>\n",
       "      <td>0xe47ac62111db3a6de2957394944501feb7d55cbef00a...</td>\n",
       "      <td>12936415</td>\n",
       "      <td>0x02AA731631c6D7F8241d74F906f5b51724Ab98F8</td>\n",
       "      <td>3757</td>\n",
       "      <td>0x0000000000000000000000000000000000000000</td>\n",
       "      <td>0x8D745Fb3311cC86ED52C177dA0d039C1862F3e13</td>\n",
       "      <td>0.000000e+00</td>\n",
       "      <td>1627776933</td>\n",
       "    </tr>\n",
       "    <tr>\n",
       "      <th>4</th>\n",
       "      <td>58d3adc3-03d2-4e7b-b02c-47957c1f5752</td>\n",
       "      <td>0xd44be17c0298717ce001843069b0a2ca08b577fa2b33...</td>\n",
       "      <td>12936414</td>\n",
       "      <td>0x57f1887a8BF19b14fC0dF6Fd9B2acc9Af147eA85</td>\n",
       "      <td>3252202771441387673917605047769619801375983664...</td>\n",
       "      <td>0x0000000000000000000000000000000000000000</td>\n",
       "      <td>0x283Af0B28c62C092C9727F1Ee09c02CA627EB7F5</td>\n",
       "      <td>2.251726e+15</td>\n",
       "      <td>1627776925</td>\n",
       "    </tr>\n",
       "  </tbody>\n",
       "</table>\n",
       "</div>"
      ],
      "text/plain": [
       "                               event_id  \\\n",
       "0  6c6d226e-2096-4b50-ac3f-f7078ca3a0c2   \n",
       "1  263c923f-4db9-4d81-a547-27e1fe5ec405   \n",
       "2  8baa8502-42f9-453e-824a-ad504045c9c5   \n",
       "3  364ee658-ff31-4d0a-a7a7-60d3d7822772   \n",
       "4  58d3adc3-03d2-4e7b-b02c-47957c1f5752   \n",
       "\n",
       "                                    transaction_hash  block_number  \\\n",
       "0  0xe47ac62111db3a6de2957394944501feb7d55cbef00a...      12936415   \n",
       "1  0xe47ac62111db3a6de2957394944501feb7d55cbef00a...      12936415   \n",
       "2  0xe47ac62111db3a6de2957394944501feb7d55cbef00a...      12936415   \n",
       "3  0xe47ac62111db3a6de2957394944501feb7d55cbef00a...      12936415   \n",
       "4  0xd44be17c0298717ce001843069b0a2ca08b577fa2b33...      12936414   \n",
       "\n",
       "                                  nft_address  \\\n",
       "0  0x02AA731631c6D7F8241d74F906f5b51724Ab98F8   \n",
       "1  0x02AA731631c6D7F8241d74F906f5b51724Ab98F8   \n",
       "2  0x02AA731631c6D7F8241d74F906f5b51724Ab98F8   \n",
       "3  0x02AA731631c6D7F8241d74F906f5b51724Ab98F8   \n",
       "4  0x57f1887a8BF19b14fC0dF6Fd9B2acc9Af147eA85   \n",
       "\n",
       "                                            token_id  \\\n",
       "0                                               3223   \n",
       "1                                               5077   \n",
       "2                                               5070   \n",
       "3                                               3757   \n",
       "4  3252202771441387673917605047769619801375983664...   \n",
       "\n",
       "                                 from_address  \\\n",
       "0  0x0000000000000000000000000000000000000000   \n",
       "1  0x0000000000000000000000000000000000000000   \n",
       "2  0x0000000000000000000000000000000000000000   \n",
       "3  0x0000000000000000000000000000000000000000   \n",
       "4  0x0000000000000000000000000000000000000000   \n",
       "\n",
       "                                   to_address  transaction_value   timestamp  \n",
       "0  0x8D745Fb3311cC86ED52C177dA0d039C1862F3e13       0.000000e+00  1627776933  \n",
       "1  0x8D745Fb3311cC86ED52C177dA0d039C1862F3e13       0.000000e+00  1627776933  \n",
       "2  0x8D745Fb3311cC86ED52C177dA0d039C1862F3e13       0.000000e+00  1627776933  \n",
       "3  0x8D745Fb3311cC86ED52C177dA0d039C1862F3e13       0.000000e+00  1627776933  \n",
       "4  0x283Af0B28c62C092C9727F1Ee09c02CA627EB7F5       2.251726e+15  1627776925  "
      ]
     },
     "execution_count": 40,
     "metadata": {},
     "output_type": "execute_result"
    }
   ],
   "source": [
    "# mints from top addresses only\n",
    "relevant_mints_df = mints_df[mints_df['nft_address'].isin(top_minting_addresses_df['nft_address'])]\n",
    "relevant_mints_df.head()"
   ]
  },
  {
   "cell_type": "code",
   "execution_count": 41,
   "metadata": {},
   "outputs": [
    {
     "data": {
      "text/html": [
       "<div>\n",
       "<style scoped>\n",
       "    .dataframe tbody tr th:only-of-type {\n",
       "        vertical-align: middle;\n",
       "    }\n",
       "\n",
       "    .dataframe tbody tr th {\n",
       "        vertical-align: top;\n",
       "    }\n",
       "\n",
       "    .dataframe thead th {\n",
       "        text-align: right;\n",
       "    }\n",
       "</style>\n",
       "<table border=\"1\" class=\"dataframe\">\n",
       "  <thead>\n",
       "    <tr style=\"text-align: right;\">\n",
       "      <th></th>\n",
       "      <th>nft_address</th>\n",
       "      <th>num_receivers</th>\n",
       "      <th>num_nfts</th>\n",
       "    </tr>\n",
       "  </thead>\n",
       "  <tbody>\n",
       "    <tr>\n",
       "      <th>0</th>\n",
       "      <td>0x000000000437b3CCE2530936156388Bff5578FC3</td>\n",
       "      <td>26</td>\n",
       "      <td>129</td>\n",
       "    </tr>\n",
       "    <tr>\n",
       "      <th>1</th>\n",
       "      <td>0x00000633Df1228868270bAdB2B812E12e13fdB91</td>\n",
       "      <td>155</td>\n",
       "      <td>1088</td>\n",
       "    </tr>\n",
       "    <tr>\n",
       "      <th>2</th>\n",
       "      <td>0x000E49C87d2874431567d38FF9548890aB39BAac</td>\n",
       "      <td>1615</td>\n",
       "      <td>6650</td>\n",
       "    </tr>\n",
       "    <tr>\n",
       "      <th>3</th>\n",
       "      <td>0x001B4b85192aa034bff1524f181e3a7060e0dC30</td>\n",
       "      <td>1</td>\n",
       "      <td>112</td>\n",
       "    </tr>\n",
       "    <tr>\n",
       "      <th>4</th>\n",
       "      <td>0x004f5683e183908D0f6b688239e3e2D5bbb066CA</td>\n",
       "      <td>1292</td>\n",
       "      <td>10000</td>\n",
       "    </tr>\n",
       "  </tbody>\n",
       "</table>\n",
       "</div>"
      ],
      "text/plain": [
       "                                  nft_address  num_receivers  num_nfts\n",
       "0  0x000000000437b3CCE2530936156388Bff5578FC3             26       129\n",
       "1  0x00000633Df1228868270bAdB2B812E12e13fdB91            155      1088\n",
       "2  0x000E49C87d2874431567d38FF9548890aB39BAac           1615      6650\n",
       "3  0x001B4b85192aa034bff1524f181e3a7060e0dC30              1       112\n",
       "4  0x004f5683e183908D0f6b688239e3e2D5bbb066CA           1292     10000"
      ]
     },
     "execution_count": 41,
     "metadata": {},
     "output_type": "execute_result"
    }
   ],
   "source": [
    "# mint receivers per address\n",
    "mint_receivers_df = relevant_mints_df.groupby('nft_address', as_index=False)['to_address'].nunique().rename(columns={'to_address':'num_receivers'})\n",
    "mint_receivers_df = mint_receivers_df.merge(mints_per_contract_df, on='nft_address')\n",
    "mint_receivers_df.head()"
   ]
  },
  {
   "cell_type": "code",
   "execution_count": 42,
   "metadata": {},
   "outputs": [
    {
     "data": {
      "text/plain": [
       "nft_address      2357\n",
       "num_receivers    2357\n",
       "num_nfts         2357\n",
       "dtype: int64"
      ]
     },
     "execution_count": 42,
     "metadata": {},
     "output_type": "execute_result"
    }
   ],
   "source": [
    "mint_receivers_df.count()"
   ]
  },
  {
   "cell_type": "code",
   "execution_count": 43,
   "metadata": {},
   "outputs": [
    {
     "data": {
      "text/plain": [
       "array([[<AxesSubplot:title={'center':'num_nfts'}>]], dtype=object)"
      ]
     },
     "execution_count": 43,
     "metadata": {},
     "output_type": "execute_result"
    },
    {
     "data": {
      "image/png": "[encoded data removed]",
      "text/plain": [
       "<Figure size 432x288 with 1 Axes>"
      ]
     },
     "metadata": {
      "needs_background": "light"
     },
     "output_type": "display_data"
    }
   ],
   "source": [
    "mint_receivers_df[mint_receivers_df['num_receivers'] == 1].hist('num_nfts', bins=100, log=True)"
   ]
  },
  {
   "cell_type": "code",
   "execution_count": 44,
   "metadata": {},
   "outputs": [
    {
     "data": {
      "text/plain": [
       "array([[<AxesSubplot:title={'center':'weighted_num_receivers'}>]],\n",
       "      dtype=object)"
      ]
     },
     "execution_count": 44,
     "metadata": {},
     "output_type": "execute_result"
    },
    {
     "data": {
      "image/png": "[encoded data removed]",
      "text/plain": [
       "<Figure size 432x288 with 1 Axes>"
      ]
     },
     "metadata": {
      "needs_background": "light"
     },
     "output_type": "display_data"
    }
   ],
   "source": [
    "mint_receivers_df['weighted_num_receivers'] = mint_receivers_df['num_receivers'] / mint_receivers_df['num_nfts']\n",
    "mint_receivers_df.hist('weighted_num_receivers', bins=100)"
   ]
  },
  {
   "cell_type": "markdown",
   "metadata": {},
   "source": [
    "# Top Minters"
   ]
  },
  {
   "cell_type": "code",
   "execution_count": 45,
   "metadata": {},
   "outputs": [
    {
     "data": {
      "text/html": [
       "<div>\n",
       "<style scoped>\n",
       "    .dataframe tbody tr th:only-of-type {\n",
       "        vertical-align: middle;\n",
       "    }\n",
       "\n",
       "    .dataframe tbody tr th {\n",
       "        vertical-align: top;\n",
       "    }\n",
       "\n",
       "    .dataframe thead th {\n",
       "        text-align: right;\n",
       "    }\n",
       "</style>\n",
       "<table border=\"1\" class=\"dataframe\">\n",
       "  <thead>\n",
       "    <tr style=\"text-align: right;\">\n",
       "      <th></th>\n",
       "      <th>minter</th>\n",
       "      <th>num_mints</th>\n",
       "    </tr>\n",
       "  </thead>\n",
       "  <tbody>\n",
       "    <tr>\n",
       "      <th>79304</th>\n",
       "      <td>0x283Af0B28c62C092C9727F1Ee09c02CA627EB7F5</td>\n",
       "      <td>139631</td>\n",
       "    </tr>\n",
       "    <tr>\n",
       "      <th>99431</th>\n",
       "      <td>0x327305A797d92a39cEe1a225D7E2A1cC42B1a8fA</td>\n",
       "      <td>101329</td>\n",
       "    </tr>\n",
       "    <tr>\n",
       "      <th>5853</th>\n",
       "      <td>0x02E4103b8A3c55AcDDF298311a9928f9Fe27822C</td>\n",
       "      <td>99999</td>\n",
       "    </tr>\n",
       "    <tr>\n",
       "      <th>378771</th>\n",
       "      <td>0xE052113bd7D7700d623414a0a4585BCaE754E9d5</td>\n",
       "      <td>59770</td>\n",
       "    </tr>\n",
       "    <tr>\n",
       "      <th>297374</th>\n",
       "      <td>0x96bEE49d3386d674bF4E956D9B3ce61b9540409D</td>\n",
       "      <td>42456</td>\n",
       "    </tr>\n",
       "    <tr>\n",
       "      <th>344266</th>\n",
       "      <td>0xBa0d01220a7CeA942596123102535F800f558763</td>\n",
       "      <td>33701</td>\n",
       "    </tr>\n",
       "    <tr>\n",
       "      <th>366238</th>\n",
       "      <td>0xD387A6E4e84a6C86bd90C158C6028A58CC8Ac459</td>\n",
       "      <td>13638</td>\n",
       "    </tr>\n",
       "    <tr>\n",
       "      <th>462786</th>\n",
       "      <td>0xd5a9C4a92dDE274e126f82b215Fccb511147Cd8e</td>\n",
       "      <td>13521</td>\n",
       "    </tr>\n",
       "    <tr>\n",
       "      <th>221</th>\n",
       "      <td>0x0008d343091EF8BD3EFA730F6aAE5A26a285C7a2</td>\n",
       "      <td>12151</td>\n",
       "    </tr>\n",
       "    <tr>\n",
       "      <th>75210</th>\n",
       "      <td>0x262492D7278c07444972f5AB4fBdDE10D4ca8BeA</td>\n",
       "      <td>10430</td>\n",
       "    </tr>\n",
       "  </tbody>\n",
       "</table>\n",
       "</div>"
      ],
      "text/plain": [
       "                                            minter  num_mints\n",
       "79304   0x283Af0B28c62C092C9727F1Ee09c02CA627EB7F5     139631\n",
       "99431   0x327305A797d92a39cEe1a225D7E2A1cC42B1a8fA     101329\n",
       "5853    0x02E4103b8A3c55AcDDF298311a9928f9Fe27822C      99999\n",
       "378771  0xE052113bd7D7700d623414a0a4585BCaE754E9d5      59770\n",
       "297374  0x96bEE49d3386d674bF4E956D9B3ce61b9540409D      42456\n",
       "344266  0xBa0d01220a7CeA942596123102535F800f558763      33701\n",
       "366238  0xD387A6E4e84a6C86bd90C158C6028A58CC8Ac459      13638\n",
       "462786  0xd5a9C4a92dDE274e126f82b215Fccb511147Cd8e      13521\n",
       "221     0x0008d343091EF8BD3EFA730F6aAE5A26a285C7a2      12151\n",
       "75210   0x262492D7278c07444972f5AB4fBdDE10D4ca8BeA      10430"
      ]
     },
     "execution_count": 45,
     "metadata": {},
     "output_type": "execute_result"
    }
   ],
   "source": [
    "top_minters_df = mints_df.groupby(['to_address'], as_index=False).size().rename(columns={'to_address':'minter', 'size':'num_mints'})\n",
    "top_minters_df.sort_values('num_mints', inplace=True, ascending=False)\n",
    "\n",
    "top_minters_df.head(10)"
   ]
  },
  {
   "cell_type": "code",
   "execution_count": 46,
   "metadata": {},
   "outputs": [
    {
     "data": {
      "image/png": "[encoded data removed]",
      "text/plain": [
       "<Figure size 432x288 with 1 Axes>"
      ]
     },
     "metadata": {
      "needs_background": "light"
     },
     "output_type": "display_data"
    }
   ],
   "source": [
    "plt.xlabel('Numbers of mints - n')\n",
    "plt.ylabel('Numbers of addresses that minted n tokens (log scale)')\n",
    "_, _, _ = plt.hist(top_minters_df['num_mints'], bins=100, log=True)"
   ]
  },
  {
   "cell_type": "code",
   "execution_count": 47,
   "metadata": {},
   "outputs": [
    {
     "data": {
      "text/html": [
       "<div>\n",
       "<style scoped>\n",
       "    .dataframe tbody tr th:only-of-type {\n",
       "        vertical-align: middle;\n",
       "    }\n",
       "\n",
       "    .dataframe tbody tr th {\n",
       "        vertical-align: top;\n",
       "    }\n",
       "\n",
       "    .dataframe thead th {\n",
       "        text-align: right;\n",
       "    }\n",
       "</style>\n",
       "<table border=\"1\" class=\"dataframe\">\n",
       "  <thead>\n",
       "    <tr style=\"text-align: right;\">\n",
       "      <th></th>\n",
       "      <th>NFTs minted</th>\n",
       "      <th>number of minters</th>\n",
       "      <th>% of minters</th>\n",
       "      <th>number of mints</th>\n",
       "      <th>% of mints</th>\n",
       "    </tr>\n",
       "  </thead>\n",
       "  <tbody>\n",
       "    <tr>\n",
       "      <th>0</th>\n",
       "      <td>1 &lt;= n</td>\n",
       "      <td>504004</td>\n",
       "      <td>100.0%</td>\n",
       "      <td>6667282</td>\n",
       "      <td>100.0%</td>\n",
       "    </tr>\n",
       "    <tr>\n",
       "      <th>1</th>\n",
       "      <td>2 &lt;= n</td>\n",
       "      <td>294074</td>\n",
       "      <td>58.35%</td>\n",
       "      <td>6457352</td>\n",
       "      <td>96.85%</td>\n",
       "    </tr>\n",
       "    <tr>\n",
       "      <th>2</th>\n",
       "      <td>n = 1</td>\n",
       "      <td>209930</td>\n",
       "      <td>41.65%</td>\n",
       "      <td>209930</td>\n",
       "      <td>3.15%</td>\n",
       "    </tr>\n",
       "    <tr>\n",
       "      <th>3</th>\n",
       "      <td>1 &lt;= n &lt;= 500</td>\n",
       "      <td>502787</td>\n",
       "      <td>99.76%</td>\n",
       "      <td>4852937</td>\n",
       "      <td>72.79%</td>\n",
       "    </tr>\n",
       "    <tr>\n",
       "      <th>4</th>\n",
       "      <td>1 &lt;= n &lt;= 1000</td>\n",
       "      <td>503580</td>\n",
       "      <td>99.92%</td>\n",
       "      <td>5396384</td>\n",
       "      <td>80.94%</td>\n",
       "    </tr>\n",
       "    <tr>\n",
       "      <th>5</th>\n",
       "      <td>1 &lt;= n &lt;= 5000</td>\n",
       "      <td>503977</td>\n",
       "      <td>99.99%</td>\n",
       "      <td>6013547</td>\n",
       "      <td>90.19%</td>\n",
       "    </tr>\n",
       "    <tr>\n",
       "      <th>6</th>\n",
       "      <td>1 &lt;= n &lt;= 10000</td>\n",
       "      <td>503993</td>\n",
       "      <td>100.0%</td>\n",
       "      <td>6130647</td>\n",
       "      <td>91.95%</td>\n",
       "    </tr>\n",
       "    <tr>\n",
       "      <th>7</th>\n",
       "      <td>20000 &lt;= n</td>\n",
       "      <td>6</td>\n",
       "      <td>0.0%</td>\n",
       "      <td>476886</td>\n",
       "      <td>7.15%</td>\n",
       "    </tr>\n",
       "  </tbody>\n",
       "</table>\n",
       "</div>"
      ],
      "text/plain": [
       "       NFTs minted  number of minters % of minters  number of mints % of mints\n",
       "0           1 <= n             504004       100.0%          6667282     100.0%\n",
       "1           2 <= n             294074       58.35%          6457352     96.85%\n",
       "2            n = 1             209930       41.65%           209930      3.15%\n",
       "3    1 <= n <= 500             502787       99.76%          4852937     72.79%\n",
       "4   1 <= n <= 1000             503580       99.92%          5396384     80.94%\n",
       "5   1 <= n <= 5000             503977       99.99%          6013547     90.19%\n",
       "6  1 <= n <= 10000             503993       100.0%          6130647     91.95%\n",
       "7       20000 <= n                  6         0.0%           476886      7.15%"
      ]
     },
     "execution_count": 47,
     "metadata": {},
     "output_type": "execute_result"
    }
   ],
   "source": [
    "minting_distribution_list = []\n",
    "\n",
    "# all minters\n",
    "minting_distribution_list.append(range_analysis(top_minters_df, 1))\n",
    "# minters with more than 1 token\n",
    "minting_distribution_list.append(range_analysis(top_minters_df, 2))\n",
    "\n",
    "for i in [1, 500, 1000, 5000, 10000]:\n",
    "    minting_distribution_list.append(range_analysis(top_minters_df, 1, i))\n",
    "\n",
    "# minters with more than 20000 token\n",
    "minting_distribution_list.append(range_analysis(top_minters_df, 20000))\n",
    "\n",
    "ownership_distribution_df = pd.DataFrame(minting_distribution_list, columns=['NFTs minted', 'number of minters', '% of minters', 'number of mints', '% of mints'])\n",
    "ownership_distribution_df"
   ]
  },
  {
   "cell_type": "markdown",
   "metadata": {},
   "source": [
    "# Minting period"
   ]
  },
  {
   "cell_type": "code",
   "execution_count": 48,
   "metadata": {},
   "outputs": [
    {
     "data": {
      "text/html": [
       "<div>\n",
       "<style scoped>\n",
       "    .dataframe tbody tr th:only-of-type {\n",
       "        vertical-align: middle;\n",
       "    }\n",
       "\n",
       "    .dataframe tbody tr th {\n",
       "        vertical-align: top;\n",
       "    }\n",
       "\n",
       "    .dataframe thead th {\n",
       "        text-align: right;\n",
       "    }\n",
       "</style>\n",
       "<table border=\"1\" class=\"dataframe\">\n",
       "  <thead>\n",
       "    <tr style=\"text-align: right;\">\n",
       "      <th></th>\n",
       "      <th>nft_address</th>\n",
       "      <th>min_timestamp</th>\n",
       "      <th>max_timestamp</th>\n",
       "      <th>duration</th>\n",
       "    </tr>\n",
       "  </thead>\n",
       "  <tbody>\n",
       "    <tr>\n",
       "      <th>0</th>\n",
       "      <td>0x000000000437b3CCE2530936156388Bff5578FC3</td>\n",
       "      <td>1626506862</td>\n",
       "      <td>1632425761</td>\n",
       "      <td>5918899</td>\n",
       "    </tr>\n",
       "    <tr>\n",
       "      <th>1</th>\n",
       "      <td>0x00000633Df1228868270bAdB2B812E12e13fdB91</td>\n",
       "      <td>1630760998</td>\n",
       "      <td>1631346316</td>\n",
       "      <td>585318</td>\n",
       "    </tr>\n",
       "    <tr>\n",
       "      <th>2</th>\n",
       "      <td>0x000E49C87d2874431567d38FF9548890aB39BAac</td>\n",
       "      <td>1631895759</td>\n",
       "      <td>1632586360</td>\n",
       "      <td>690601</td>\n",
       "    </tr>\n",
       "    <tr>\n",
       "      <th>3</th>\n",
       "      <td>0x001B4b85192aa034bff1524f181e3a7060e0dC30</td>\n",
       "      <td>1620428643</td>\n",
       "      <td>1620429463</td>\n",
       "      <td>820</td>\n",
       "    </tr>\n",
       "    <tr>\n",
       "      <th>4</th>\n",
       "      <td>0x004f5683e183908D0f6b688239e3e2D5bbb066CA</td>\n",
       "      <td>1627076574</td>\n",
       "      <td>1627079304</td>\n",
       "      <td>2730</td>\n",
       "    </tr>\n",
       "  </tbody>\n",
       "</table>\n",
       "</div>"
      ],
      "text/plain": [
       "                                  nft_address  min_timestamp  max_timestamp  \\\n",
       "0  0x000000000437b3CCE2530936156388Bff5578FC3     1626506862     1632425761   \n",
       "1  0x00000633Df1228868270bAdB2B812E12e13fdB91     1630760998     1631346316   \n",
       "2  0x000E49C87d2874431567d38FF9548890aB39BAac     1631895759     1632586360   \n",
       "3  0x001B4b85192aa034bff1524f181e3a7060e0dC30     1620428643     1620429463   \n",
       "4  0x004f5683e183908D0f6b688239e3e2D5bbb066CA     1627076574     1627079304   \n",
       "\n",
       "   duration  \n",
       "0   5918899  \n",
       "1    585318  \n",
       "2    690601  \n",
       "3       820  \n",
       "4      2730  "
      ]
     },
     "execution_count": 48,
     "metadata": {},
     "output_type": "execute_result"
    }
   ],
   "source": [
    "# for each address, it contains timestamp of first and last minting (+ difference in seconds)\n",
    "minting_period_df = relevant_mints_df.groupby('nft_address', as_index=False).agg(min_timestamp=pd.NamedAgg(column='timestamp', aggfunc=\"min\"), \n",
    "                                                                                    max_timestamp=pd.NamedAgg(column='timestamp', aggfunc=\"max\"))\n",
    "\n",
    "minting_period_df['duration'] = minting_period_df['max_timestamp'] - minting_period_df['min_timestamp']\n",
    "minting_period_df.head()"
   ]
  },
  {
   "cell_type": "code",
   "execution_count": 49,
   "metadata": {},
   "outputs": [
    {
     "data": {
      "text/plain": [
       "array([[<AxesSubplot:title={'center':'duration'}>]], dtype=object)"
      ]
     },
     "execution_count": 49,
     "metadata": {},
     "output_type": "execute_result"
    },
    {
     "data": {
      "image/png": "[encoded data removed]",
      "text/plain": [
       "<Figure size 432x288 with 1 Axes>"
      ]
     },
     "metadata": {
      "needs_background": "light"
     },
     "output_type": "display_data"
    }
   ],
   "source": [
    "minting_period_df.hist('duration', bins=500)"
   ]
  },
  {
   "cell_type": "code",
   "execution_count": 50,
   "metadata": {},
   "outputs": [
    {
     "name": "stdout",
     "output_type": "stream",
     "text": [
      "Number of days per x step: 23.14814814814815\n"
     ]
    }
   ],
   "source": [
    "print(f\"Number of days per x step: {0.2 * 1e7 / (24 * 3600)}\")"
   ]
  },
  {
   "cell_type": "code",
   "execution_count": 51,
   "metadata": {},
   "outputs": [
    {
     "data": {
      "text/html": [
       "<div>\n",
       "<style scoped>\n",
       "    .dataframe tbody tr th:only-of-type {\n",
       "        vertical-align: middle;\n",
       "    }\n",
       "\n",
       "    .dataframe tbody tr th {\n",
       "        vertical-align: top;\n",
       "    }\n",
       "\n",
       "    .dataframe thead th {\n",
       "        text-align: right;\n",
       "    }\n",
       "</style>\n",
       "<table border=\"1\" class=\"dataframe\">\n",
       "  <thead>\n",
       "    <tr style=\"text-align: right;\">\n",
       "      <th></th>\n",
       "      <th>nft_address</th>\n",
       "      <th>duration</th>\n",
       "      <th>num_receivers</th>\n",
       "      <th>num_nfts</th>\n",
       "      <th>weighted_num_receivers</th>\n",
       "    </tr>\n",
       "  </thead>\n",
       "  <tbody>\n",
       "    <tr>\n",
       "      <th>0</th>\n",
       "      <td>0x000000000437b3CCE2530936156388Bff5578FC3</td>\n",
       "      <td>5918899</td>\n",
       "      <td>26</td>\n",
       "      <td>129</td>\n",
       "      <td>0.201550</td>\n",
       "    </tr>\n",
       "    <tr>\n",
       "      <th>1</th>\n",
       "      <td>0x00000633Df1228868270bAdB2B812E12e13fdB91</td>\n",
       "      <td>585318</td>\n",
       "      <td>155</td>\n",
       "      <td>1088</td>\n",
       "      <td>0.142463</td>\n",
       "    </tr>\n",
       "    <tr>\n",
       "      <th>2</th>\n",
       "      <td>0x000E49C87d2874431567d38FF9548890aB39BAac</td>\n",
       "      <td>690601</td>\n",
       "      <td>1615</td>\n",
       "      <td>6650</td>\n",
       "      <td>0.242857</td>\n",
       "    </tr>\n",
       "    <tr>\n",
       "      <th>3</th>\n",
       "      <td>0x001B4b85192aa034bff1524f181e3a7060e0dC30</td>\n",
       "      <td>820</td>\n",
       "      <td>1</td>\n",
       "      <td>112</td>\n",
       "      <td>0.008929</td>\n",
       "    </tr>\n",
       "    <tr>\n",
       "      <th>4</th>\n",
       "      <td>0x004f5683e183908D0f6b688239e3e2D5bbb066CA</td>\n",
       "      <td>2730</td>\n",
       "      <td>1292</td>\n",
       "      <td>10000</td>\n",
       "      <td>0.129200</td>\n",
       "    </tr>\n",
       "  </tbody>\n",
       "</table>\n",
       "</div>"
      ],
      "text/plain": [
       "                                  nft_address  duration  num_receivers  \\\n",
       "0  0x000000000437b3CCE2530936156388Bff5578FC3   5918899             26   \n",
       "1  0x00000633Df1228868270bAdB2B812E12e13fdB91    585318            155   \n",
       "2  0x000E49C87d2874431567d38FF9548890aB39BAac    690601           1615   \n",
       "3  0x001B4b85192aa034bff1524f181e3a7060e0dC30       820              1   \n",
       "4  0x004f5683e183908D0f6b688239e3e2D5bbb066CA      2730           1292   \n",
       "\n",
       "   num_nfts  weighted_num_receivers  \n",
       "0       129                0.201550  \n",
       "1      1088                0.142463  \n",
       "2      6650                0.242857  \n",
       "3       112                0.008929  \n",
       "4     10000                0.129200  "
      ]
     },
     "execution_count": 51,
     "metadata": {},
     "output_type": "execute_result"
    }
   ],
   "source": [
    "# merge of minting period and mint receivers\n",
    "duration_receivers_df = minting_period_df.merge(mint_receivers_df, on='nft_address')\n",
    "duration_receivers_df.drop(['min_timestamp', 'max_timestamp'], axis=1, inplace=True)\n",
    "\n",
    "duration_receivers_df.head()"
   ]
  },
  {
   "cell_type": "code",
   "execution_count": 52,
   "metadata": {},
   "outputs": [
    {
     "data": {
      "text/plain": [
       "<AxesSubplot:xlabel='duration', ylabel='num_receivers'>"
      ]
     },
     "execution_count": 52,
     "metadata": {},
     "output_type": "execute_result"
    },
    {
     "data": {
      "image/png": "[encoded data removed]",
      "text/plain": [
       "<Figure size 432x288 with 1 Axes>"
      ]
     },
     "metadata": {
      "needs_background": "light"
     },
     "output_type": "display_data"
    }
   ],
   "source": [
    "duration_receivers_df.plot.scatter('duration', 'num_receivers', logy=True)"
   ]
  },
  {
   "cell_type": "markdown",
   "metadata": {},
   "source": [
    "# Minting Cost"
   ]
  },
  {
   "cell_type": "code",
   "execution_count": 53,
   "metadata": {},
   "outputs": [
    {
     "data": {
      "text/html": [
       "<div>\n",
       "<style scoped>\n",
       "    .dataframe tbody tr th:only-of-type {\n",
       "        vertical-align: middle;\n",
       "    }\n",
       "\n",
       "    .dataframe tbody tr th {\n",
       "        vertical-align: top;\n",
       "    }\n",
       "\n",
       "    .dataframe thead th {\n",
       "        text-align: right;\n",
       "    }\n",
       "</style>\n",
       "<table border=\"1\" class=\"dataframe\">\n",
       "  <thead>\n",
       "    <tr style=\"text-align: right;\">\n",
       "      <th></th>\n",
       "      <th>nft_address</th>\n",
       "      <th>mean_cost_eth</th>\n",
       "      <th>min_cost_eth</th>\n",
       "      <th>max_cost_eth</th>\n",
       "    </tr>\n",
       "  </thead>\n",
       "  <tbody>\n",
       "    <tr>\n",
       "      <th>0</th>\n",
       "      <td>0x000000000437b3CCE2530936156388Bff5578FC3</td>\n",
       "      <td>0.000000</td>\n",
       "      <td>0.0</td>\n",
       "      <td>0.00</td>\n",
       "    </tr>\n",
       "    <tr>\n",
       "      <th>1</th>\n",
       "      <td>0x00000633Df1228868270bAdB2B812E12e13fdB91</td>\n",
       "      <td>0.010285</td>\n",
       "      <td>0.0</td>\n",
       "      <td>0.30</td>\n",
       "    </tr>\n",
       "    <tr>\n",
       "      <th>2</th>\n",
       "      <td>0x000E49C87d2874431567d38FF9548890aB39BAac</td>\n",
       "      <td>0.322466</td>\n",
       "      <td>0.0</td>\n",
       "      <td>1.60</td>\n",
       "    </tr>\n",
       "    <tr>\n",
       "      <th>3</th>\n",
       "      <td>0x001B4b85192aa034bff1524f181e3a7060e0dC30</td>\n",
       "      <td>0.000000</td>\n",
       "      <td>0.0</td>\n",
       "      <td>0.00</td>\n",
       "    </tr>\n",
       "    <tr>\n",
       "      <th>4</th>\n",
       "      <td>0x004f5683e183908D0f6b688239e3e2D5bbb066CA</td>\n",
       "      <td>0.734243</td>\n",
       "      <td>0.0</td>\n",
       "      <td>1.05</td>\n",
       "    </tr>\n",
       "  </tbody>\n",
       "</table>\n",
       "</div>"
      ],
      "text/plain": [
       "                                  nft_address  mean_cost_eth  min_cost_eth  \\\n",
       "0  0x000000000437b3CCE2530936156388Bff5578FC3       0.000000           0.0   \n",
       "1  0x00000633Df1228868270bAdB2B812E12e13fdB91       0.010285           0.0   \n",
       "2  0x000E49C87d2874431567d38FF9548890aB39BAac       0.322466           0.0   \n",
       "3  0x001B4b85192aa034bff1524f181e3a7060e0dC30       0.000000           0.0   \n",
       "4  0x004f5683e183908D0f6b688239e3e2D5bbb066CA       0.734243           0.0   \n",
       "\n",
       "   max_cost_eth  \n",
       "0          0.00  \n",
       "1          0.30  \n",
       "2          1.60  \n",
       "3          0.00  \n",
       "4          1.05  "
      ]
     },
     "execution_count": 53,
     "metadata": {},
     "output_type": "execute_result"
    }
   ],
   "source": [
    "\n",
    "minting_costs_df = relevant_mints_df.groupby('nft_address', as_index=False).agg(mean_cost=pd.NamedAgg(column='transaction_value', aggfunc=\"mean\"),\n",
    "                     min_cost=pd.NamedAgg(column='transaction_value', aggfunc=\"min\"), max_cost=pd.NamedAgg(column='transaction_value', aggfunc=\"max\"))\n",
    "\n",
    "minting_costs_df['mean_cost_eth'] = minting_costs_df['mean_cost'] / (10**18)\n",
    "minting_costs_df['min_cost_eth'] = minting_costs_df['min_cost'] / (10**18)\n",
    "minting_costs_df['max_cost_eth'] = minting_costs_df['max_cost'] / (10**18)\n",
    "\n",
    "minting_costs_df.drop(['mean_cost', 'min_cost', 'max_cost'], axis=1, inplace=True)\n",
    "\n",
    "minting_costs_df.head()"
   ]
  },
  {
   "cell_type": "code",
   "execution_count": 54,
   "metadata": {},
   "outputs": [
    {
     "data": {
      "text/html": [
       "<div>\n",
       "<style scoped>\n",
       "    .dataframe tbody tr th:only-of-type {\n",
       "        vertical-align: middle;\n",
       "    }\n",
       "\n",
       "    .dataframe tbody tr th {\n",
       "        vertical-align: top;\n",
       "    }\n",
       "\n",
       "    .dataframe thead th {\n",
       "        text-align: right;\n",
       "    }\n",
       "</style>\n",
       "<table border=\"1\" class=\"dataframe\">\n",
       "  <thead>\n",
       "    <tr style=\"text-align: right;\">\n",
       "      <th></th>\n",
       "      <th>nft_address</th>\n",
       "      <th>mean_cost_eth</th>\n",
       "      <th>min_cost_eth</th>\n",
       "      <th>max_cost_eth</th>\n",
       "      <th>duration</th>\n",
       "      <th>num_receivers</th>\n",
       "      <th>num_nfts</th>\n",
       "      <th>weighted_num_receivers</th>\n",
       "    </tr>\n",
       "  </thead>\n",
       "  <tbody>\n",
       "    <tr>\n",
       "      <th>0</th>\n",
       "      <td>0x000000000437b3CCE2530936156388Bff5578FC3</td>\n",
       "      <td>0.000000</td>\n",
       "      <td>0.0</td>\n",
       "      <td>0.00</td>\n",
       "      <td>5918899</td>\n",
       "      <td>26</td>\n",
       "      <td>129</td>\n",
       "      <td>0.201550</td>\n",
       "    </tr>\n",
       "    <tr>\n",
       "      <th>1</th>\n",
       "      <td>0x00000633Df1228868270bAdB2B812E12e13fdB91</td>\n",
       "      <td>0.010285</td>\n",
       "      <td>0.0</td>\n",
       "      <td>0.30</td>\n",
       "      <td>585318</td>\n",
       "      <td>155</td>\n",
       "      <td>1088</td>\n",
       "      <td>0.142463</td>\n",
       "    </tr>\n",
       "    <tr>\n",
       "      <th>2</th>\n",
       "      <td>0x000E49C87d2874431567d38FF9548890aB39BAac</td>\n",
       "      <td>0.322466</td>\n",
       "      <td>0.0</td>\n",
       "      <td>1.60</td>\n",
       "      <td>690601</td>\n",
       "      <td>1615</td>\n",
       "      <td>6650</td>\n",
       "      <td>0.242857</td>\n",
       "    </tr>\n",
       "    <tr>\n",
       "      <th>3</th>\n",
       "      <td>0x001B4b85192aa034bff1524f181e3a7060e0dC30</td>\n",
       "      <td>0.000000</td>\n",
       "      <td>0.0</td>\n",
       "      <td>0.00</td>\n",
       "      <td>820</td>\n",
       "      <td>1</td>\n",
       "      <td>112</td>\n",
       "      <td>0.008929</td>\n",
       "    </tr>\n",
       "    <tr>\n",
       "      <th>4</th>\n",
       "      <td>0x004f5683e183908D0f6b688239e3e2D5bbb066CA</td>\n",
       "      <td>0.734243</td>\n",
       "      <td>0.0</td>\n",
       "      <td>1.05</td>\n",
       "      <td>2730</td>\n",
       "      <td>1292</td>\n",
       "      <td>10000</td>\n",
       "      <td>0.129200</td>\n",
       "    </tr>\n",
       "  </tbody>\n",
       "</table>\n",
       "</div>"
      ],
      "text/plain": [
       "                                  nft_address  mean_cost_eth  min_cost_eth  \\\n",
       "0  0x000000000437b3CCE2530936156388Bff5578FC3       0.000000           0.0   \n",
       "1  0x00000633Df1228868270bAdB2B812E12e13fdB91       0.010285           0.0   \n",
       "2  0x000E49C87d2874431567d38FF9548890aB39BAac       0.322466           0.0   \n",
       "3  0x001B4b85192aa034bff1524f181e3a7060e0dC30       0.000000           0.0   \n",
       "4  0x004f5683e183908D0f6b688239e3e2D5bbb066CA       0.734243           0.0   \n",
       "\n",
       "   max_cost_eth  duration  num_receivers  num_nfts  weighted_num_receivers  \n",
       "0          0.00   5918899             26       129                0.201550  \n",
       "1          0.30    585318            155      1088                0.142463  \n",
       "2          1.60    690601           1615      6650                0.242857  \n",
       "3          0.00       820              1       112                0.008929  \n",
       "4          1.05      2730           1292     10000                0.129200  "
      ]
     },
     "execution_count": 54,
     "metadata": {},
     "output_type": "execute_result"
    }
   ],
   "source": [
    "# contains info about: costs, duration and receivers\n",
    "costs_receivers_df = minting_costs_df.merge(duration_receivers_df, on=\"nft_address\")\n",
    "\n",
    "costs_receivers_df.head()"
   ]
  },
  {
   "cell_type": "code",
   "execution_count": 55,
   "metadata": {},
   "outputs": [
    {
     "data": {
      "text/plain": [
       "<AxesSubplot:xlabel='num_receivers', ylabel='mean_cost_eth'>"
      ]
     },
     "execution_count": 55,
     "metadata": {},
     "output_type": "execute_result"
    },
    {
     "data": {
      "image/png": "[encoded data removed]",
      "text/plain": [
       "<Figure size 432x288 with 1 Axes>"
      ]
     },
     "metadata": {
      "needs_background": "light"
     },
     "output_type": "display_data"
    }
   ],
   "source": [
    "costs_receivers_df.plot.scatter('num_receivers', 'mean_cost_eth')"
   ]
  },
  {
   "cell_type": "code",
   "execution_count": 56,
   "metadata": {},
   "outputs": [
    {
     "data": {
      "text/html": [
       "<div>\n",
       "<style scoped>\n",
       "    .dataframe tbody tr th:only-of-type {\n",
       "        vertical-align: middle;\n",
       "    }\n",
       "\n",
       "    .dataframe tbody tr th {\n",
       "        vertical-align: top;\n",
       "    }\n",
       "\n",
       "    .dataframe thead th {\n",
       "        text-align: right;\n",
       "    }\n",
       "</style>\n",
       "<table border=\"1\" class=\"dataframe\">\n",
       "  <thead>\n",
       "    <tr style=\"text-align: right;\">\n",
       "      <th></th>\n",
       "      <th>nft_address</th>\n",
       "      <th>mean_cost_eth</th>\n",
       "      <th>min_cost_eth</th>\n",
       "      <th>max_cost_eth</th>\n",
       "      <th>duration</th>\n",
       "      <th>num_receivers</th>\n",
       "      <th>num_nfts</th>\n",
       "      <th>weighted_num_receivers</th>\n",
       "    </tr>\n",
       "  </thead>\n",
       "  <tbody>\n",
       "    <tr>\n",
       "      <th>805</th>\n",
       "      <td>0x58A3c68e2D3aAf316239c003779F71aCb870Ee47</td>\n",
       "      <td>140.396493</td>\n",
       "      <td>0.0</td>\n",
       "      <td>15000.647964</td>\n",
       "      <td>15265750</td>\n",
       "      <td>831</td>\n",
       "      <td>1714</td>\n",
       "      <td>0.484831</td>\n",
       "    </tr>\n",
       "  </tbody>\n",
       "</table>\n",
       "</div>"
      ],
      "text/plain": [
       "                                    nft_address  mean_cost_eth  min_cost_eth  \\\n",
       "805  0x58A3c68e2D3aAf316239c003779F71aCb870Ee47     140.396493           0.0   \n",
       "\n",
       "     max_cost_eth  duration  num_receivers  num_nfts  weighted_num_receivers  \n",
       "805  15000.647964  15265750            831      1714                0.484831  "
      ]
     },
     "execution_count": 56,
     "metadata": {},
     "output_type": "execute_result"
    }
   ],
   "source": [
    "costs_receivers_df[costs_receivers_df['mean_cost_eth'] > 100]"
   ]
  },
  {
   "cell_type": "code",
   "execution_count": 57,
   "metadata": {},
   "outputs": [
    {
     "data": {
      "text/plain": [
       "<AxesSubplot:xlabel='num_receivers', ylabel='mean_cost_eth'>"
      ]
     },
     "execution_count": 57,
     "metadata": {},
     "output_type": "execute_result"
    },
    {
     "data": {
      "image/png": "[encoded data removed]",
      "text/plain": [
       "<Figure size 432x288 with 1 Axes>"
      ]
     },
     "metadata": {
      "needs_background": "light"
     },
     "output_type": "display_data"
    }
   ],
   "source": [
    "costs_receivers_df[costs_receivers_df['max_cost_eth'] > 0].plot.scatter('num_receivers', 'mean_cost_eth', logy=True)"
   ]
  },
  {
   "cell_type": "markdown",
   "metadata": {},
   "source": [
    "## Minting cost change over time"
   ]
  },
  {
   "cell_type": "markdown",
   "metadata": {},
   "source": [
    "# Conclusions\n",
    "\n",
    "Things we can infer:\n",
    "\n",
    "1. Most NFTs mint to a relatively small number of receivers.\n",
    "1. Relatively few NFTs mint to a single receiver.\n",
    "1. Most NFTs mint their complete supply very soon after launch (within 24 hours).\n",
    "1. Most Ethereum NFTs charge ETH for minting.\n",
    "\n",
    "This suggests that most NFT projects either:\n",
    "\n",
    "1. Maintain a whitelist of addresses that are allowed to mint their tokens and each mint operation is carried out by a member of the whitelist in exchange for ETH (or other value).\n",
    "1. Allow any address to mint value, but place an upper limit to the number of tokens that can be minted per address.\n",
    "\n",
    "We do not have enough data to determine how many of these NFTs adopt each strategy, but the second strategy seems unlikely because of how easy it is for a single individual or group to create multiple Ethereum addresses to claim tokens from."
   ]
  }
 ],
 "metadata": {
  "interpreter": {
   "hash": "262e18fdf0b1640c739f66dc97f184ccd4a584f281018b2a395f3129eb71fae7"
  },
  "kernelspec": {
   "display_name": "Python 3.9.7 ('web3')",
   "language": "python",
   "name": "python3"
  },
  "language_info": {
   "codemirror_mode": {
    "name": "ipython",
    "version": 3
   },
   "file_extension": ".py",
   "mimetype": "text/x-python",
   "name": "python",
   "nbconvert_exporter": "python",
   "pygments_lexer": "ipython3",
   "version": "3.9.7"
  },
  "orig_nbformat": 4
 },
 "nbformat": 4,
 "nbformat_minor": 2
}
