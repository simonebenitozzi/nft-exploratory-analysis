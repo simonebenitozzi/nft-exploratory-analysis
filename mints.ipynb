{
 "cells": [
  {
   "cell_type": "code",
   "execution_count": 1,
   "metadata": {},
   "outputs": [],
   "source": [
    "import os\n",
    "import sqlite3\n",
    "\n",
    "import matplotlib.pyplot as plt\n",
    "import numpy as np\n",
    "import nfts.dataset"
   ]
  },
  {
   "cell_type": "markdown",
   "metadata": {},
   "source": [
    "### Dataset Opening"
   ]
  },
  {
   "cell_type": "code",
   "execution_count": 3,
   "metadata": {},
   "outputs": [
    {
     "data": {
      "text/html": [
       "<div>\n",
       "<style scoped>\n",
       "    .dataframe tbody tr th:only-of-type {\n",
       "        vertical-align: middle;\n",
       "    }\n",
       "\n",
       "    .dataframe tbody tr th {\n",
       "        vertical-align: top;\n",
       "    }\n",
       "\n",
       "    .dataframe thead th {\n",
       "        text-align: right;\n",
       "    }\n",
       "</style>\n",
       "<table border=\"1\" class=\"dataframe\">\n",
       "  <thead>\n",
       "    <tr style=\"text-align: right;\">\n",
       "      <th></th>\n",
       "      <th>event_id</th>\n",
       "      <th>transaction_hash</th>\n",
       "      <th>block_number</th>\n",
       "      <th>nft_address</th>\n",
       "      <th>token_id</th>\n",
       "      <th>from_address</th>\n",
       "      <th>to_address</th>\n",
       "      <th>transaction_value</th>\n",
       "      <th>timestamp</th>\n",
       "    </tr>\n",
       "  </thead>\n",
       "  <tbody>\n",
       "    <tr>\n",
       "      <th>0</th>\n",
       "      <td>6c6d226e-2096-4b50-ac3f-f7078ca3a0c2</td>\n",
       "      <td>0xe47ac62111db3a6de2957394944501feb7d55cbef00a...</td>\n",
       "      <td>12936415</td>\n",
       "      <td>0x02AA731631c6D7F8241d74F906f5b51724Ab98F8</td>\n",
       "      <td>3223</td>\n",
       "      <td>0x0000000000000000000000000000000000000000</td>\n",
       "      <td>0x8D745Fb3311cC86ED52C177dA0d039C1862F3e13</td>\n",
       "      <td>0.000000e+00</td>\n",
       "      <td>1627776933</td>\n",
       "    </tr>\n",
       "    <tr>\n",
       "      <th>1</th>\n",
       "      <td>263c923f-4db9-4d81-a547-27e1fe5ec405</td>\n",
       "      <td>0xe47ac62111db3a6de2957394944501feb7d55cbef00a...</td>\n",
       "      <td>12936415</td>\n",
       "      <td>0x02AA731631c6D7F8241d74F906f5b51724Ab98F8</td>\n",
       "      <td>5077</td>\n",
       "      <td>0x0000000000000000000000000000000000000000</td>\n",
       "      <td>0x8D745Fb3311cC86ED52C177dA0d039C1862F3e13</td>\n",
       "      <td>0.000000e+00</td>\n",
       "      <td>1627776933</td>\n",
       "    </tr>\n",
       "    <tr>\n",
       "      <th>2</th>\n",
       "      <td>8baa8502-42f9-453e-824a-ad504045c9c5</td>\n",
       "      <td>0xe47ac62111db3a6de2957394944501feb7d55cbef00a...</td>\n",
       "      <td>12936415</td>\n",
       "      <td>0x02AA731631c6D7F8241d74F906f5b51724Ab98F8</td>\n",
       "      <td>5070</td>\n",
       "      <td>0x0000000000000000000000000000000000000000</td>\n",
       "      <td>0x8D745Fb3311cC86ED52C177dA0d039C1862F3e13</td>\n",
       "      <td>0.000000e+00</td>\n",
       "      <td>1627776933</td>\n",
       "    </tr>\n",
       "    <tr>\n",
       "      <th>3</th>\n",
       "      <td>364ee658-ff31-4d0a-a7a7-60d3d7822772</td>\n",
       "      <td>0xe47ac62111db3a6de2957394944501feb7d55cbef00a...</td>\n",
       "      <td>12936415</td>\n",
       "      <td>0x02AA731631c6D7F8241d74F906f5b51724Ab98F8</td>\n",
       "      <td>3757</td>\n",
       "      <td>0x0000000000000000000000000000000000000000</td>\n",
       "      <td>0x8D745Fb3311cC86ED52C177dA0d039C1862F3e13</td>\n",
       "      <td>0.000000e+00</td>\n",
       "      <td>1627776933</td>\n",
       "    </tr>\n",
       "    <tr>\n",
       "      <th>4</th>\n",
       "      <td>58d3adc3-03d2-4e7b-b02c-47957c1f5752</td>\n",
       "      <td>0xd44be17c0298717ce001843069b0a2ca08b577fa2b33...</td>\n",
       "      <td>12936414</td>\n",
       "      <td>0x57f1887a8BF19b14fC0dF6Fd9B2acc9Af147eA85</td>\n",
       "      <td>3252202771441387673917605047769619801375983664...</td>\n",
       "      <td>0x0000000000000000000000000000000000000000</td>\n",
       "      <td>0x283Af0B28c62C092C9727F1Ee09c02CA627EB7F5</td>\n",
       "      <td>2.251726e+15</td>\n",
       "      <td>1627776925</td>\n",
       "    </tr>\n",
       "  </tbody>\n",
       "</table>\n",
       "</div>"
      ],
      "text/plain": [
       "                               event_id  \\\n",
       "0  6c6d226e-2096-4b50-ac3f-f7078ca3a0c2   \n",
       "1  263c923f-4db9-4d81-a547-27e1fe5ec405   \n",
       "2  8baa8502-42f9-453e-824a-ad504045c9c5   \n",
       "3  364ee658-ff31-4d0a-a7a7-60d3d7822772   \n",
       "4  58d3adc3-03d2-4e7b-b02c-47957c1f5752   \n",
       "\n",
       "                                    transaction_hash  block_number  \\\n",
       "0  0xe47ac62111db3a6de2957394944501feb7d55cbef00a...      12936415   \n",
       "1  0xe47ac62111db3a6de2957394944501feb7d55cbef00a...      12936415   \n",
       "2  0xe47ac62111db3a6de2957394944501feb7d55cbef00a...      12936415   \n",
       "3  0xe47ac62111db3a6de2957394944501feb7d55cbef00a...      12936415   \n",
       "4  0xd44be17c0298717ce001843069b0a2ca08b577fa2b33...      12936414   \n",
       "\n",
       "                                  nft_address  \\\n",
       "0  0x02AA731631c6D7F8241d74F906f5b51724Ab98F8   \n",
       "1  0x02AA731631c6D7F8241d74F906f5b51724Ab98F8   \n",
       "2  0x02AA731631c6D7F8241d74F906f5b51724Ab98F8   \n",
       "3  0x02AA731631c6D7F8241d74F906f5b51724Ab98F8   \n",
       "4  0x57f1887a8BF19b14fC0dF6Fd9B2acc9Af147eA85   \n",
       "\n",
       "                                            token_id  \\\n",
       "0                                               3223   \n",
       "1                                               5077   \n",
       "2                                               5070   \n",
       "3                                               3757   \n",
       "4  3252202771441387673917605047769619801375983664...   \n",
       "\n",
       "                                 from_address  \\\n",
       "0  0x0000000000000000000000000000000000000000   \n",
       "1  0x0000000000000000000000000000000000000000   \n",
       "2  0x0000000000000000000000000000000000000000   \n",
       "3  0x0000000000000000000000000000000000000000   \n",
       "4  0x0000000000000000000000000000000000000000   \n",
       "\n",
       "                                   to_address  transaction_value   timestamp  \n",
       "0  0x8D745Fb3311cC86ED52C177dA0d039C1862F3e13       0.000000e+00  1627776933  \n",
       "1  0x8D745Fb3311cC86ED52C177dA0d039C1862F3e13       0.000000e+00  1627776933  \n",
       "2  0x8D745Fb3311cC86ED52C177dA0d039C1862F3e13       0.000000e+00  1627776933  \n",
       "3  0x8D745Fb3311cC86ED52C177dA0d039C1862F3e13       0.000000e+00  1627776933  \n",
       "4  0x283Af0B28c62C092C9727F1Ee09c02CA627EB7F5       2.251726e+15  1627776925  "
      ]
     },
     "execution_count": 3,
     "metadata": {},
     "output_type": "execute_result"
    }
   ],
   "source": [
    "dirname = os.path.dirname(os.path.abspath(\"__file__\"))\n",
    "DATASET_PATH = os.path.join(dirname, 'nfts.sqlite')\n",
    "ds = nfts.dataset.FromSQLite(DATASET_PATH)\n",
    "\n",
    "mints_df = ds.load_dataframe(\"mints\")\n",
    "mints_df.head()"
   ]
  },
  {
   "cell_type": "markdown",
   "metadata": {},
   "source": [
    "### Mints per Contract"
   ]
  },
  {
   "cell_type": "code",
   "execution_count": 5,
   "metadata": {},
   "outputs": [
    {
     "data": {
      "text/plain": [
       "array([[<AxesSubplot:title={'center':'num_nfts'}>]], dtype=object)"
      ]
     },
     "execution_count": 5,
     "metadata": {},
     "output_type": "execute_result"
    },
    {
     "data": {
      "image/png": "[encoded data removed]",
      "text/plain": [
       "<Figure size 432x288 with 1 Axes>"
      ]
     },
     "metadata": {
      "needs_background": "light"
     },
     "output_type": "display_data"
    }
   ],
   "source": [
    "mint_stats_df = mints_df.groupby('nft_address', as_index=False).size().rename(columns={'size':'num_nfts'})\n",
    "mint_stats_df.hist('num_nfts', bins=200, log=True)"
   ]
  },
  {
   "cell_type": "code",
   "execution_count": 6,
   "metadata": {},
   "outputs": [
    {
     "data": {
      "text/html": [
       "<div>\n",
       "<style scoped>\n",
       "    .dataframe tbody tr th:only-of-type {\n",
       "        vertical-align: middle;\n",
       "    }\n",
       "\n",
       "    .dataframe tbody tr th {\n",
       "        vertical-align: top;\n",
       "    }\n",
       "\n",
       "    .dataframe thead th {\n",
       "        text-align: right;\n",
       "    }\n",
       "</style>\n",
       "<table border=\"1\" class=\"dataframe\">\n",
       "  <thead>\n",
       "    <tr style=\"text-align: right;\">\n",
       "      <th></th>\n",
       "      <th>num_nfts</th>\n",
       "    </tr>\n",
       "  </thead>\n",
       "  <tbody>\n",
       "    <tr>\n",
       "      <th>0.1</th>\n",
       "      <td>1.0</td>\n",
       "    </tr>\n",
       "    <tr>\n",
       "      <th>0.2</th>\n",
       "      <td>2.0</td>\n",
       "    </tr>\n",
       "    <tr>\n",
       "      <th>0.3</th>\n",
       "      <td>3.0</td>\n",
       "    </tr>\n",
       "    <tr>\n",
       "      <th>0.4</th>\n",
       "      <td>7.0</td>\n",
       "    </tr>\n",
       "    <tr>\n",
       "      <th>0.5</th>\n",
       "      <td>15.0</td>\n",
       "    </tr>\n",
       "    <tr>\n",
       "      <th>0.6</th>\n",
       "      <td>36.0</td>\n",
       "    </tr>\n",
       "    <tr>\n",
       "      <th>0.7</th>\n",
       "      <td>100.0</td>\n",
       "    </tr>\n",
       "    <tr>\n",
       "      <th>0.8</th>\n",
       "      <td>315.8</td>\n",
       "    </tr>\n",
       "    <tr>\n",
       "      <th>0.9</th>\n",
       "      <td>1718.6</td>\n",
       "    </tr>\n",
       "    <tr>\n",
       "      <th>1.0</th>\n",
       "      <td>139894.0</td>\n",
       "    </tr>\n",
       "  </tbody>\n",
       "</table>\n",
       "</div>"
      ],
      "text/plain": [
       "     num_nfts\n",
       "0.1       1.0\n",
       "0.2       2.0\n",
       "0.3       3.0\n",
       "0.4       7.0\n",
       "0.5      15.0\n",
       "0.6      36.0\n",
       "0.7     100.0\n",
       "0.8     315.8\n",
       "0.9    1718.6\n",
       "1.0  139894.0"
      ]
     },
     "execution_count": 6,
     "metadata": {},
     "output_type": "execute_result"
    }
   ],
   "source": [
    "mint_stats_df.quantile(q = np.arange(0.1, 1.1, 0.1))"
   ]
  },
  {
   "cell_type": "code",
   "execution_count": 9,
   "metadata": {},
   "outputs": [
    {
     "data": {
      "text/html": [
       "<div>\n",
       "<style scoped>\n",
       "    .dataframe tbody tr th:only-of-type {\n",
       "        vertical-align: middle;\n",
       "    }\n",
       "\n",
       "    .dataframe tbody tr th {\n",
       "        vertical-align: top;\n",
       "    }\n",
       "\n",
       "    .dataframe thead th {\n",
       "        text-align: right;\n",
       "    }\n",
       "</style>\n",
       "<table border=\"1\" class=\"dataframe\">\n",
       "  <thead>\n",
       "    <tr style=\"text-align: right;\">\n",
       "      <th></th>\n",
       "      <th>nft_address</th>\n",
       "      <th>num_nfts</th>\n",
       "    </tr>\n",
       "  </thead>\n",
       "  <tbody>\n",
       "    <tr>\n",
       "      <th>1</th>\n",
       "      <td>0x000000000437b3CCE2530936156388Bff5578FC3</td>\n",
       "      <td>129</td>\n",
       "    </tr>\n",
       "    <tr>\n",
       "      <th>6</th>\n",
       "      <td>0x00000633Df1228868270bAdB2B812E12e13fdB91</td>\n",
       "      <td>1088</td>\n",
       "    </tr>\n",
       "    <tr>\n",
       "      <th>8</th>\n",
       "      <td>0x000E49C87d2874431567d38FF9548890aB39BAac</td>\n",
       "      <td>6650</td>\n",
       "    </tr>\n",
       "    <tr>\n",
       "      <th>9</th>\n",
       "      <td>0x001B4b85192aa034bff1524f181e3a7060e0dC30</td>\n",
       "      <td>112</td>\n",
       "    </tr>\n",
       "    <tr>\n",
       "      <th>17</th>\n",
       "      <td>0x004f5683e183908D0f6b688239e3e2D5bbb066CA</td>\n",
       "      <td>10000</td>\n",
       "    </tr>\n",
       "  </tbody>\n",
       "</table>\n",
       "</div>"
      ],
      "text/plain": [
       "                                   nft_address  num_nfts\n",
       "1   0x000000000437b3CCE2530936156388Bff5578FC3       129\n",
       "6   0x00000633Df1228868270bAdB2B812E12e13fdB91      1088\n",
       "8   0x000E49C87d2874431567d38FF9548890aB39BAac      6650\n",
       "9   0x001B4b85192aa034bff1524f181e3a7060e0dC30       112\n",
       "17  0x004f5683e183908D0f6b688239e3e2D5bbb066CA     10000"
      ]
     },
     "execution_count": 9,
     "metadata": {},
     "output_type": "execute_result"
    }
   ],
   "source": [
    "analysis_sample_df = mint_stats_df[mint_stats_df['num_nfts']>=100]\n",
    "analysis_sample_df.head()"
   ]
  },
  {
   "cell_type": "code",
   "execution_count": 10,
   "metadata": {},
   "outputs": [
    {
     "data": {
      "text/plain": [
       "nft_address    2357\n",
       "num_nfts       2357\n",
       "dtype: int64"
      ]
     },
     "execution_count": 10,
     "metadata": {},
     "output_type": "execute_result"
    }
   ],
   "source": [
    "analysis_sample_df.count()"
   ]
  },
  {
   "cell_type": "markdown",
   "metadata": {},
   "source": [
    "### NFTs minted per address"
   ]
  },
  {
   "cell_type": "code",
   "execution_count": null,
   "metadata": {},
   "outputs": [],
   "source": []
  },
  {
   "cell_type": "markdown",
   "metadata": {},
   "source": [
    "### Minting period"
   ]
  },
  {
   "cell_type": "code",
   "execution_count": null,
   "metadata": {},
   "outputs": [],
   "source": []
  },
  {
   "cell_type": "markdown",
   "metadata": {},
   "source": [
    "### Do NFTs charge for minting?"
   ]
  },
  {
   "cell_type": "code",
   "execution_count": null,
   "metadata": {},
   "outputs": [],
   "source": []
  },
  {
   "cell_type": "markdown",
   "metadata": {},
   "source": [
    "### Conclusions"
   ]
  },
  {
   "cell_type": "markdown",
   "metadata": {},
   "source": []
  }
 ],
 "metadata": {
  "interpreter": {
   "hash": "262e18fdf0b1640c739f66dc97f184ccd4a584f281018b2a395f3129eb71fae7"
  },
  "kernelspec": {
   "display_name": "Python 3.9.7 ('web3')",
   "language": "python",
   "name": "python3"
  },
  "language_info": {
   "codemirror_mode": {
    "name": "ipython",
    "version": 3
   },
   "file_extension": ".py",
   "mimetype": "text/x-python",
   "name": "python",
   "nbconvert_exporter": "python",
   "pygments_lexer": "ipython3",
   "version": "3.9.7"
  },
  "orig_nbformat": 4
 },
 "nbformat": 4,
 "nbformat_minor": 2
}
