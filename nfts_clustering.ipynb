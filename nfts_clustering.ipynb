{
 "cells": [
  {
   "cell_type": "code",
   "execution_count": 1,
   "metadata": {},
   "outputs": [],
   "source": [
    "import os\n",
    "import sqlite3\n",
    "\n",
    "import matplotlib.pyplot as plt\n",
    "import numpy as np\n",
    "import nfts.dataset\n",
    "\n",
    "import pandas as pd\n",
    "import math\n",
    "\n",
    "nfts_merged = pd.read_csv(\"data/nfts_merged.csv\")"
   ]
  },
  {
   "cell_type": "code",
   "execution_count": 3,
   "metadata": {},
   "outputs": [
    {
     "data": {
      "text/html": [
       "<div>\n",
       "<style scoped>\n",
       "    .dataframe tbody tr th:only-of-type {\n",
       "        vertical-align: middle;\n",
       "    }\n",
       "\n",
       "    .dataframe tbody tr th {\n",
       "        vertical-align: top;\n",
       "    }\n",
       "\n",
       "    .dataframe thead th {\n",
       "        text-align: right;\n",
       "    }\n",
       "</style>\n",
       "<table border=\"1\" class=\"dataframe\">\n",
       "  <thead>\n",
       "    <tr style=\"text-align: right;\">\n",
       "      <th></th>\n",
       "      <th>nft_address</th>\n",
       "      <th>name</th>\n",
       "      <th>symbol</th>\n",
       "    </tr>\n",
       "  </thead>\n",
       "  <tbody>\n",
       "    <tr>\n",
       "      <th>0</th>\n",
       "      <td>0xF4ee95274741437636e748DdAc70818B4ED7d043</td>\n",
       "      <td>The Doge Pound</td>\n",
       "      <td>DOGGY</td>\n",
       "    </tr>\n",
       "    <tr>\n",
       "      <th>1</th>\n",
       "      <td>0xba30E5F9Bb24caa003E9f2f0497Ad287FDF95623</td>\n",
       "      <td>BoredApeKennelClub</td>\n",
       "      <td>BAKC</td>\n",
       "    </tr>\n",
       "    <tr>\n",
       "      <th>2</th>\n",
       "      <td>0x7403AC30DE7309a0bF019cdA8EeC034a5507cbB3</td>\n",
       "      <td>Characters</td>\n",
       "      <td>CHAR</td>\n",
       "    </tr>\n",
       "    <tr>\n",
       "      <th>3</th>\n",
       "      <td>0x511372B44231a31527025a3D273C1dc0a83D77aF</td>\n",
       "      <td>Maps Restored</td>\n",
       "      <td>MAP</td>\n",
       "    </tr>\n",
       "    <tr>\n",
       "      <th>4</th>\n",
       "      <td>0x2E956Ed3D7337F4Ed4316A6e8F2EdF74BF84bb54</td>\n",
       "      <td>Neon Junkies</td>\n",
       "      <td>JUNKIES</td>\n",
       "    </tr>\n",
       "  </tbody>\n",
       "</table>\n",
       "</div>"
      ],
      "text/plain": [
       "                                  nft_address                name   symbol\n",
       "0  0xF4ee95274741437636e748DdAc70818B4ED7d043      The Doge Pound    DOGGY\n",
       "1  0xba30E5F9Bb24caa003E9f2f0497Ad287FDF95623  BoredApeKennelClub     BAKC\n",
       "2  0x7403AC30DE7309a0bF019cdA8EeC034a5507cbB3          Characters     CHAR\n",
       "3  0x511372B44231a31527025a3D273C1dc0a83D77aF       Maps Restored      MAP\n",
       "4  0x2E956Ed3D7337F4Ed4316A6e8F2EdF74BF84bb54        Neon Junkies  JUNKIES"
      ]
     },
     "execution_count": 3,
     "metadata": {},
     "output_type": "execute_result"
    }
   ],
   "source": [
    "dirname = os.path.dirname(os.path.abspath(\"__file__\"))\n",
    "DATASET_PATH = os.path.join(dirname, \"data/nfts.sqlite\")\n",
    "ds = nfts.dataset.FromSQLite(DATASET_PATH)\n",
    "\n",
    "nfts_df = ds.load_dataframe(\"nfts\")\n",
    "nfts_df.rename(columns={'address':\"nft_address\"}, inplace=True)\n",
    "nfts_df.head()"
   ]
  },
  {
   "cell_type": "markdown",
   "metadata": {},
   "source": [
    "Collections with most contracts"
   ]
  },
  {
   "cell_type": "code",
   "execution_count": 4,
   "metadata": {},
   "outputs": [
    {
     "data": {
      "text/html": [
       "<div>\n",
       "<style scoped>\n",
       "    .dataframe tbody tr th:only-of-type {\n",
       "        vertical-align: middle;\n",
       "    }\n",
       "\n",
       "    .dataframe tbody tr th {\n",
       "        vertical-align: top;\n",
       "    }\n",
       "\n",
       "    .dataframe thead th {\n",
       "        text-align: right;\n",
       "    }\n",
       "</style>\n",
       "<table border=\"1\" class=\"dataframe\">\n",
       "  <thead>\n",
       "    <tr style=\"text-align: right;\">\n",
       "      <th></th>\n",
       "      <th>name</th>\n",
       "      <th>num_addresses</th>\n",
       "    </tr>\n",
       "  </thead>\n",
       "  <tbody>\n",
       "    <tr>\n",
       "      <th>4894</th>\n",
       "      <td>NFT Basket</td>\n",
       "      <td>68</td>\n",
       "    </tr>\n",
       "    <tr>\n",
       "      <th>0</th>\n",
       "      <td></td>\n",
       "      <td>19</td>\n",
       "    </tr>\n",
       "    <tr>\n",
       "      <th>4933</th>\n",
       "      <td>NFT-LOTTERY</td>\n",
       "      <td>16</td>\n",
       "    </tr>\n",
       "    <tr>\n",
       "      <th>7406</th>\n",
       "      <td>Tinlake Loan Token</td>\n",
       "      <td>13</td>\n",
       "    </tr>\n",
       "    <tr>\n",
       "      <th>568</th>\n",
       "      <td>Artiikorea</td>\n",
       "      <td>9</td>\n",
       "    </tr>\n",
       "  </tbody>\n",
       "</table>\n",
       "</div>"
      ],
      "text/plain": [
       "                    name  num_addresses\n",
       "4894          NFT Basket             68\n",
       "0                                    19\n",
       "4933         NFT-LOTTERY             16\n",
       "7406  Tinlake Loan Token             13\n",
       "568           Artiikorea              9"
      ]
     },
     "execution_count": 4,
     "metadata": {},
     "output_type": "execute_result"
    }
   ],
   "source": [
    "collections_df = nfts_df.groupby('name', as_index=False).size().rename(columns={'size':'num_addresses'})\n",
    "collections_df.sort_values('num_addresses', ascending=False, inplace=True)\n",
    "\n",
    "collections_df.head()"
   ]
  },
  {
   "cell_type": "markdown",
   "metadata": {},
   "source": [
    "# Datasets Merging"
   ]
  },
  {
   "cell_type": "markdown",
   "metadata": {},
   "source": [
    "## Tables loading and projection"
   ]
  },
  {
   "cell_type": "code",
   "execution_count": 5,
   "metadata": {},
   "outputs": [],
   "source": [
    "mints_df = ds.load_dataframe(\"mints\")\n",
    "mints_df = mints_df[['nft_address', 'transaction_value', 'timestamp']]"
   ]
  },
  {
   "cell_type": "code",
   "execution_count": null,
   "metadata": {},
   "outputs": [],
   "source": [
    "transfers_df = ds.load_dataframe(\"transfers\")\n",
    "transfers_df = transfers_df[['nft_address', 'transaction_value']]\n",
    "\n",
    "transfers_stats_df = ds.load_dataframe(\"transfer_statistics_by_address\")\n",
    "transfers_stats_df.rename(columns={'address':\"owner_address\"}, inplace=True)"
   ]
  },
  {
   "cell_type": "code",
   "execution_count": null,
   "metadata": {},
   "outputs": [],
   "source": [
    "current_owners_df = ds.load_dataframe(\"current_owners\")\n",
    "current_owners_df = current_owners_df[['nft_address', 'owner']]"
   ]
  },
  {
   "cell_type": "code",
   "execution_count": null,
   "metadata": {},
   "outputs": [],
   "source": [
    "current_market_values_df = ds.load_dataframe(\"current_market_values\")\n",
    "current_market_values_df = current_market_values_df[['nft_address', 'market_value']]"
   ]
  },
  {
   "cell_type": "code",
   "execution_count": null,
   "metadata": {},
   "outputs": [
    {
     "name": "stdout",
     "output_type": "stream",
     "text": [
      "['nft_address', 'name', 'symbol'] nfts\n",
      "['nft_address', 'transaction_value', 'timestamp'] mints\n",
      "['nft_address', 'transaction_value'] transfers\n",
      "['owner_address', 'transfers_out', 'transfers_in'] transfers stats\n",
      "['nft_address', 'owner'] owners\n",
      "['nft_address', 'market_value'] values\n"
     ]
    }
   ],
   "source": [
    "\n",
    "# TODO: remove cell\n",
    "\n",
    "print(list(nfts_df.keys()), \"nfts\")\n",
    "\n",
    "print(list(mints_df.keys()), \"mints\")\n",
    "print(list(transfers_df.keys()), \"transfers\")\n",
    "print(list(transfers_stats_df.keys()), \"transfers stats\")\n",
    "print(list(current_owners_df.keys()), \"owners\")\n",
    "print(list(current_market_values_df.keys()), \"values\")"
   ]
  },
  {
   "cell_type": "markdown",
   "metadata": {},
   "source": [
    "There's a total of 9388 NFT unique addresses, as in the *nfts dataset*\n",
    "\n",
    "None of the other addresses contains this number of addresses, therefore there are addresses withoutdata on minting, owners and value"
   ]
  },
  {
   "cell_type": "code",
   "execution_count": null,
   "metadata": {},
   "outputs": [
    {
     "name": "stdout",
     "output_type": "stream",
     "text": [
      "nft unique addresses:\t 9388  /  9388\n",
      "Mint unique addresses:\t 7647  /  6667282\n",
      "Transfers unique addresses:\t 6701  /  4514729\n",
      "Owners unique addresses:\t 9292  /  7020950\n",
      "Values unique addresses:\t 9292  /  7020950\n"
     ]
    }
   ],
   "source": [
    "\n",
    "print(\"nft unique addresses:\\t\", nfts_df[\"nft_address\"].nunique(), \" / \", len(nfts_df))\n",
    "print(\"Mints unique addresses:\\t\", mints_df[\"nft_address\"].nunique(), \" / \", len(mints_df))\n",
    "print(\"Transfers unique addresses:\\t\", transfers_df[\"nft_address\"].nunique(), \" / \", len(transfers_df))\n",
    "print(\"Owners unique addresses:\\t\", current_owners_df[\"nft_address\"].nunique(), \" / \", len(current_owners_df))\n",
    "print(\"Values unique addresses:\\t\", current_market_values_df[\"nft_address\"].nunique(), \" / \", len(current_market_values_df))\n"
   ]
  },
  {
   "cell_type": "markdown",
   "metadata": {},
   "source": [
    "## GroupBy and Aggregate"
   ]
  },
  {
   "cell_type": "code",
   "execution_count": null,
   "metadata": {},
   "outputs": [],
   "source": [
    "\n",
    "# TODO: for each nft_address, number of transfers (see transfers.ipynb)\n",
    "\n",
    "nfts_merged_df = nfts_df\n",
    "\n",
    "# for mints, take the average transaction_value and the difference in timestamp\n",
    "mints_agg_df = mints_df.groupby(\"nft_address\", as_index=False).aggregate({'transaction_value': 'mean', \n",
    "                                                                            'timestamp': lambda x: x.max() - x.min()})\n",
    "mints_agg_df.rename(columns={\"transaction_value\":\"mints_avg_transaction_value\", \"timestamp\":\"mints_timestamp_range\"}, inplace=True)\n",
    "nfts_merged_df = nfts_merged_df.merge(mints_agg_df, on=\"nft_address\", how=\"left\")\n",
    "\n",
    "# for transfers, take the average transaction_value\n",
    "transfers_agg_df = transfers_df.groupby(\"nft_address\", as_index=False).aggregate(transfers_avg_transaction_value=pd.NamedAgg(column=\"transaction_value\", aggfunc=\"mean\"),\n",
    "                                                                                    transfers_count=pd.NamedAgg(column=\"transaction_value\", aggfunc=\"count\"))\n",
    "nfts_merged_df = nfts_merged_df.merge(transfers_agg_df, on=\"nft_address\", how=\"left\")\n",
    "\n",
    "# number of current owners\n",
    "owners_agg_df = current_owners_df.groupby(\"nft_address\", as_index=False).count()\n",
    "owners_agg_df.rename(columns={\"owner\":\"num_owners\"}, inplace=True) \n",
    "nfts_merged_df = nfts_merged_df.merge(owners_agg_df, on=\"nft_address\", how=\"left\")\n",
    "\n",
    "# average market values\n",
    "values_agg_df = current_market_values_df.groupby(\"nft_address\", as_index=False).mean()\n",
    "values_agg_df.rename(columns={\"market_value\":\"avg_market_value\"}, inplace=True) \n",
    "nfts_merged_df = nfts_merged_df.merge(values_agg_df, on=\"nft_address\", how=\"left\")"
   ]
  },
  {
   "cell_type": "markdown",
   "metadata": {},
   "source": [
    "Costs conversion to ETH"
   ]
  },
  {
   "cell_type": "code",
   "execution_count": null,
   "metadata": {},
   "outputs": [
    {
     "data": {
      "text/html": [
       "<div>\n",
       "<style scoped>\n",
       "    .dataframe tbody tr th:only-of-type {\n",
       "        vertical-align: middle;\n",
       "    }\n",
       "\n",
       "    .dataframe tbody tr th {\n",
       "        vertical-align: top;\n",
       "    }\n",
       "\n",
       "    .dataframe thead th {\n",
       "        text-align: right;\n",
       "    }\n",
       "</style>\n",
       "<table border=\"1\" class=\"dataframe\">\n",
       "  <thead>\n",
       "    <tr style=\"text-align: right;\">\n",
       "      <th></th>\n",
       "      <th>nft_address</th>\n",
       "      <th>name</th>\n",
       "      <th>symbol</th>\n",
       "      <th>mints_avg_transaction_value</th>\n",
       "      <th>mints_timestamp_range</th>\n",
       "      <th>transfers_avg_transaction_value</th>\n",
       "      <th>transfers_count</th>\n",
       "      <th>num_owners</th>\n",
       "      <th>avg_market_value</th>\n",
       "    </tr>\n",
       "  </thead>\n",
       "  <tbody>\n",
       "    <tr>\n",
       "      <th>0</th>\n",
       "      <td>0xF4ee95274741437636e748DdAc70818B4ED7d043</td>\n",
       "      <td>The Doge Pound</td>\n",
       "      <td>DOGGY</td>\n",
       "      <td>0.833024</td>\n",
       "      <td>444184.0</td>\n",
       "      <td>0.809497</td>\n",
       "      <td>15352.0</td>\n",
       "      <td>10000.0</td>\n",
       "      <td>1.013126</td>\n",
       "    </tr>\n",
       "    <tr>\n",
       "      <th>1</th>\n",
       "      <td>0xba30E5F9Bb24caa003E9f2f0497Ad287FDF95623</td>\n",
       "      <td>BoredApeKennelClub</td>\n",
       "      <td>BAKC</td>\n",
       "      <td>0.000000</td>\n",
       "      <td>605983.0</td>\n",
       "      <td>1.782388</td>\n",
       "      <td>18137.0</td>\n",
       "      <td>9602.0</td>\n",
       "      <td>1.701389</td>\n",
       "    </tr>\n",
       "    <tr>\n",
       "      <th>2</th>\n",
       "      <td>0x7403AC30DE7309a0bF019cdA8EeC034a5507cbB3</td>\n",
       "      <td>Characters</td>\n",
       "      <td>CHAR</td>\n",
       "      <td>0.019601</td>\n",
       "      <td>1508463.0</td>\n",
       "      <td>0.144810</td>\n",
       "      <td>4308.0</td>\n",
       "      <td>7242.0</td>\n",
       "      <td>0.077697</td>\n",
       "    </tr>\n",
       "    <tr>\n",
       "      <th>3</th>\n",
       "      <td>0x511372B44231a31527025a3D273C1dc0a83D77aF</td>\n",
       "      <td>Maps Restored</td>\n",
       "      <td>MAP</td>\n",
       "      <td>0.000000</td>\n",
       "      <td>1802082.0</td>\n",
       "      <td>0.107217</td>\n",
       "      <td>791.0</td>\n",
       "      <td>4440.0</td>\n",
       "      <td>0.017773</td>\n",
       "    </tr>\n",
       "    <tr>\n",
       "      <th>4</th>\n",
       "      <td>0x2E956Ed3D7337F4Ed4316A6e8F2EdF74BF84bb54</td>\n",
       "      <td>Neon Junkies</td>\n",
       "      <td>JUNKIES</td>\n",
       "      <td>0.219857</td>\n",
       "      <td>1935393.0</td>\n",
       "      <td>0.088245</td>\n",
       "      <td>3152.0</td>\n",
       "      <td>9095.0</td>\n",
       "      <td>0.163138</td>\n",
       "    </tr>\n",
       "  </tbody>\n",
       "</table>\n",
       "</div>"
      ],
      "text/plain": [
       "                                  nft_address                name   symbol  \\\n",
       "0  0xF4ee95274741437636e748DdAc70818B4ED7d043      The Doge Pound    DOGGY   \n",
       "1  0xba30E5F9Bb24caa003E9f2f0497Ad287FDF95623  BoredApeKennelClub     BAKC   \n",
       "2  0x7403AC30DE7309a0bF019cdA8EeC034a5507cbB3          Characters     CHAR   \n",
       "3  0x511372B44231a31527025a3D273C1dc0a83D77aF       Maps Restored      MAP   \n",
       "4  0x2E956Ed3D7337F4Ed4316A6e8F2EdF74BF84bb54        Neon Junkies  JUNKIES   \n",
       "\n",
       "   mints_avg_transaction_value  mints_timestamp_range  \\\n",
       "0                     0.833024               444184.0   \n",
       "1                     0.000000               605983.0   \n",
       "2                     0.019601              1508463.0   \n",
       "3                     0.000000              1802082.0   \n",
       "4                     0.219857              1935393.0   \n",
       "\n",
       "   transfers_avg_transaction_value  transfers_count  num_owners  \\\n",
       "0                         0.809497          15352.0     10000.0   \n",
       "1                         1.782388          18137.0      9602.0   \n",
       "2                         0.144810           4308.0      7242.0   \n",
       "3                         0.107217            791.0      4440.0   \n",
       "4                         0.088245           3152.0      9095.0   \n",
       "\n",
       "   avg_market_value  \n",
       "0          1.013126  \n",
       "1          1.701389  \n",
       "2          0.077697  \n",
       "3          0.017773  \n",
       "4          0.163138  "
      ]
     },
     "execution_count": 12,
     "metadata": {},
     "output_type": "execute_result"
    }
   ],
   "source": [
    "nfts_merged_df[\"mints_avg_transaction_value\"] = nfts_merged_df[\"mints_avg_transaction_value\"] / (10**18)\n",
    "nfts_merged_df[\"transfers_avg_transaction_value\"] = nfts_merged_df[\"transfers_avg_transaction_value\"] / (10**18)\n",
    "nfts_merged_df[\"avg_market_value\"] = nfts_merged_df[\"avg_market_value\"] / (10**18)\n",
    "\n",
    "nfts_merged_df.to_csv(\"data/nfts_merged.csv\", index=False)\n",
    "nfts_merged_df.head()"
   ]
  },
  {
   "cell_type": "markdown",
   "metadata": {},
   "source": [
    "# Principal Component Analysis\n",
    "\n",
    "- *after attribute selection*\n",
    "- execute PCA (look for a library)\n",
    "- evaluate variance and advantages\n",
    "- choose if using it or nah (and in case, with how many dimensions)"
   ]
  },
  {
   "cell_type": "code",
   "execution_count": null,
   "metadata": {},
   "outputs": [],
   "source": []
  },
  {
   "cell_type": "markdown",
   "metadata": {},
   "source": [
    "# Clustering"
   ]
  },
  {
   "cell_type": "markdown",
   "metadata": {},
   "source": [
    "## Clustering Tendency\n",
    "\n",
    "- Hopkins\n",
    "- VAT"
   ]
  },
  {
   "cell_type": "code",
   "execution_count": null,
   "metadata": {},
   "outputs": [],
   "source": []
  },
  {
   "cell_type": "markdown",
   "metadata": {},
   "source": [
    "## Clustering Quality\n",
    "\n",
    "- Choice of *K*\n",
    "    - Elbow Point\n",
    "    - distance from random *(?)*\n",
    "- Silhouette (inter/intra measures)"
   ]
  },
  {
   "cell_type": "code",
   "execution_count": null,
   "metadata": {},
   "outputs": [],
   "source": []
  },
  {
   "cell_type": "markdown",
   "metadata": {},
   "source": [
    "# Conclusions"
   ]
  }
 ],
 "metadata": {
  "kernelspec": {
   "display_name": "Python 3.9.7 ('web3')",
   "language": "python",
   "name": "python3"
  },
  "language_info": {
   "codemirror_mode": {
    "name": "ipython",
    "version": 3
   },
   "file_extension": ".py",
   "mimetype": "text/x-python",
   "name": "python",
   "nbconvert_exporter": "python",
   "pygments_lexer": "ipython3",
   "version": "3.9.7"
  },
  "orig_nbformat": 4,
  "vscode": {
   "interpreter": {
    "hash": "c735468dad271d162d6216e9fed37b5150144cdf26f80e2e209980cba0ddc717"
   }
  }
 },
 "nbformat": 4,
 "nbformat_minor": 2
}
