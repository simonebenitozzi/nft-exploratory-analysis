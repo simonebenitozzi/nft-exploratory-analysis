{
 "cells": [
  {
   "cell_type": "code",
   "execution_count": 12,
   "metadata": {},
   "outputs": [],
   "source": [
    "\n",
    "# TODO: for each ds, load it, filter relevant columns and join on nft_address"
   ]
  },
  {
   "cell_type": "code",
   "execution_count": 2,
   "metadata": {},
   "outputs": [],
   "source": [
    "import os\n",
    "import sqlite3\n",
    "\n",
    "import matplotlib.pyplot as plt\n",
    "import numpy as np\n",
    "import nfts.dataset\n",
    "\n",
    "import pandas as pd"
   ]
  },
  {
   "cell_type": "code",
   "execution_count": 6,
   "metadata": {},
   "outputs": [
    {
     "data": {
      "text/html": [
       "<div>\n",
       "<style scoped>\n",
       "    .dataframe tbody tr th:only-of-type {\n",
       "        vertical-align: middle;\n",
       "    }\n",
       "\n",
       "    .dataframe tbody tr th {\n",
       "        vertical-align: top;\n",
       "    }\n",
       "\n",
       "    .dataframe thead th {\n",
       "        text-align: right;\n",
       "    }\n",
       "</style>\n",
       "<table border=\"1\" class=\"dataframe\">\n",
       "  <thead>\n",
       "    <tr style=\"text-align: right;\">\n",
       "      <th></th>\n",
       "      <th>address</th>\n",
       "      <th>name</th>\n",
       "      <th>symbol</th>\n",
       "    </tr>\n",
       "  </thead>\n",
       "  <tbody>\n",
       "    <tr>\n",
       "      <th>0</th>\n",
       "      <td>0xF4ee95274741437636e748DdAc70818B4ED7d043</td>\n",
       "      <td>The Doge Pound</td>\n",
       "      <td>DOGGY</td>\n",
       "    </tr>\n",
       "    <tr>\n",
       "      <th>1</th>\n",
       "      <td>0xba30E5F9Bb24caa003E9f2f0497Ad287FDF95623</td>\n",
       "      <td>BoredApeKennelClub</td>\n",
       "      <td>BAKC</td>\n",
       "    </tr>\n",
       "    <tr>\n",
       "      <th>2</th>\n",
       "      <td>0x7403AC30DE7309a0bF019cdA8EeC034a5507cbB3</td>\n",
       "      <td>Characters</td>\n",
       "      <td>CHAR</td>\n",
       "    </tr>\n",
       "    <tr>\n",
       "      <th>3</th>\n",
       "      <td>0x511372B44231a31527025a3D273C1dc0a83D77aF</td>\n",
       "      <td>Maps Restored</td>\n",
       "      <td>MAP</td>\n",
       "    </tr>\n",
       "    <tr>\n",
       "      <th>4</th>\n",
       "      <td>0x2E956Ed3D7337F4Ed4316A6e8F2EdF74BF84bb54</td>\n",
       "      <td>Neon Junkies</td>\n",
       "      <td>JUNKIES</td>\n",
       "    </tr>\n",
       "  </tbody>\n",
       "</table>\n",
       "</div>"
      ],
      "text/plain": [
       "                                      address                name   symbol\n",
       "0  0xF4ee95274741437636e748DdAc70818B4ED7d043      The Doge Pound    DOGGY\n",
       "1  0xba30E5F9Bb24caa003E9f2f0497Ad287FDF95623  BoredApeKennelClub     BAKC\n",
       "2  0x7403AC30DE7309a0bF019cdA8EeC034a5507cbB3          Characters     CHAR\n",
       "3  0x511372B44231a31527025a3D273C1dc0a83D77aF       Maps Restored      MAP\n",
       "4  0x2E956Ed3D7337F4Ed4316A6e8F2EdF74BF84bb54        Neon Junkies  JUNKIES"
      ]
     },
     "execution_count": 6,
     "metadata": {},
     "output_type": "execute_result"
    }
   ],
   "source": [
    "dirname = os.path.dirname(os.path.abspath(\"__file__\"))\n",
    "DATASET_PATH = os.path.join(dirname, \"nfts.sqlite\")\n",
    "ds = nfts.dataset.FromSQLite(DATASET_PATH)\n",
    "\n",
    "nfts_df = ds.load_dataframe(\"nfts\")\n",
    "nfts_df.head()"
   ]
  },
  {
   "cell_type": "markdown",
   "metadata": {},
   "source": [
    "Collections with most contracts"
   ]
  },
  {
   "cell_type": "code",
   "execution_count": 11,
   "metadata": {},
   "outputs": [
    {
     "data": {
      "text/html": [
       "<div>\n",
       "<style scoped>\n",
       "    .dataframe tbody tr th:only-of-type {\n",
       "        vertical-align: middle;\n",
       "    }\n",
       "\n",
       "    .dataframe tbody tr th {\n",
       "        vertical-align: top;\n",
       "    }\n",
       "\n",
       "    .dataframe thead th {\n",
       "        text-align: right;\n",
       "    }\n",
       "</style>\n",
       "<table border=\"1\" class=\"dataframe\">\n",
       "  <thead>\n",
       "    <tr style=\"text-align: right;\">\n",
       "      <th></th>\n",
       "      <th>name</th>\n",
       "      <th>num_addresses</th>\n",
       "    </tr>\n",
       "  </thead>\n",
       "  <tbody>\n",
       "    <tr>\n",
       "      <th>4894</th>\n",
       "      <td>NFT Basket</td>\n",
       "      <td>68</td>\n",
       "    </tr>\n",
       "    <tr>\n",
       "      <th>0</th>\n",
       "      <td></td>\n",
       "      <td>19</td>\n",
       "    </tr>\n",
       "    <tr>\n",
       "      <th>4933</th>\n",
       "      <td>NFT-LOTTERY</td>\n",
       "      <td>16</td>\n",
       "    </tr>\n",
       "    <tr>\n",
       "      <th>7406</th>\n",
       "      <td>Tinlake Loan Token</td>\n",
       "      <td>13</td>\n",
       "    </tr>\n",
       "    <tr>\n",
       "      <th>568</th>\n",
       "      <td>Artiikorea</td>\n",
       "      <td>9</td>\n",
       "    </tr>\n",
       "  </tbody>\n",
       "</table>\n",
       "</div>"
      ],
      "text/plain": [
       "                    name  num_addresses\n",
       "4894          NFT Basket             68\n",
       "0                                    19\n",
       "4933         NFT-LOTTERY             16\n",
       "7406  Tinlake Loan Token             13\n",
       "568           Artiikorea              9"
      ]
     },
     "execution_count": 11,
     "metadata": {},
     "output_type": "execute_result"
    }
   ],
   "source": [
    "collections_df = nfts_df.groupby('name', as_index=False).size().rename(columns={'size':'num_addresses'})\n",
    "collections_df.sort_values('num_addresses', ascending=False, inplace=True)\n",
    "\n",
    "collections_df.head()"
   ]
  },
  {
   "cell_type": "markdown",
   "metadata": {},
   "source": [
    "# Tables Joining\n",
    "\n",
    "- nfts\n",
    "    - address\n",
    "- mints\n",
    "    - transaction_value\n",
    "    - timestamp\n",
    "    - block_number ???\n",
    "    - to_address ???\n",
    "- transfers\n",
    "    - transaction_value\n",
    "    - block_number ???\n",
    "- current_owners\n",
    "    - owner\n",
    "- current_market_values\n",
    "    - market_value\n",
    "- transfer_statistics_by_address\n",
    "    - number of transfers"
   ]
  },
  {
   "cell_type": "markdown",
   "metadata": {},
   "source": [
    "Tables loading and projection"
   ]
  },
  {
   "cell_type": "code",
   "execution_count": 13,
   "metadata": {},
   "outputs": [],
   "source": [
    "# nfts_df = nfts_df[['nft_address']] It's not needed, unless for graphical representation including name of collections\n",
    "\n",
    "mints_df = ds.load_dataframe(\"mints\")\n",
    "mints_df = mints_df[['nft_address', 'transaction_value', 'timestamp']]\n",
    "\n",
    "transfers_df = ds.load_dataframe(\"transfers\")\n",
    "transfers_df = transfers_df[['nft_address', 'transaction_value']]\n",
    "# TODO: aggregation functions for nft_address (number of rows should be equal to mints !!!)\n",
    "# TODO: for each nft_address, number of transfers (see transfers.ipynb)\n",
    "\n",
    "current_owners_df = ds.load_dataframe(\"current_owners\")\n",
    "current_owners_df = current_owners_df[['nft_address', 'owner']]\n",
    "\n",
    "current_market_values_df = ds.load_dataframe(\"current_market_values\")\n",
    "current_market_values_df = current_market_values_df[['nft_address', 'market_value']]\n"
   ]
  },
  {
   "cell_type": "markdown",
   "metadata": {},
   "source": [
    "Join in one table, by nft_address"
   ]
  },
  {
   "cell_type": "code",
   "execution_count": null,
   "metadata": {},
   "outputs": [],
   "source": [
    "nfts_clustering_df = mints_df.merge('', on='')"
   ]
  },
  {
   "cell_type": "markdown",
   "metadata": {},
   "source": [
    "# Clustering"
   ]
  },
  {
   "cell_type": "markdown",
   "metadata": {},
   "source": [
    "# Conclusions"
   ]
  }
 ],
 "metadata": {
  "interpreter": {
   "hash": "262e18fdf0b1640c739f66dc97f184ccd4a584f281018b2a395f3129eb71fae7"
  },
  "kernelspec": {
   "display_name": "Python 3.9.7 ('web3')",
   "language": "python",
   "name": "python3"
  },
  "language_info": {
   "codemirror_mode": {
    "name": "ipython",
    "version": 3
   },
   "file_extension": ".py",
   "mimetype": "text/x-python",
   "name": "python",
   "nbconvert_exporter": "python",
   "pygments_lexer": "ipython3",
   "version": "3.9.7"
  },
  "orig_nbformat": 4
 },
 "nbformat": 4,
 "nbformat_minor": 2
}
