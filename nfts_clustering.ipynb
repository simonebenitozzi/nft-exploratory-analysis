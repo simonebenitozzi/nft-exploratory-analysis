{
 "cells": [
  {
   "cell_type": "code",
   "execution_count": 1,
   "metadata": {},
   "outputs": [],
   "source": [
    "\n",
    "# TODO: for each ds, load it, filter relevant columns and join on nft_address"
   ]
  },
  {
   "cell_type": "code",
   "execution_count": 2,
   "metadata": {},
   "outputs": [],
   "source": [
    "import os\n",
    "import sqlite3\n",
    "\n",
    "import matplotlib.pyplot as plt\n",
    "import numpy as np\n",
    "import nfts.dataset\n",
    "\n",
    "import pandas as pd\n",
    "import math"
   ]
  },
  {
   "cell_type": "code",
   "execution_count": 66,
   "metadata": {},
   "outputs": [
    {
     "data": {
      "text/html": [
       "<div>\n",
       "<style scoped>\n",
       "    .dataframe tbody tr th:only-of-type {\n",
       "        vertical-align: middle;\n",
       "    }\n",
       "\n",
       "    .dataframe tbody tr th {\n",
       "        vertical-align: top;\n",
       "    }\n",
       "\n",
       "    .dataframe thead th {\n",
       "        text-align: right;\n",
       "    }\n",
       "</style>\n",
       "<table border=\"1\" class=\"dataframe\">\n",
       "  <thead>\n",
       "    <tr style=\"text-align: right;\">\n",
       "      <th></th>\n",
       "      <th>nft_address</th>\n",
       "      <th>name</th>\n",
       "      <th>symbol</th>\n",
       "    </tr>\n",
       "  </thead>\n",
       "  <tbody>\n",
       "    <tr>\n",
       "      <th>0</th>\n",
       "      <td>0xF4ee95274741437636e748DdAc70818B4ED7d043</td>\n",
       "      <td>The Doge Pound</td>\n",
       "      <td>DOGGY</td>\n",
       "    </tr>\n",
       "    <tr>\n",
       "      <th>1</th>\n",
       "      <td>0xba30E5F9Bb24caa003E9f2f0497Ad287FDF95623</td>\n",
       "      <td>BoredApeKennelClub</td>\n",
       "      <td>BAKC</td>\n",
       "    </tr>\n",
       "    <tr>\n",
       "      <th>2</th>\n",
       "      <td>0x7403AC30DE7309a0bF019cdA8EeC034a5507cbB3</td>\n",
       "      <td>Characters</td>\n",
       "      <td>CHAR</td>\n",
       "    </tr>\n",
       "    <tr>\n",
       "      <th>3</th>\n",
       "      <td>0x511372B44231a31527025a3D273C1dc0a83D77aF</td>\n",
       "      <td>Maps Restored</td>\n",
       "      <td>MAP</td>\n",
       "    </tr>\n",
       "    <tr>\n",
       "      <th>4</th>\n",
       "      <td>0x2E956Ed3D7337F4Ed4316A6e8F2EdF74BF84bb54</td>\n",
       "      <td>Neon Junkies</td>\n",
       "      <td>JUNKIES</td>\n",
       "    </tr>\n",
       "  </tbody>\n",
       "</table>\n",
       "</div>"
      ],
      "text/plain": [
       "                                  nft_address                name   symbol\n",
       "0  0xF4ee95274741437636e748DdAc70818B4ED7d043      The Doge Pound    DOGGY\n",
       "1  0xba30E5F9Bb24caa003E9f2f0497Ad287FDF95623  BoredApeKennelClub     BAKC\n",
       "2  0x7403AC30DE7309a0bF019cdA8EeC034a5507cbB3          Characters     CHAR\n",
       "3  0x511372B44231a31527025a3D273C1dc0a83D77aF       Maps Restored      MAP\n",
       "4  0x2E956Ed3D7337F4Ed4316A6e8F2EdF74BF84bb54        Neon Junkies  JUNKIES"
      ]
     },
     "execution_count": 66,
     "metadata": {},
     "output_type": "execute_result"
    }
   ],
   "source": [
    "dirname = os.path.dirname(os.path.abspath(\"__file__\"))\n",
    "DATASET_PATH = os.path.join(dirname, \"nfts.sqlite\")\n",
    "ds = nfts.dataset.FromSQLite(DATASET_PATH)\n",
    "\n",
    "nfts_df = ds.load_dataframe(\"nfts\")\n",
    "nfts_df.rename(columns={'address':\"nft_address\"}, inplace=True)\n",
    "nfts_df.head()"
   ]
  },
  {
   "cell_type": "markdown",
   "metadata": {},
   "source": [
    "Collections with most contracts"
   ]
  },
  {
   "cell_type": "code",
   "execution_count": 4,
   "metadata": {},
   "outputs": [
    {
     "data": {
      "text/html": [
       "<div>\n",
       "<style scoped>\n",
       "    .dataframe tbody tr th:only-of-type {\n",
       "        vertical-align: middle;\n",
       "    }\n",
       "\n",
       "    .dataframe tbody tr th {\n",
       "        vertical-align: top;\n",
       "    }\n",
       "\n",
       "    .dataframe thead th {\n",
       "        text-align: right;\n",
       "    }\n",
       "</style>\n",
       "<table border=\"1\" class=\"dataframe\">\n",
       "  <thead>\n",
       "    <tr style=\"text-align: right;\">\n",
       "      <th></th>\n",
       "      <th>name</th>\n",
       "      <th>num_addresses</th>\n",
       "    </tr>\n",
       "  </thead>\n",
       "  <tbody>\n",
       "    <tr>\n",
       "      <th>4894</th>\n",
       "      <td>NFT Basket</td>\n",
       "      <td>68</td>\n",
       "    </tr>\n",
       "    <tr>\n",
       "      <th>0</th>\n",
       "      <td></td>\n",
       "      <td>19</td>\n",
       "    </tr>\n",
       "    <tr>\n",
       "      <th>4933</th>\n",
       "      <td>NFT-LOTTERY</td>\n",
       "      <td>16</td>\n",
       "    </tr>\n",
       "    <tr>\n",
       "      <th>7406</th>\n",
       "      <td>Tinlake Loan Token</td>\n",
       "      <td>13</td>\n",
       "    </tr>\n",
       "    <tr>\n",
       "      <th>568</th>\n",
       "      <td>Artiikorea</td>\n",
       "      <td>9</td>\n",
       "    </tr>\n",
       "  </tbody>\n",
       "</table>\n",
       "</div>"
      ],
      "text/plain": [
       "                    name  num_addresses\n",
       "4894          NFT Basket             68\n",
       "0                                    19\n",
       "4933         NFT-LOTTERY             16\n",
       "7406  Tinlake Loan Token             13\n",
       "568           Artiikorea              9"
      ]
     },
     "execution_count": 4,
     "metadata": {},
     "output_type": "execute_result"
    }
   ],
   "source": [
    "collections_df = nfts_df.groupby('name', as_index=False).size().rename(columns={'size':'num_addresses'})\n",
    "collections_df.sort_values('num_addresses', ascending=False, inplace=True)\n",
    "\n",
    "collections_df.head()"
   ]
  },
  {
   "cell_type": "markdown",
   "metadata": {},
   "source": [
    "# Tables Joining\n",
    "\n",
    "- nfts\n",
    "    - address\n",
    "- mints\n",
    "    - transaction_value\n",
    "    - timestamp\n",
    "    - block_number ???\n",
    "    - to_address ???\n",
    "- transfers\n",
    "    - transaction_value\n",
    "    - block_number ???\n",
    "- current_owners\n",
    "    - owner\n",
    "- current_market_values\n",
    "    - market_value\n",
    "- transfer_statistics_by_address\n",
    "    - number of transfers"
   ]
  },
  {
   "cell_type": "markdown",
   "metadata": {},
   "source": [
    "Tables loading and projection"
   ]
  },
  {
   "cell_type": "code",
   "execution_count": 5,
   "metadata": {},
   "outputs": [],
   "source": [
    "mints_df = ds.load_dataframe(\"mints\")\n",
    "mints_df = mints_df[['nft_address', 'transaction_value', 'timestamp']]\n",
    "\n",
    "transfers_df = ds.load_dataframe(\"transfers\")\n",
    "transfers_df = transfers_df[['nft_address', 'transaction_value']]\n",
    "\n",
    "current_owners_df = ds.load_dataframe(\"current_owners\")\n",
    "current_owners_df = current_owners_df[['nft_address', 'owner']]\n",
    "\n",
    "current_market_values_df = ds.load_dataframe(\"current_market_values\")\n",
    "current_market_values_df = current_market_values_df[['nft_address', 'market_value']]\n"
   ]
  },
  {
   "cell_type": "code",
   "execution_count": 32,
   "metadata": {},
   "outputs": [
    {
     "name": "stdout",
     "output_type": "stream",
     "text": [
      "['nft_address', 'name', 'symbol'] nfts\n",
      "['nft_address', 'transaction_value', 'timestamp'] mints\n",
      "['nft_address', 'transaction_value'] transfers\n",
      "['nft_address', 'owner'] owners\n",
      "['nft_address', 'market_value'] values\n"
     ]
    }
   ],
   "source": [
    "\n",
    "# TODO: remove cell\n",
    "\n",
    "print(list(nfts_df.keys()), \"nfts\")\n",
    "\n",
    "print(list(mints_df.keys()), \"mints\")\n",
    "print(list(transfers_df.keys()), \"transfers\")\n",
    "print(list(current_owners_df.keys()), \"owners\")\n",
    "print(list(current_market_values_df.keys()), \"values\")"
   ]
  },
  {
   "cell_type": "code",
   "execution_count": 27,
   "metadata": {},
   "outputs": [
    {
     "name": "stdout",
     "output_type": "stream",
     "text": [
      "nft unique addresses:\t 9388  /  9388\n",
      "Mint unique addresses:\t 7647  /  6667282\n",
      "Transfers unique addresses:\t 6701  /  4514729\n",
      "Owners unique addresses:\t 9292  /  7020950\n",
      "Values unique addresses:\t 9292  /  7020950\n"
     ]
    }
   ],
   "source": [
    "\n",
    "# TODO: for each nft_address, number of transfers (see transfers.ipynb)\n",
    "\n",
    "print(\"nft unique addresses:\\t\", nfts_df[\"nft_address\"].nunique(), \" / \", len(nfts_df))\n",
    "print(\"Mint unique addresses:\\t\", mints_df[\"nft_address\"].nunique(), \" / \", len(mints_df))\n",
    "print(\"Transfers unique addresses:\\t\", transfers_df[\"nft_address\"].nunique(), \" / \", len(transfers_df))\n",
    "print(\"Owners unique addresses:\\t\", current_owners_df[\"nft_address\"].nunique(), \" / \", len(current_owners_df))\n",
    "print(\"Values unique addresses:\\t\", current_market_values_df[\"nft_address\"].nunique(), \" / \", len(current_market_values_df))\n"
   ]
  },
  {
   "cell_type": "code",
   "execution_count": 58,
   "metadata": {},
   "outputs": [],
   "source": [
    "nfts_df.drop(['avg_mints_transaction_value'], axis=1, inplace=True)"
   ]
  },
  {
   "cell_type": "code",
   "execution_count": 72,
   "metadata": {},
   "outputs": [
    {
     "data": {
      "text/html": [
       "<div>\n",
       "<style scoped>\n",
       "    .dataframe tbody tr th:only-of-type {\n",
       "        vertical-align: middle;\n",
       "    }\n",
       "\n",
       "    .dataframe tbody tr th {\n",
       "        vertical-align: top;\n",
       "    }\n",
       "\n",
       "    .dataframe thead th {\n",
       "        text-align: right;\n",
       "    }\n",
       "</style>\n",
       "<table border=\"1\" class=\"dataframe\">\n",
       "  <thead>\n",
       "    <tr style=\"text-align: right;\">\n",
       "      <th></th>\n",
       "      <th>nft_address</th>\n",
       "      <th>name</th>\n",
       "      <th>symbol</th>\n",
       "      <th>transaction_value</th>\n",
       "    </tr>\n",
       "  </thead>\n",
       "  <tbody>\n",
       "    <tr>\n",
       "      <th>0</th>\n",
       "      <td>0xF4ee95274741437636e748DdAc70818B4ED7d043</td>\n",
       "      <td>The Doge Pound</td>\n",
       "      <td>DOGGY</td>\n",
       "      <td>8.094974e+17</td>\n",
       "    </tr>\n",
       "    <tr>\n",
       "      <th>1</th>\n",
       "      <td>0xba30E5F9Bb24caa003E9f2f0497Ad287FDF95623</td>\n",
       "      <td>BoredApeKennelClub</td>\n",
       "      <td>BAKC</td>\n",
       "      <td>1.782388e+18</td>\n",
       "    </tr>\n",
       "    <tr>\n",
       "      <th>2</th>\n",
       "      <td>0x7403AC30DE7309a0bF019cdA8EeC034a5507cbB3</td>\n",
       "      <td>Characters</td>\n",
       "      <td>CHAR</td>\n",
       "      <td>1.448103e+17</td>\n",
       "    </tr>\n",
       "    <tr>\n",
       "      <th>3</th>\n",
       "      <td>0x511372B44231a31527025a3D273C1dc0a83D77aF</td>\n",
       "      <td>Maps Restored</td>\n",
       "      <td>MAP</td>\n",
       "      <td>1.072172e+17</td>\n",
       "    </tr>\n",
       "    <tr>\n",
       "      <th>4</th>\n",
       "      <td>0x2E956Ed3D7337F4Ed4316A6e8F2EdF74BF84bb54</td>\n",
       "      <td>Neon Junkies</td>\n",
       "      <td>JUNKIES</td>\n",
       "      <td>8.824530e+16</td>\n",
       "    </tr>\n",
       "  </tbody>\n",
       "</table>\n",
       "</div>"
      ],
      "text/plain": [
       "                                  nft_address                name   symbol  \\\n",
       "0  0xF4ee95274741437636e748DdAc70818B4ED7d043      The Doge Pound    DOGGY   \n",
       "1  0xba30E5F9Bb24caa003E9f2f0497Ad287FDF95623  BoredApeKennelClub     BAKC   \n",
       "2  0x7403AC30DE7309a0bF019cdA8EeC034a5507cbB3          Characters     CHAR   \n",
       "3  0x511372B44231a31527025a3D273C1dc0a83D77aF       Maps Restored      MAP   \n",
       "4  0x2E956Ed3D7337F4Ed4316A6e8F2EdF74BF84bb54        Neon Junkies  JUNKIES   \n",
       "\n",
       "   transaction_value  \n",
       "0       8.094974e+17  \n",
       "1       1.782388e+18  \n",
       "2       1.448103e+17  \n",
       "3       1.072172e+17  \n",
       "4       8.824530e+16  "
      ]
     },
     "execution_count": 72,
     "metadata": {},
     "output_type": "execute_result"
    }
   ],
   "source": [
    "\n",
    "# TODO: change column names before merge\n",
    "\n",
    "# for mints, take the average transaction_value and the difference in timestamp\n",
    "mints_grouped_df = mints_df.groupby(\"nft_address\", as_index=False).aggregate({'transaction_value': 'mean', 'timestamp': lambda x: x.max() - x.min()}) \n",
    "nfts_merged_df = nfts_df.merge(mints_grouped_df, on=\"nft_address\", how=\"left\")\n",
    "\n",
    "# for transfers\n",
    "transfers_grouped_df = transfers_df.groupby(\"nft_address\", as_index=False).mean() \n",
    "nfts_merged_df = nfts_df.merge(transfers_grouped_df, on=\"nft_address\", how=\"left\")\n",
    "\n",
    "nfts_merged_df.head()"
   ]
  },
  {
   "cell_type": "markdown",
   "metadata": {},
   "source": [
    "# Clustering"
   ]
  },
  {
   "cell_type": "markdown",
   "metadata": {},
   "source": [
    "# Conclusions"
   ]
  }
 ],
 "metadata": {
  "kernelspec": {
   "display_name": "Python 3.9.7 ('web3')",
   "language": "python",
   "name": "python3"
  },
  "language_info": {
   "codemirror_mode": {
    "name": "ipython",
    "version": 3
   },
   "file_extension": ".py",
   "mimetype": "text/x-python",
   "name": "python",
   "nbconvert_exporter": "python",
   "pygments_lexer": "ipython3",
   "version": "3.9.7"
  },
  "orig_nbformat": 4,
  "vscode": {
   "interpreter": {
    "hash": "c735468dad271d162d6216e9fed37b5150144cdf26f80e2e209980cba0ddc717"
   }
  }
 },
 "nbformat": 4,
 "nbformat_minor": 2
}
